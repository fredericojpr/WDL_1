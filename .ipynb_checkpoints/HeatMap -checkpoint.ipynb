{
 "cells": [
  {
   "cell_type": "code",
   "execution_count": 54,
   "metadata": {},
   "outputs": [],
   "source": [
    "import pandas as pd\n",
    "import numpy as np\n",
    "import matplotlib.pyplot as plt\n",
    "import gmaps \n",
    "import gmaps.datasets \n",
    "from IPython.display import display"
   ]
  },
  {
   "cell_type": "code",
   "execution_count": 41,
   "metadata": {},
   "outputs": [
    {
     "data": {
      "text/html": [
       "<div>\n",
       "<style scoped>\n",
       "    .dataframe tbody tr th:only-of-type {\n",
       "        vertical-align: middle;\n",
       "    }\n",
       "\n",
       "    .dataframe tbody tr th {\n",
       "        vertical-align: top;\n",
       "    }\n",
       "\n",
       "    .dataframe thead th {\n",
       "        text-align: right;\n",
       "    }\n",
       "</style>\n",
       "<table border=\"1\" class=\"dataframe\">\n",
       "  <thead>\n",
       "    <tr style=\"text-align: right;\">\n",
       "      <th></th>\n",
       "      <th>Unnamed: 0</th>\n",
       "      <th>Permit Type Desc</th>\n",
       "      <th>Permit Num</th>\n",
       "      <th>Permit Class Mapped</th>\n",
       "      <th>Permit Class</th>\n",
       "      <th>Work Class</th>\n",
       "      <th>Condominium</th>\n",
       "      <th>Project Name</th>\n",
       "      <th>Description</th>\n",
       "      <th>Applied Date</th>\n",
       "      <th>Issued Date</th>\n",
       "      <th>Calendar Year Issued</th>\n",
       "      <th>Status Current</th>\n",
       "      <th>Status Date</th>\n",
       "      <th>Expires Date</th>\n",
       "      <th>Completed Date</th>\n",
       "      <th>Location</th>\n",
       "    </tr>\n",
       "  </thead>\n",
       "  <tbody>\n",
       "    <tr>\n",
       "      <th>0</th>\n",
       "      <td>23</td>\n",
       "      <td>Electrical Permit</td>\n",
       "      <td>2007-132615 EP</td>\n",
       "      <td>Residential</td>\n",
       "      <td>Residential</td>\n",
       "      <td>New</td>\n",
       "      <td>No</td>\n",
       "      <td>5806 CAROLINE LN</td>\n",
       "      <td>new sf residence watt garage electric service EUD</td>\n",
       "      <td>2007/06/28</td>\n",
       "      <td>2007/06/28</td>\n",
       "      <td>2007</td>\n",
       "      <td>Final</td>\n",
       "      <td>10/09/2008</td>\n",
       "      <td>2007/07/17</td>\n",
       "      <td>2007/07/17</td>\n",
       "      <td>(30.25687156, -97.57498898)</td>\n",
       "    </tr>\n",
       "    <tr>\n",
       "      <th>1</th>\n",
       "      <td>170</td>\n",
       "      <td>Electrical Permit</td>\n",
       "      <td>2010-013963 EP</td>\n",
       "      <td>Residential</td>\n",
       "      <td>Residential</td>\n",
       "      <td>New</td>\n",
       "      <td>No</td>\n",
       "      <td>4613 CREDO LN</td>\n",
       "      <td>New 2 story sf residence with attached garage ...</td>\n",
       "      <td>2010/02/19</td>\n",
       "      <td>2010/02/19</td>\n",
       "      <td>2010</td>\n",
       "      <td>Final</td>\n",
       "      <td>02/22/2010</td>\n",
       "      <td>2010/02/22</td>\n",
       "      <td>2010/02/22</td>\n",
       "      <td>(30.23821171, -97.57086234)</td>\n",
       "    </tr>\n",
       "    <tr>\n",
       "      <th>2</th>\n",
       "      <td>370</td>\n",
       "      <td>Electrical Permit</td>\n",
       "      <td>2012-083545 EP</td>\n",
       "      <td>Commercial</td>\n",
       "      <td>C- 328 Commercial Other Nonresident Bldg</td>\n",
       "      <td>New</td>\n",
       "      <td>No</td>\n",
       "      <td>3412 W WILLIAM CANNON DR</td>\n",
       "      <td>vaccum enclosure with cover and add 2 lights b...</td>\n",
       "      <td>2010/09/30</td>\n",
       "      <td>2012/09/07</td>\n",
       "      <td>2012</td>\n",
       "      <td>Final</td>\n",
       "      <td>09/12/2012</td>\n",
       "      <td>2012/09/12</td>\n",
       "      <td>2012/09/12</td>\n",
       "      <td>(30.21328212, -97.82858596)</td>\n",
       "    </tr>\n",
       "    <tr>\n",
       "      <th>3</th>\n",
       "      <td>401</td>\n",
       "      <td>Electrical Permit</td>\n",
       "      <td>2013-032928 EP</td>\n",
       "      <td>Commercial</td>\n",
       "      <td>C- 329 Com Structures Other Than Bldg</td>\n",
       "      <td>New</td>\n",
       "      <td>No</td>\n",
       "      <td>10137 1/2 HOTEL DR BLDG 7395</td>\n",
       "      <td>New Construction bus shelter</td>\n",
       "      <td>2013/03/26</td>\n",
       "      <td>2013/04/16</td>\n",
       "      <td>2013</td>\n",
       "      <td>Final</td>\n",
       "      <td>03/05/2014</td>\n",
       "      <td>2014/03/05</td>\n",
       "      <td>2014/03/05</td>\n",
       "      <td>(30.20807253, -97.66133384)</td>\n",
       "    </tr>\n",
       "    <tr>\n",
       "      <th>4</th>\n",
       "      <td>411</td>\n",
       "      <td>Electrical Permit</td>\n",
       "      <td>2013-062954 EP</td>\n",
       "      <td>Residential</td>\n",
       "      <td>Residential</td>\n",
       "      <td>New</td>\n",
       "      <td>No</td>\n",
       "      <td>2703 SHERMAN CT</td>\n",
       "      <td>Connect mobile home ETJ</td>\n",
       "      <td>2013/06/18</td>\n",
       "      <td>2013/06/18</td>\n",
       "      <td>2013</td>\n",
       "      <td>Final</td>\n",
       "      <td>09/26/2013</td>\n",
       "      <td>2013/09/26</td>\n",
       "      <td>2013/09/26</td>\n",
       "      <td>(30.38587345, -97.93329982)</td>\n",
       "    </tr>\n",
       "  </tbody>\n",
       "</table>\n",
       "</div>"
      ],
      "text/plain": [
       "   Unnamed: 0   Permit Type Desc      Permit Num Permit Class Mapped  \\\n",
       "0          23  Electrical Permit  2007-132615 EP         Residential   \n",
       "1         170  Electrical Permit  2010-013963 EP         Residential   \n",
       "2         370  Electrical Permit  2012-083545 EP          Commercial   \n",
       "3         401  Electrical Permit  2013-032928 EP          Commercial   \n",
       "4         411  Electrical Permit  2013-062954 EP         Residential   \n",
       "\n",
       "                               Permit Class Work Class Condominium  \\\n",
       "0                               Residential        New          No   \n",
       "1                               Residential        New          No   \n",
       "2  C- 328 Commercial Other Nonresident Bldg        New          No   \n",
       "3     C- 329 Com Structures Other Than Bldg        New          No   \n",
       "4                               Residential        New          No   \n",
       "\n",
       "                   Project Name  \\\n",
       "0              5806 CAROLINE LN   \n",
       "1                 4613 CREDO LN   \n",
       "2      3412 W WILLIAM CANNON DR   \n",
       "3  10137 1/2 HOTEL DR BLDG 7395   \n",
       "4               2703 SHERMAN CT   \n",
       "\n",
       "                                         Description Applied Date Issued Date  \\\n",
       "0  new sf residence watt garage electric service EUD   2007/06/28  2007/06/28   \n",
       "1  New 2 story sf residence with attached garage ...   2010/02/19  2010/02/19   \n",
       "2  vaccum enclosure with cover and add 2 lights b...   2010/09/30  2012/09/07   \n",
       "3                       New Construction bus shelter   2013/03/26  2013/04/16   \n",
       "4                            Connect mobile home ETJ   2013/06/18  2013/06/18   \n",
       "\n",
       "   Calendar Year Issued Status Current Status Date Expires Date  \\\n",
       "0                  2007          Final  10/09/2008   2007/07/17   \n",
       "1                  2010          Final  02/22/2010   2010/02/22   \n",
       "2                  2012          Final  09/12/2012   2012/09/12   \n",
       "3                  2013          Final  03/05/2014   2014/03/05   \n",
       "4                  2013          Final  09/26/2013   2013/09/26   \n",
       "\n",
       "  Completed Date                     Location  \n",
       "0     2007/07/17  (30.25687156, -97.57498898)  \n",
       "1     2010/02/22  (30.23821171, -97.57086234)  \n",
       "2     2012/09/12  (30.21328212, -97.82858596)  \n",
       "3     2014/03/05  (30.20807253, -97.66133384)  \n",
       "4     2013/09/26  (30.38587345, -97.93329982)  "
      ]
     },
     "execution_count": 41,
     "metadata": {},
     "output_type": "execute_result"
    }
   ],
   "source": [
    "df = pd.read_csv('data/licences.csv')\n",
    "df.head()"
   ]
  },
  {
   "cell_type": "code",
   "execution_count": 42,
   "metadata": {},
   "outputs": [],
   "source": [
    "df.Location=df.Location.str.replace(\"(\",\" \")\n",
    "df.Location=df.Location.str.replace(\")\",\" \")"
   ]
  },
  {
   "cell_type": "code",
   "execution_count": 43,
   "metadata": {},
   "outputs": [],
   "source": [
    "locations = df.Location.str.split(\",\",expand=True)"
   ]
  },
  {
   "cell_type": "code",
   "execution_count": 44,
   "metadata": {},
   "outputs": [],
   "source": [
    "locations[0]=locations[0].astype(float)\n",
    "locations[1]=locations[1].astype(float)"
   ]
  },
  {
   "cell_type": "code",
   "execution_count": 45,
   "metadata": {},
   "outputs": [],
   "source": [
    "locations['Calendar Year Issued'] = df['Calendar Year Issued']"
   ]
  },
  {
   "cell_type": "code",
   "execution_count": 46,
   "metadata": {},
   "outputs": [],
   "source": [
    "locations.dropna(inplace=True)"
   ]
  },
  {
   "cell_type": "code",
   "execution_count": 47,
   "metadata": {},
   "outputs": [
    {
     "data": {
      "text/plain": [
       "(553587, 3)"
      ]
     },
     "execution_count": 47,
     "metadata": {},
     "output_type": "execute_result"
    }
   ],
   "source": [
    "locations.shape"
   ]
  },
  {
   "cell_type": "code",
   "execution_count": 48,
   "metadata": {},
   "outputs": [
    {
     "data": {
      "text/plain": [
       "0                       float64\n",
       "1                       float64\n",
       "Calendar Year Issued      int64\n",
       "dtype: object"
      ]
     },
     "execution_count": 48,
     "metadata": {},
     "output_type": "execute_result"
    }
   ],
   "source": [
    "locations.dtypes"
   ]
  },
  {
   "cell_type": "code",
   "execution_count": 49,
   "metadata": {},
   "outputs": [],
   "source": [
    "heatmap_data = {'Year': locations['Calendar Year Issued'] , 'latitude': locations[0] , 'longitude' : locations[1]} \n",
    "df = pd.DataFrame(data=heatmap_data) "
   ]
  },
  {
   "cell_type": "code",
   "execution_count": 57,
   "metadata": {},
   "outputs": [],
   "source": [
    "locations = df[['latitude', 'longitude']] \n",
    "weights = df['Year'] \n",
    "fig = gmaps.figure() \n",
    "heatmap_layer = gmaps.heatmap_layer(locations, weights=weights) \n",
    "fig.add_layer(gmaps.heatmap_layer(locations, weights=weights)) "
   ]
  },
  {
   "cell_type": "code",
   "execution_count": 58,
   "metadata": {},
   "outputs": [
    {
     "data": {
      "application/vnd.jupyter.widget-view+json": {
       "model_id": "903045cfaead43398af640a08d94b160",
       "version_major": 2,
       "version_minor": 0
      },
      "text/plain": [
       "Figure(layout=FigureLayout(height='420px'))"
      ]
     },
     "metadata": {},
     "output_type": "display_data"
    }
   ],
   "source": [
    "display(fig)"
   ]
  },
  {
   "cell_type": "code",
   "execution_count": null,
   "metadata": {},
   "outputs": [],
   "source": []
  }
 ],
 "metadata": {
  "kernelspec": {
   "display_name": "Python 3",
   "language": "python",
   "name": "python3"
  },
  "language_info": {
   "codemirror_mode": {
    "name": "ipython",
    "version": 3
   },
   "file_extension": ".py",
   "mimetype": "text/x-python",
   "name": "python",
   "nbconvert_exporter": "python",
   "pygments_lexer": "ipython3",
   "version": "3.8.5"
  }
 },
 "nbformat": 4,
 "nbformat_minor": 5
}

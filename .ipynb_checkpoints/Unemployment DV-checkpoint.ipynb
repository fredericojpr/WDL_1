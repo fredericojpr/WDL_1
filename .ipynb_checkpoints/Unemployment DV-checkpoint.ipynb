{
 "cells": [
  {
   "cell_type": "code",
   "execution_count": 31,
   "metadata": {},
   "outputs": [],
   "source": [
    "import pandas as pd\n",
    "import datetime as dt\n",
    "import plotly.express as px\n",
    "import plotly.graph_objects as go\n",
    "from plotly.subplots import make_subplots"
   ]
  },
  {
   "cell_type": "code",
   "execution_count": 32,
   "metadata": {},
   "outputs": [],
   "source": [
    "unemployment = pd.read_csv('data/BLSunemployment_Austin.csv')"
   ]
  },
  {
   "cell_type": "code",
   "execution_count": 33,
   "metadata": {},
   "outputs": [
    {
     "data": {
      "text/plain": [
       "Index(['Year', 'Period', 'labor force participation rate',\n",
       "       'employment-population ratio', 'labor force', 'employment',\n",
       "       'unemployment', 'unemployment rate'],\n",
       "      dtype='object')"
      ]
     },
     "execution_count": 33,
     "metadata": {},
     "output_type": "execute_result"
    }
   ],
   "source": [
    "unemployment.columns"
   ]
  },
  {
   "cell_type": "code",
   "execution_count": 34,
   "metadata": {},
   "outputs": [
    {
     "data": {
      "text/html": [
       "<div>\n",
       "<style scoped>\n",
       "    .dataframe tbody tr th:only-of-type {\n",
       "        vertical-align: middle;\n",
       "    }\n",
       "\n",
       "    .dataframe tbody tr th {\n",
       "        vertical-align: top;\n",
       "    }\n",
       "\n",
       "    .dataframe thead th {\n",
       "        text-align: right;\n",
       "    }\n",
       "</style>\n",
       "<table border=\"1\" class=\"dataframe\">\n",
       "  <thead>\n",
       "    <tr style=\"text-align: right;\">\n",
       "      <th></th>\n",
       "      <th>Year</th>\n",
       "      <th>Period</th>\n",
       "      <th>labor force participation rate</th>\n",
       "      <th>employment-population ratio</th>\n",
       "      <th>labor force</th>\n",
       "      <th>employment</th>\n",
       "      <th>unemployment</th>\n",
       "      <th>unemployment rate</th>\n",
       "    </tr>\n",
       "  </thead>\n",
       "  <tbody>\n",
       "    <tr>\n",
       "      <th>0</th>\n",
       "      <td>2010</td>\n",
       "      <td>Jan</td>\n",
       "      <td>66.3</td>\n",
       "      <td>60.8</td>\n",
       "      <td>12108919</td>\n",
       "      <td>11106882</td>\n",
       "      <td>1002037</td>\n",
       "      <td>8.3</td>\n",
       "    </tr>\n",
       "    <tr>\n",
       "      <th>1</th>\n",
       "      <td>2010</td>\n",
       "      <td>Feb</td>\n",
       "      <td>66.4</td>\n",
       "      <td>60.9</td>\n",
       "      <td>12151988</td>\n",
       "      <td>11146453</td>\n",
       "      <td>1005535</td>\n",
       "      <td>8.3</td>\n",
       "    </tr>\n",
       "    <tr>\n",
       "      <th>2</th>\n",
       "      <td>2010</td>\n",
       "      <td>Mar</td>\n",
       "      <td>66.5</td>\n",
       "      <td>61.0</td>\n",
       "      <td>12191275</td>\n",
       "      <td>11184615</td>\n",
       "      <td>1006660</td>\n",
       "      <td>8.3</td>\n",
       "    </tr>\n",
       "    <tr>\n",
       "      <th>3</th>\n",
       "      <td>2010</td>\n",
       "      <td>Apr</td>\n",
       "      <td>65.9</td>\n",
       "      <td>60.5</td>\n",
       "      <td>12222661</td>\n",
       "      <td>11218075</td>\n",
       "      <td>1004586</td>\n",
       "      <td>8.2</td>\n",
       "    </tr>\n",
       "    <tr>\n",
       "      <th>4</th>\n",
       "      <td>2010</td>\n",
       "      <td>May</td>\n",
       "      <td>65.9</td>\n",
       "      <td>60.6</td>\n",
       "      <td>12244873</td>\n",
       "      <td>11246029</td>\n",
       "      <td>998844</td>\n",
       "      <td>8.2</td>\n",
       "    </tr>\n",
       "  </tbody>\n",
       "</table>\n",
       "</div>"
      ],
      "text/plain": [
       "   Year Period labor force participation rate employment-population ratio  \\\n",
       "0  2010    Jan                           66.3                        60.8   \n",
       "1  2010    Feb                           66.4                        60.9   \n",
       "2  2010    Mar                           66.5                        61.0   \n",
       "3  2010    Apr                           65.9                        60.5   \n",
       "4  2010    May                           65.9                        60.6   \n",
       "\n",
       "  labor force employment unemployment unemployment rate  \n",
       "0    12108919   11106882      1002037               8.3  \n",
       "1    12151988   11146453      1005535               8.3  \n",
       "2    12191275   11184615      1006660               8.3  \n",
       "3    12222661   11218075      1004586               8.2  \n",
       "4    12244873   11246029       998844               8.2  "
      ]
     },
     "execution_count": 34,
     "metadata": {},
     "output_type": "execute_result"
    }
   ],
   "source": [
    "unemployment.head()"
   ]
  },
  {
   "cell_type": "code",
   "execution_count": 35,
   "metadata": {
    "scrolled": false
   },
   "outputs": [
    {
     "data": {
      "text/html": [
       "<div>\n",
       "<style scoped>\n",
       "    .dataframe tbody tr th:only-of-type {\n",
       "        vertical-align: middle;\n",
       "    }\n",
       "\n",
       "    .dataframe tbody tr th {\n",
       "        vertical-align: top;\n",
       "    }\n",
       "\n",
       "    .dataframe thead th {\n",
       "        text-align: right;\n",
       "    }\n",
       "</style>\n",
       "<table border=\"1\" class=\"dataframe\">\n",
       "  <thead>\n",
       "    <tr style=\"text-align: right;\">\n",
       "      <th></th>\n",
       "      <th>Year</th>\n",
       "      <th>Period</th>\n",
       "      <th>labor force participation rate</th>\n",
       "      <th>employment-population ratio</th>\n",
       "      <th>labor force</th>\n",
       "      <th>employment</th>\n",
       "      <th>unemployment</th>\n",
       "      <th>unemployment rate</th>\n",
       "      <th>year/month</th>\n",
       "    </tr>\n",
       "  </thead>\n",
       "  <tbody>\n",
       "    <tr>\n",
       "      <th>0</th>\n",
       "      <td>2010</td>\n",
       "      <td>Jan</td>\n",
       "      <td>66.3</td>\n",
       "      <td>60.8</td>\n",
       "      <td>12108919</td>\n",
       "      <td>11106882</td>\n",
       "      <td>1002037</td>\n",
       "      <td>8.3</td>\n",
       "      <td>2010-Jan</td>\n",
       "    </tr>\n",
       "    <tr>\n",
       "      <th>1</th>\n",
       "      <td>2010</td>\n",
       "      <td>Feb</td>\n",
       "      <td>66.4</td>\n",
       "      <td>60.9</td>\n",
       "      <td>12151988</td>\n",
       "      <td>11146453</td>\n",
       "      <td>1005535</td>\n",
       "      <td>8.3</td>\n",
       "      <td>2010-Feb</td>\n",
       "    </tr>\n",
       "    <tr>\n",
       "      <th>2</th>\n",
       "      <td>2010</td>\n",
       "      <td>Mar</td>\n",
       "      <td>66.5</td>\n",
       "      <td>61.0</td>\n",
       "      <td>12191275</td>\n",
       "      <td>11184615</td>\n",
       "      <td>1006660</td>\n",
       "      <td>8.3</td>\n",
       "      <td>2010-Mar</td>\n",
       "    </tr>\n",
       "    <tr>\n",
       "      <th>3</th>\n",
       "      <td>2010</td>\n",
       "      <td>Apr</td>\n",
       "      <td>65.9</td>\n",
       "      <td>60.5</td>\n",
       "      <td>12222661</td>\n",
       "      <td>11218075</td>\n",
       "      <td>1004586</td>\n",
       "      <td>8.2</td>\n",
       "      <td>2010-Apr</td>\n",
       "    </tr>\n",
       "    <tr>\n",
       "      <th>4</th>\n",
       "      <td>2010</td>\n",
       "      <td>May</td>\n",
       "      <td>65.9</td>\n",
       "      <td>60.6</td>\n",
       "      <td>12244873</td>\n",
       "      <td>11246029</td>\n",
       "      <td>998844</td>\n",
       "      <td>8.2</td>\n",
       "      <td>2010-May</td>\n",
       "    </tr>\n",
       "  </tbody>\n",
       "</table>\n",
       "</div>"
      ],
      "text/plain": [
       "   Year Period labor force participation rate employment-population ratio  \\\n",
       "0  2010    Jan                           66.3                        60.8   \n",
       "1  2010    Feb                           66.4                        60.9   \n",
       "2  2010    Mar                           66.5                        61.0   \n",
       "3  2010    Apr                           65.9                        60.5   \n",
       "4  2010    May                           65.9                        60.6   \n",
       "\n",
       "  labor force employment unemployment unemployment rate year/month  \n",
       "0    12108919   11106882      1002037               8.3   2010-Jan  \n",
       "1    12151988   11146453      1005535               8.3   2010-Feb  \n",
       "2    12191275   11184615      1006660               8.3   2010-Mar  \n",
       "3    12222661   11218075      1004586               8.2   2010-Apr  \n",
       "4    12244873   11246029       998844               8.2   2010-May  "
      ]
     },
     "execution_count": 35,
     "metadata": {},
     "output_type": "execute_result"
    }
   ],
   "source": [
    "unemployment['year/month']=unemployment['Year'].map(str) +'-' +unemployment['Period'].map(str) \n",
    "unemployment.head()"
   ]
  },
  {
   "cell_type": "code",
   "execution_count": 36,
   "metadata": {},
   "outputs": [],
   "source": [
    "unemployment['labor force participation rate'] = unemployment['labor force participation rate'].str.replace('(R)', '', regex=False)\n",
    "unemployment['labor force participation rate'] = unemployment['labor force participation rate'].str.replace('(P)', '', regex=False)\n",
    "unemployment['labor force participation rate'] = unemployment['labor force participation rate'].str.replace('()', '', regex=False)\n",
    "#'unemployment rate'\n",
    "unemployment['labor force participation rate'] = unemployment['labor force participation rate'].astype(float)"
   ]
  },
  {
   "cell_type": "code",
   "execution_count": 37,
   "metadata": {},
   "outputs": [],
   "source": [
    "unemployment['employment-population ratio'] = unemployment['employment-population ratio'].str.replace('(R)', '', regex=False)\n",
    "unemployment['employment-population ratio'] = unemployment['employment-population ratio'].str.replace('(P)', '', regex=False)\n",
    "unemployment['employment-population ratio'] = unemployment['employment-population ratio'].str.replace('()', '', regex=False)\n",
    "#'unemployment rate'\n",
    "unemployment['employment-population ratio'] = unemployment['employment-population ratio'].astype(float)"
   ]
  },
  {
   "cell_type": "code",
   "execution_count": 38,
   "metadata": {},
   "outputs": [],
   "source": [
    "unemployment['labor force'] = unemployment['labor force'].str.replace('(R)', '', regex=False)\n",
    "unemployment['labor force'] = unemployment['labor force'].str.replace('(P)', '', regex=False)\n",
    "unemployment['labor force'] = unemployment['labor force'].str.replace('()', '', regex=False)\n",
    "#'unemployment rate'\n",
    "unemployment['labor force'] = unemployment['labor force'].astype(int)"
   ]
  },
  {
   "cell_type": "code",
   "execution_count": 39,
   "metadata": {},
   "outputs": [],
   "source": [
    "unemployment['employment'] = unemployment['employment'].str.replace('(R)', '', regex=False)\n",
    "unemployment['employment'] = unemployment['employment'].str.replace('(P)', '', regex=False)\n",
    "unemployment['employment'] = unemployment['employment'].str.replace('()', '', regex=False)\n",
    "#'unemployment rate'\n",
    "unemployment['employment'] = unemployment['employment'].astype(int)"
   ]
  },
  {
   "cell_type": "code",
   "execution_count": 40,
   "metadata": {},
   "outputs": [],
   "source": [
    "unemployment['unemployment'] = unemployment['unemployment'].str.replace('(R)', '', regex=False)\n",
    "unemployment['unemployment'] = unemployment['unemployment'].str.replace('(P)', '', regex=False)\n",
    "unemployment['unemployment'] = unemployment['unemployment'].str.replace('()', '', regex=False)\n",
    "#'unemployment rate'\n",
    "unemployment['unemployment'] = unemployment['unemployment'].astype(int)"
   ]
  },
  {
   "cell_type": "code",
   "execution_count": 41,
   "metadata": {},
   "outputs": [],
   "source": [
    "unemployment['unemployment rate'] = unemployment['unemployment rate'].str.replace('(R)', '', regex=False)\n",
    "unemployment['unemployment rate'] = unemployment['unemployment rate'].str.replace('(P)', '', regex=False)\n",
    "unemployment['unemployment rate'] = unemployment['unemployment rate'].str.replace('()', '', regex=False)\n",
    "#'unemployment rate'\n",
    "unemployment['unemployment rate'] = unemployment['unemployment rate'].astype(float)"
   ]
  },
  {
   "cell_type": "markdown",
   "metadata": {},
   "source": [
    "## Desemprego Vs Empregabilidade Raw"
   ]
  },
  {
   "cell_type": "code",
   "execution_count": 42,
   "metadata": {},
   "outputs": [
    {
     "data": {
      "application/vnd.plotly.v1+json": {
       "config": {
        "plotlyServerURL": "https://plot.ly"
       },
       "data": [
        {
         "name": "Unemployment",
         "type": "bar",
         "x": [
          "2010-Jan",
          "2010-Feb",
          "2010-Mar",
          "2010-Apr",
          "2010-May",
          "2010-Jun",
          "2010-Jul",
          "2010-Aug",
          "2010-Sep",
          "2010-Oct",
          "2010-Nov",
          "2010-Dec",
          "2011-Jan",
          "2011-Feb",
          "2011-Mar",
          "2011-Apr",
          "2011-May",
          "2011-Jun",
          "2011-Jul",
          "2011-Aug",
          "2011-Sep",
          "2011-Oct",
          "2011-Nov",
          "2011-Dec",
          "2012-Jan",
          "2012-Feb",
          "2012-Mar",
          "2012-Apr",
          "2012-May",
          "2012-Jun",
          "2012-Jul",
          "2012-Aug",
          "2012-Sep",
          "2012-Oct",
          "2012-Nov",
          "2012-Dec",
          "2013-Jan",
          "2013-Feb",
          "2013-Mar",
          "2013-Apr",
          "2013-May",
          "2013-Jun",
          "2013-Jul",
          "2013-Aug",
          "2013-Sep",
          "2013-Oct",
          "2013-Nov",
          "2013-Dec",
          "2014-Jan",
          "2014-Feb",
          "2014-Mar",
          "2014-Apr",
          "2014-May",
          "2014-Jun",
          "2014-Jul",
          "2014-Aug",
          "2014-Sep",
          "2014-Oct",
          "2014-Nov",
          "2014-Dec",
          "2015-Jan",
          "2015-Feb",
          "2015-Mar",
          "2015-Apr",
          "2015-May",
          "2015-Jun",
          "2015-Jul",
          "2015-Aug",
          "2015-Sep",
          "2015-Oct",
          "2015-Nov",
          "2015-Dec",
          "2016-Jan",
          "2016-Feb",
          "2016-Mar",
          "2016-Apr",
          "2016-May",
          "2016-Jun",
          "2016-Jul",
          "2016-Aug",
          "2016-Sep",
          "2016-Oct",
          "2016-Nov",
          "2016-Dec",
          "2017-Jan",
          "2017-Feb",
          "2017-Mar",
          "2017-Apr",
          "2017-May",
          "2017-Jun",
          "2017-Jul",
          "2017-Aug",
          "2017-Sep",
          "2017-Oct",
          "2017-Nov",
          "2017-Dec",
          "2018-Jan",
          "2018-Feb",
          "2018-Mar",
          "2018-Apr",
          "2018-May",
          "2018-Jun",
          "2018-Jul",
          "2018-Aug",
          "2018-Sep",
          "2018-Oct",
          "2018-Nov",
          "2018-Dec",
          "2019-Jan",
          "2019-Feb",
          "2019-Mar",
          "2019-Apr",
          "2019-May",
          "2019-Jun",
          "2019-Jul",
          "2019-Aug",
          "2019-Sep",
          "2019-Oct",
          "2019-Nov",
          "2019-Dec",
          "2020-Jan",
          "2020-Feb",
          "2020-Mar",
          "2020-Apr",
          "2020-May",
          "2020-Jun",
          "2020-Jul",
          "2020-Aug",
          "2020-Sep",
          "2020-Oct",
          "2020-Nov",
          "2020-Dec",
          "2021-Jan",
          "2021-Feb",
          "2021-Mar",
          "2021-Apr",
          "2021-May",
          "2021-Jun",
          "2021-Jul",
          "2021-Aug",
          "2021-Sep",
          "2021-Oct",
          "2021-Nov",
          "2021-Dec",
          "2022-Jan"
         ],
         "y": [
          1002037,
          1005535,
          1006660,
          1004586,
          998844,
          992637,
          990246,
          993237,
          1000520,
          1009027,
          1014963,
          1016266,
          1014409,
          1011840,
          1010379,
          1012828,
          1021349,
          1033695,
          1046251,
          1026244,
          1002708,
          975870,
          946719,
          916813,
          888178,
          877452,
          841436,
          851105,
          856867,
          855973,
          847811,
          836108,
          826202,
          820771,
          820720,
          825003,
          831138,
          835777,
          835833,
          831373,
          824899,
          818725,
          813489,
          805928,
          794517,
          781618,
          768097,
          753688,
          737912,
          721554,
          707527,
          696883,
          688007,
          679936,
          671669,
          662652,
          651774,
          637462,
          620956,
          605779,
          594325,
          587606,
          583837,
          581180,
          579318,
          578704,
          580450,
          584340,
          587926,
          590060,
          590950,
          590447,
          589132,
          589237,
          592358,
          599706,
          610415,
          621145,
          629445,
          635306,
          640417,
          644755,
          646999,
          646838,
          640414,
          633917,
          623247,
          609926,
          595121,
          581414,
          570815,
          563119,
          557804,
          554048,
          552034,
          550999,
          550692,
          550600,
          549097,
          544959,
          539627,
          533946,
          528303,
          524863,
          524785,
          526438,
          526802,
          523169,
          514544,
          501844,
          488791,
          478646,
          474174,
          476705,
          484568,
          493076,
          496744,
          495343,
          490305,
          484222,
          480724,
          483015,
          702643,
          1668137,
          1628632,
          1384769,
          1287851,
          1119980,
          1074540,
          986822,
          974480,
          977744,
          948440,
          929683,
          904255,
          875958,
          840528,
          837848,
          794522,
          768726,
          728670,
          714152,
          694886,
          687603,
          688177
         ]
        },
        {
         "name": "Employment",
         "type": "bar",
         "x": [
          "2010-Jan",
          "2010-Feb",
          "2010-Mar",
          "2010-Apr",
          "2010-May",
          "2010-Jun",
          "2010-Jul",
          "2010-Aug",
          "2010-Sep",
          "2010-Oct",
          "2010-Nov",
          "2010-Dec",
          "2011-Jan",
          "2011-Feb",
          "2011-Mar",
          "2011-Apr",
          "2011-May",
          "2011-Jun",
          "2011-Jul",
          "2011-Aug",
          "2011-Sep",
          "2011-Oct",
          "2011-Nov",
          "2011-Dec",
          "2012-Jan",
          "2012-Feb",
          "2012-Mar",
          "2012-Apr",
          "2012-May",
          "2012-Jun",
          "2012-Jul",
          "2012-Aug",
          "2012-Sep",
          "2012-Oct",
          "2012-Nov",
          "2012-Dec",
          "2013-Jan",
          "2013-Feb",
          "2013-Mar",
          "2013-Apr",
          "2013-May",
          "2013-Jun",
          "2013-Jul",
          "2013-Aug",
          "2013-Sep",
          "2013-Oct",
          "2013-Nov",
          "2013-Dec",
          "2014-Jan",
          "2014-Feb",
          "2014-Mar",
          "2014-Apr",
          "2014-May",
          "2014-Jun",
          "2014-Jul",
          "2014-Aug",
          "2014-Sep",
          "2014-Oct",
          "2014-Nov",
          "2014-Dec",
          "2015-Jan",
          "2015-Feb",
          "2015-Mar",
          "2015-Apr",
          "2015-May",
          "2015-Jun",
          "2015-Jul",
          "2015-Aug",
          "2015-Sep",
          "2015-Oct",
          "2015-Nov",
          "2015-Dec",
          "2016-Jan",
          "2016-Feb",
          "2016-Mar",
          "2016-Apr",
          "2016-May",
          "2016-Jun",
          "2016-Jul",
          "2016-Aug",
          "2016-Sep",
          "2016-Oct",
          "2016-Nov",
          "2016-Dec",
          "2017-Jan",
          "2017-Feb",
          "2017-Mar",
          "2017-Apr",
          "2017-May",
          "2017-Jun",
          "2017-Jul",
          "2017-Aug",
          "2017-Sep",
          "2017-Oct",
          "2017-Nov",
          "2017-Dec",
          "2018-Jan",
          "2018-Feb",
          "2018-Mar",
          "2018-Apr",
          "2018-May",
          "2018-Jun",
          "2018-Jul",
          "2018-Aug",
          "2018-Sep",
          "2018-Oct",
          "2018-Nov",
          "2018-Dec",
          "2019-Jan",
          "2019-Feb",
          "2019-Mar",
          "2019-Apr",
          "2019-May",
          "2019-Jun",
          "2019-Jul",
          "2019-Aug",
          "2019-Sep",
          "2019-Oct",
          "2019-Nov",
          "2019-Dec",
          "2020-Jan",
          "2020-Feb",
          "2020-Mar",
          "2020-Apr",
          "2020-May",
          "2020-Jun",
          "2020-Jul",
          "2020-Aug",
          "2020-Sep",
          "2020-Oct",
          "2020-Nov",
          "2020-Dec",
          "2021-Jan",
          "2021-Feb",
          "2021-Mar",
          "2021-Apr",
          "2021-May",
          "2021-Jun",
          "2021-Jul",
          "2021-Aug",
          "2021-Sep",
          "2021-Oct",
          "2021-Nov",
          "2021-Dec",
          "2022-Jan"
         ],
         "y": [
          11106882,
          11146453,
          11184615,
          11218075,
          11246029,
          11267141,
          11282344,
          11294712,
          11306167,
          11320132,
          11337423,
          11356570,
          11377422,
          11398153,
          11416366,
          11431447,
          11445785,
          11463413,
          11487969,
          11519770,
          11556548,
          11594803,
          11630243,
          11659891,
          11683759,
          11704383,
          11722322,
          11737849,
          11754758,
          11776105,
          11802014,
          11830108,
          11857386,
          11879763,
          11895325,
          11905455,
          11912520,
          11921233,
          11936855,
          11962083,
          11991479,
          12018765,
          12041788,
          12061310,
          12079341,
          12099121,
          12124031,
          12154284,
          12188294,
          12223189,
          12254958,
          12280595,
          12302615,
          12325395,
          12348864,
          12373428,
          12398563,
          12420918,
          12436708,
          12446054,
          12451402,
          12455072,
          12461125,
          12471167,
          12483045,
          12493882,
          12503348,
          12512227,
          12523886,
          12543363,
          12571333,
          12603859,
          12635778,
          12662766,
          12683175,
          12698126,
          12710616,
          12722956,
          12736496,
          12750754,
          12763563,
          12774408,
          12787312,
          12805992,
          12743129,
          12773175,
          12805899,
          12838380,
          12868903,
          12894947,
          12915730,
          12931972,
          12945812,
          12959897,
          12974970,
          12994087,
          13019810,
          13053266,
          13091083,
          13125424,
          13150005,
          13164873,
          13172521,
          13177515,
          13183494,
          13193517,
          13208364,
          13227231,
          13248657,
          13272184,
          13297251,
          13324780,
          13353151,
          13379740,
          13402466,
          13421600,
          13442538,
          13465764,
          13488900,
          13501568,
          13494841,
          13466024,
          13135701,
          11522574,
          12172243,
          12393208,
          12601111,
          12769701,
          12909243,
          13001357,
          13060347,
          13099439,
          13135663,
          13178764,
          13233703,
          13294137,
          13353800,
          13405578,
          13455074,
          13500355,
          13544229,
          13581395,
          13593060,
          13595276,
          13645425
         ]
        }
       ],
       "layout": {
        "barmode": "group",
        "template": {
         "data": {
          "bar": [
           {
            "error_x": {
             "color": "#2a3f5f"
            },
            "error_y": {
             "color": "#2a3f5f"
            },
            "marker": {
             "line": {
              "color": "#E5ECF6",
              "width": 0.5
             },
             "pattern": {
              "fillmode": "overlay",
              "size": 10,
              "solidity": 0.2
             }
            },
            "type": "bar"
           }
          ],
          "barpolar": [
           {
            "marker": {
             "line": {
              "color": "#E5ECF6",
              "width": 0.5
             },
             "pattern": {
              "fillmode": "overlay",
              "size": 10,
              "solidity": 0.2
             }
            },
            "type": "barpolar"
           }
          ],
          "carpet": [
           {
            "aaxis": {
             "endlinecolor": "#2a3f5f",
             "gridcolor": "white",
             "linecolor": "white",
             "minorgridcolor": "white",
             "startlinecolor": "#2a3f5f"
            },
            "baxis": {
             "endlinecolor": "#2a3f5f",
             "gridcolor": "white",
             "linecolor": "white",
             "minorgridcolor": "white",
             "startlinecolor": "#2a3f5f"
            },
            "type": "carpet"
           }
          ],
          "choropleth": [
           {
            "colorbar": {
             "outlinewidth": 0,
             "ticks": ""
            },
            "type": "choropleth"
           }
          ],
          "contour": [
           {
            "colorbar": {
             "outlinewidth": 0,
             "ticks": ""
            },
            "colorscale": [
             [
              0,
              "#0d0887"
             ],
             [
              0.1111111111111111,
              "#46039f"
             ],
             [
              0.2222222222222222,
              "#7201a8"
             ],
             [
              0.3333333333333333,
              "#9c179e"
             ],
             [
              0.4444444444444444,
              "#bd3786"
             ],
             [
              0.5555555555555556,
              "#d8576b"
             ],
             [
              0.6666666666666666,
              "#ed7953"
             ],
             [
              0.7777777777777778,
              "#fb9f3a"
             ],
             [
              0.8888888888888888,
              "#fdca26"
             ],
             [
              1,
              "#f0f921"
             ]
            ],
            "type": "contour"
           }
          ],
          "contourcarpet": [
           {
            "colorbar": {
             "outlinewidth": 0,
             "ticks": ""
            },
            "type": "contourcarpet"
           }
          ],
          "heatmap": [
           {
            "colorbar": {
             "outlinewidth": 0,
             "ticks": ""
            },
            "colorscale": [
             [
              0,
              "#0d0887"
             ],
             [
              0.1111111111111111,
              "#46039f"
             ],
             [
              0.2222222222222222,
              "#7201a8"
             ],
             [
              0.3333333333333333,
              "#9c179e"
             ],
             [
              0.4444444444444444,
              "#bd3786"
             ],
             [
              0.5555555555555556,
              "#d8576b"
             ],
             [
              0.6666666666666666,
              "#ed7953"
             ],
             [
              0.7777777777777778,
              "#fb9f3a"
             ],
             [
              0.8888888888888888,
              "#fdca26"
             ],
             [
              1,
              "#f0f921"
             ]
            ],
            "type": "heatmap"
           }
          ],
          "heatmapgl": [
           {
            "colorbar": {
             "outlinewidth": 0,
             "ticks": ""
            },
            "colorscale": [
             [
              0,
              "#0d0887"
             ],
             [
              0.1111111111111111,
              "#46039f"
             ],
             [
              0.2222222222222222,
              "#7201a8"
             ],
             [
              0.3333333333333333,
              "#9c179e"
             ],
             [
              0.4444444444444444,
              "#bd3786"
             ],
             [
              0.5555555555555556,
              "#d8576b"
             ],
             [
              0.6666666666666666,
              "#ed7953"
             ],
             [
              0.7777777777777778,
              "#fb9f3a"
             ],
             [
              0.8888888888888888,
              "#fdca26"
             ],
             [
              1,
              "#f0f921"
             ]
            ],
            "type": "heatmapgl"
           }
          ],
          "histogram": [
           {
            "marker": {
             "pattern": {
              "fillmode": "overlay",
              "size": 10,
              "solidity": 0.2
             }
            },
            "type": "histogram"
           }
          ],
          "histogram2d": [
           {
            "colorbar": {
             "outlinewidth": 0,
             "ticks": ""
            },
            "colorscale": [
             [
              0,
              "#0d0887"
             ],
             [
              0.1111111111111111,
              "#46039f"
             ],
             [
              0.2222222222222222,
              "#7201a8"
             ],
             [
              0.3333333333333333,
              "#9c179e"
             ],
             [
              0.4444444444444444,
              "#bd3786"
             ],
             [
              0.5555555555555556,
              "#d8576b"
             ],
             [
              0.6666666666666666,
              "#ed7953"
             ],
             [
              0.7777777777777778,
              "#fb9f3a"
             ],
             [
              0.8888888888888888,
              "#fdca26"
             ],
             [
              1,
              "#f0f921"
             ]
            ],
            "type": "histogram2d"
           }
          ],
          "histogram2dcontour": [
           {
            "colorbar": {
             "outlinewidth": 0,
             "ticks": ""
            },
            "colorscale": [
             [
              0,
              "#0d0887"
             ],
             [
              0.1111111111111111,
              "#46039f"
             ],
             [
              0.2222222222222222,
              "#7201a8"
             ],
             [
              0.3333333333333333,
              "#9c179e"
             ],
             [
              0.4444444444444444,
              "#bd3786"
             ],
             [
              0.5555555555555556,
              "#d8576b"
             ],
             [
              0.6666666666666666,
              "#ed7953"
             ],
             [
              0.7777777777777778,
              "#fb9f3a"
             ],
             [
              0.8888888888888888,
              "#fdca26"
             ],
             [
              1,
              "#f0f921"
             ]
            ],
            "type": "histogram2dcontour"
           }
          ],
          "mesh3d": [
           {
            "colorbar": {
             "outlinewidth": 0,
             "ticks": ""
            },
            "type": "mesh3d"
           }
          ],
          "parcoords": [
           {
            "line": {
             "colorbar": {
              "outlinewidth": 0,
              "ticks": ""
             }
            },
            "type": "parcoords"
           }
          ],
          "pie": [
           {
            "automargin": true,
            "type": "pie"
           }
          ],
          "scatter": [
           {
            "marker": {
             "colorbar": {
              "outlinewidth": 0,
              "ticks": ""
             }
            },
            "type": "scatter"
           }
          ],
          "scatter3d": [
           {
            "line": {
             "colorbar": {
              "outlinewidth": 0,
              "ticks": ""
             }
            },
            "marker": {
             "colorbar": {
              "outlinewidth": 0,
              "ticks": ""
             }
            },
            "type": "scatter3d"
           }
          ],
          "scattercarpet": [
           {
            "marker": {
             "colorbar": {
              "outlinewidth": 0,
              "ticks": ""
             }
            },
            "type": "scattercarpet"
           }
          ],
          "scattergeo": [
           {
            "marker": {
             "colorbar": {
              "outlinewidth": 0,
              "ticks": ""
             }
            },
            "type": "scattergeo"
           }
          ],
          "scattergl": [
           {
            "marker": {
             "colorbar": {
              "outlinewidth": 0,
              "ticks": ""
             }
            },
            "type": "scattergl"
           }
          ],
          "scattermapbox": [
           {
            "marker": {
             "colorbar": {
              "outlinewidth": 0,
              "ticks": ""
             }
            },
            "type": "scattermapbox"
           }
          ],
          "scatterpolar": [
           {
            "marker": {
             "colorbar": {
              "outlinewidth": 0,
              "ticks": ""
             }
            },
            "type": "scatterpolar"
           }
          ],
          "scatterpolargl": [
           {
            "marker": {
             "colorbar": {
              "outlinewidth": 0,
              "ticks": ""
             }
            },
            "type": "scatterpolargl"
           }
          ],
          "scatterternary": [
           {
            "marker": {
             "colorbar": {
              "outlinewidth": 0,
              "ticks": ""
             }
            },
            "type": "scatterternary"
           }
          ],
          "surface": [
           {
            "colorbar": {
             "outlinewidth": 0,
             "ticks": ""
            },
            "colorscale": [
             [
              0,
              "#0d0887"
             ],
             [
              0.1111111111111111,
              "#46039f"
             ],
             [
              0.2222222222222222,
              "#7201a8"
             ],
             [
              0.3333333333333333,
              "#9c179e"
             ],
             [
              0.4444444444444444,
              "#bd3786"
             ],
             [
              0.5555555555555556,
              "#d8576b"
             ],
             [
              0.6666666666666666,
              "#ed7953"
             ],
             [
              0.7777777777777778,
              "#fb9f3a"
             ],
             [
              0.8888888888888888,
              "#fdca26"
             ],
             [
              1,
              "#f0f921"
             ]
            ],
            "type": "surface"
           }
          ],
          "table": [
           {
            "cells": {
             "fill": {
              "color": "#EBF0F8"
             },
             "line": {
              "color": "white"
             }
            },
            "header": {
             "fill": {
              "color": "#C8D4E3"
             },
             "line": {
              "color": "white"
             }
            },
            "type": "table"
           }
          ]
         },
         "layout": {
          "annotationdefaults": {
           "arrowcolor": "#2a3f5f",
           "arrowhead": 0,
           "arrowwidth": 1
          },
          "autotypenumbers": "strict",
          "coloraxis": {
           "colorbar": {
            "outlinewidth": 0,
            "ticks": ""
           }
          },
          "colorscale": {
           "diverging": [
            [
             0,
             "#8e0152"
            ],
            [
             0.1,
             "#c51b7d"
            ],
            [
             0.2,
             "#de77ae"
            ],
            [
             0.3,
             "#f1b6da"
            ],
            [
             0.4,
             "#fde0ef"
            ],
            [
             0.5,
             "#f7f7f7"
            ],
            [
             0.6,
             "#e6f5d0"
            ],
            [
             0.7,
             "#b8e186"
            ],
            [
             0.8,
             "#7fbc41"
            ],
            [
             0.9,
             "#4d9221"
            ],
            [
             1,
             "#276419"
            ]
           ],
           "sequential": [
            [
             0,
             "#0d0887"
            ],
            [
             0.1111111111111111,
             "#46039f"
            ],
            [
             0.2222222222222222,
             "#7201a8"
            ],
            [
             0.3333333333333333,
             "#9c179e"
            ],
            [
             0.4444444444444444,
             "#bd3786"
            ],
            [
             0.5555555555555556,
             "#d8576b"
            ],
            [
             0.6666666666666666,
             "#ed7953"
            ],
            [
             0.7777777777777778,
             "#fb9f3a"
            ],
            [
             0.8888888888888888,
             "#fdca26"
            ],
            [
             1,
             "#f0f921"
            ]
           ],
           "sequentialminus": [
            [
             0,
             "#0d0887"
            ],
            [
             0.1111111111111111,
             "#46039f"
            ],
            [
             0.2222222222222222,
             "#7201a8"
            ],
            [
             0.3333333333333333,
             "#9c179e"
            ],
            [
             0.4444444444444444,
             "#bd3786"
            ],
            [
             0.5555555555555556,
             "#d8576b"
            ],
            [
             0.6666666666666666,
             "#ed7953"
            ],
            [
             0.7777777777777778,
             "#fb9f3a"
            ],
            [
             0.8888888888888888,
             "#fdca26"
            ],
            [
             1,
             "#f0f921"
            ]
           ]
          },
          "colorway": [
           "#636efa",
           "#EF553B",
           "#00cc96",
           "#ab63fa",
           "#FFA15A",
           "#19d3f3",
           "#FF6692",
           "#B6E880",
           "#FF97FF",
           "#FECB52"
          ],
          "font": {
           "color": "#2a3f5f"
          },
          "geo": {
           "bgcolor": "white",
           "lakecolor": "white",
           "landcolor": "#E5ECF6",
           "showlakes": true,
           "showland": true,
           "subunitcolor": "white"
          },
          "hoverlabel": {
           "align": "left"
          },
          "hovermode": "closest",
          "mapbox": {
           "style": "light"
          },
          "paper_bgcolor": "white",
          "plot_bgcolor": "#E5ECF6",
          "polar": {
           "angularaxis": {
            "gridcolor": "white",
            "linecolor": "white",
            "ticks": ""
           },
           "bgcolor": "#E5ECF6",
           "radialaxis": {
            "gridcolor": "white",
            "linecolor": "white",
            "ticks": ""
           }
          },
          "scene": {
           "xaxis": {
            "backgroundcolor": "#E5ECF6",
            "gridcolor": "white",
            "gridwidth": 2,
            "linecolor": "white",
            "showbackground": true,
            "ticks": "",
            "zerolinecolor": "white"
           },
           "yaxis": {
            "backgroundcolor": "#E5ECF6",
            "gridcolor": "white",
            "gridwidth": 2,
            "linecolor": "white",
            "showbackground": true,
            "ticks": "",
            "zerolinecolor": "white"
           },
           "zaxis": {
            "backgroundcolor": "#E5ECF6",
            "gridcolor": "white",
            "gridwidth": 2,
            "linecolor": "white",
            "showbackground": true,
            "ticks": "",
            "zerolinecolor": "white"
           }
          },
          "shapedefaults": {
           "line": {
            "color": "#2a3f5f"
           }
          },
          "ternary": {
           "aaxis": {
            "gridcolor": "white",
            "linecolor": "white",
            "ticks": ""
           },
           "baxis": {
            "gridcolor": "white",
            "linecolor": "white",
            "ticks": ""
           },
           "bgcolor": "#E5ECF6",
           "caxis": {
            "gridcolor": "white",
            "linecolor": "white",
            "ticks": ""
           }
          },
          "title": {
           "x": 0.05
          },
          "xaxis": {
           "automargin": true,
           "gridcolor": "white",
           "linecolor": "white",
           "ticks": "",
           "title": {
            "standoff": 15
           },
           "zerolinecolor": "white",
           "zerolinewidth": 2
          },
          "yaxis": {
           "automargin": true,
           "gridcolor": "white",
           "linecolor": "white",
           "ticks": "",
           "title": {
            "standoff": 15
           },
           "zerolinecolor": "white",
           "zerolinewidth": 2
          }
         }
        },
        "xaxis": {
         "tickangle": -45
        }
       }
      },
      "text/html": [
       "<div>                            <div id=\"85af7d21-07e6-4876-b827-ee259e4f396b\" class=\"plotly-graph-div\" style=\"height:525px; width:100%;\"></div>            <script type=\"text/javascript\">                require([\"plotly\"], function(Plotly) {                    window.PLOTLYENV=window.PLOTLYENV || {};                                    if (document.getElementById(\"85af7d21-07e6-4876-b827-ee259e4f396b\")) {                    Plotly.newPlot(                        \"85af7d21-07e6-4876-b827-ee259e4f396b\",                        [{\"name\":\"Unemployment\",\"x\":[\"2010-Jan\",\"2010-Feb\",\"2010-Mar\",\"2010-Apr\",\"2010-May\",\"2010-Jun\",\"2010-Jul\",\"2010-Aug\",\"2010-Sep\",\"2010-Oct\",\"2010-Nov\",\"2010-Dec\",\"2011-Jan\",\"2011-Feb\",\"2011-Mar\",\"2011-Apr\",\"2011-May\",\"2011-Jun\",\"2011-Jul\",\"2011-Aug\",\"2011-Sep\",\"2011-Oct\",\"2011-Nov\",\"2011-Dec\",\"2012-Jan\",\"2012-Feb\",\"2012-Mar\",\"2012-Apr\",\"2012-May\",\"2012-Jun\",\"2012-Jul\",\"2012-Aug\",\"2012-Sep\",\"2012-Oct\",\"2012-Nov\",\"2012-Dec\",\"2013-Jan\",\"2013-Feb\",\"2013-Mar\",\"2013-Apr\",\"2013-May\",\"2013-Jun\",\"2013-Jul\",\"2013-Aug\",\"2013-Sep\",\"2013-Oct\",\"2013-Nov\",\"2013-Dec\",\"2014-Jan\",\"2014-Feb\",\"2014-Mar\",\"2014-Apr\",\"2014-May\",\"2014-Jun\",\"2014-Jul\",\"2014-Aug\",\"2014-Sep\",\"2014-Oct\",\"2014-Nov\",\"2014-Dec\",\"2015-Jan\",\"2015-Feb\",\"2015-Mar\",\"2015-Apr\",\"2015-May\",\"2015-Jun\",\"2015-Jul\",\"2015-Aug\",\"2015-Sep\",\"2015-Oct\",\"2015-Nov\",\"2015-Dec\",\"2016-Jan\",\"2016-Feb\",\"2016-Mar\",\"2016-Apr\",\"2016-May\",\"2016-Jun\",\"2016-Jul\",\"2016-Aug\",\"2016-Sep\",\"2016-Oct\",\"2016-Nov\",\"2016-Dec\",\"2017-Jan\",\"2017-Feb\",\"2017-Mar\",\"2017-Apr\",\"2017-May\",\"2017-Jun\",\"2017-Jul\",\"2017-Aug\",\"2017-Sep\",\"2017-Oct\",\"2017-Nov\",\"2017-Dec\",\"2018-Jan\",\"2018-Feb\",\"2018-Mar\",\"2018-Apr\",\"2018-May\",\"2018-Jun\",\"2018-Jul\",\"2018-Aug\",\"2018-Sep\",\"2018-Oct\",\"2018-Nov\",\"2018-Dec\",\"2019-Jan\",\"2019-Feb\",\"2019-Mar\",\"2019-Apr\",\"2019-May\",\"2019-Jun\",\"2019-Jul\",\"2019-Aug\",\"2019-Sep\",\"2019-Oct\",\"2019-Nov\",\"2019-Dec\",\"2020-Jan\",\"2020-Feb\",\"2020-Mar\",\"2020-Apr\",\"2020-May\",\"2020-Jun\",\"2020-Jul\",\"2020-Aug\",\"2020-Sep\",\"2020-Oct\",\"2020-Nov\",\"2020-Dec\",\"2021-Jan\",\"2021-Feb\",\"2021-Mar\",\"2021-Apr\",\"2021-May\",\"2021-Jun\",\"2021-Jul\",\"2021-Aug\",\"2021-Sep\",\"2021-Oct\",\"2021-Nov\",\"2021-Dec\",\"2022-Jan\"],\"y\":[1002037,1005535,1006660,1004586,998844,992637,990246,993237,1000520,1009027,1014963,1016266,1014409,1011840,1010379,1012828,1021349,1033695,1046251,1026244,1002708,975870,946719,916813,888178,877452,841436,851105,856867,855973,847811,836108,826202,820771,820720,825003,831138,835777,835833,831373,824899,818725,813489,805928,794517,781618,768097,753688,737912,721554,707527,696883,688007,679936,671669,662652,651774,637462,620956,605779,594325,587606,583837,581180,579318,578704,580450,584340,587926,590060,590950,590447,589132,589237,592358,599706,610415,621145,629445,635306,640417,644755,646999,646838,640414,633917,623247,609926,595121,581414,570815,563119,557804,554048,552034,550999,550692,550600,549097,544959,539627,533946,528303,524863,524785,526438,526802,523169,514544,501844,488791,478646,474174,476705,484568,493076,496744,495343,490305,484222,480724,483015,702643,1668137,1628632,1384769,1287851,1119980,1074540,986822,974480,977744,948440,929683,904255,875958,840528,837848,794522,768726,728670,714152,694886,687603,688177],\"type\":\"bar\"},{\"name\":\"Employment\",\"x\":[\"2010-Jan\",\"2010-Feb\",\"2010-Mar\",\"2010-Apr\",\"2010-May\",\"2010-Jun\",\"2010-Jul\",\"2010-Aug\",\"2010-Sep\",\"2010-Oct\",\"2010-Nov\",\"2010-Dec\",\"2011-Jan\",\"2011-Feb\",\"2011-Mar\",\"2011-Apr\",\"2011-May\",\"2011-Jun\",\"2011-Jul\",\"2011-Aug\",\"2011-Sep\",\"2011-Oct\",\"2011-Nov\",\"2011-Dec\",\"2012-Jan\",\"2012-Feb\",\"2012-Mar\",\"2012-Apr\",\"2012-May\",\"2012-Jun\",\"2012-Jul\",\"2012-Aug\",\"2012-Sep\",\"2012-Oct\",\"2012-Nov\",\"2012-Dec\",\"2013-Jan\",\"2013-Feb\",\"2013-Mar\",\"2013-Apr\",\"2013-May\",\"2013-Jun\",\"2013-Jul\",\"2013-Aug\",\"2013-Sep\",\"2013-Oct\",\"2013-Nov\",\"2013-Dec\",\"2014-Jan\",\"2014-Feb\",\"2014-Mar\",\"2014-Apr\",\"2014-May\",\"2014-Jun\",\"2014-Jul\",\"2014-Aug\",\"2014-Sep\",\"2014-Oct\",\"2014-Nov\",\"2014-Dec\",\"2015-Jan\",\"2015-Feb\",\"2015-Mar\",\"2015-Apr\",\"2015-May\",\"2015-Jun\",\"2015-Jul\",\"2015-Aug\",\"2015-Sep\",\"2015-Oct\",\"2015-Nov\",\"2015-Dec\",\"2016-Jan\",\"2016-Feb\",\"2016-Mar\",\"2016-Apr\",\"2016-May\",\"2016-Jun\",\"2016-Jul\",\"2016-Aug\",\"2016-Sep\",\"2016-Oct\",\"2016-Nov\",\"2016-Dec\",\"2017-Jan\",\"2017-Feb\",\"2017-Mar\",\"2017-Apr\",\"2017-May\",\"2017-Jun\",\"2017-Jul\",\"2017-Aug\",\"2017-Sep\",\"2017-Oct\",\"2017-Nov\",\"2017-Dec\",\"2018-Jan\",\"2018-Feb\",\"2018-Mar\",\"2018-Apr\",\"2018-May\",\"2018-Jun\",\"2018-Jul\",\"2018-Aug\",\"2018-Sep\",\"2018-Oct\",\"2018-Nov\",\"2018-Dec\",\"2019-Jan\",\"2019-Feb\",\"2019-Mar\",\"2019-Apr\",\"2019-May\",\"2019-Jun\",\"2019-Jul\",\"2019-Aug\",\"2019-Sep\",\"2019-Oct\",\"2019-Nov\",\"2019-Dec\",\"2020-Jan\",\"2020-Feb\",\"2020-Mar\",\"2020-Apr\",\"2020-May\",\"2020-Jun\",\"2020-Jul\",\"2020-Aug\",\"2020-Sep\",\"2020-Oct\",\"2020-Nov\",\"2020-Dec\",\"2021-Jan\",\"2021-Feb\",\"2021-Mar\",\"2021-Apr\",\"2021-May\",\"2021-Jun\",\"2021-Jul\",\"2021-Aug\",\"2021-Sep\",\"2021-Oct\",\"2021-Nov\",\"2021-Dec\",\"2022-Jan\"],\"y\":[11106882,11146453,11184615,11218075,11246029,11267141,11282344,11294712,11306167,11320132,11337423,11356570,11377422,11398153,11416366,11431447,11445785,11463413,11487969,11519770,11556548,11594803,11630243,11659891,11683759,11704383,11722322,11737849,11754758,11776105,11802014,11830108,11857386,11879763,11895325,11905455,11912520,11921233,11936855,11962083,11991479,12018765,12041788,12061310,12079341,12099121,12124031,12154284,12188294,12223189,12254958,12280595,12302615,12325395,12348864,12373428,12398563,12420918,12436708,12446054,12451402,12455072,12461125,12471167,12483045,12493882,12503348,12512227,12523886,12543363,12571333,12603859,12635778,12662766,12683175,12698126,12710616,12722956,12736496,12750754,12763563,12774408,12787312,12805992,12743129,12773175,12805899,12838380,12868903,12894947,12915730,12931972,12945812,12959897,12974970,12994087,13019810,13053266,13091083,13125424,13150005,13164873,13172521,13177515,13183494,13193517,13208364,13227231,13248657,13272184,13297251,13324780,13353151,13379740,13402466,13421600,13442538,13465764,13488900,13501568,13494841,13466024,13135701,11522574,12172243,12393208,12601111,12769701,12909243,13001357,13060347,13099439,13135663,13178764,13233703,13294137,13353800,13405578,13455074,13500355,13544229,13581395,13593060,13595276,13645425],\"type\":\"bar\"}],                        {\"template\":{\"data\":{\"bar\":[{\"error_x\":{\"color\":\"#2a3f5f\"},\"error_y\":{\"color\":\"#2a3f5f\"},\"marker\":{\"line\":{\"color\":\"#E5ECF6\",\"width\":0.5},\"pattern\":{\"fillmode\":\"overlay\",\"size\":10,\"solidity\":0.2}},\"type\":\"bar\"}],\"barpolar\":[{\"marker\":{\"line\":{\"color\":\"#E5ECF6\",\"width\":0.5},\"pattern\":{\"fillmode\":\"overlay\",\"size\":10,\"solidity\":0.2}},\"type\":\"barpolar\"}],\"carpet\":[{\"aaxis\":{\"endlinecolor\":\"#2a3f5f\",\"gridcolor\":\"white\",\"linecolor\":\"white\",\"minorgridcolor\":\"white\",\"startlinecolor\":\"#2a3f5f\"},\"baxis\":{\"endlinecolor\":\"#2a3f5f\",\"gridcolor\":\"white\",\"linecolor\":\"white\",\"minorgridcolor\":\"white\",\"startlinecolor\":\"#2a3f5f\"},\"type\":\"carpet\"}],\"choropleth\":[{\"colorbar\":{\"outlinewidth\":0,\"ticks\":\"\"},\"type\":\"choropleth\"}],\"contour\":[{\"colorbar\":{\"outlinewidth\":0,\"ticks\":\"\"},\"colorscale\":[[0.0,\"#0d0887\"],[0.1111111111111111,\"#46039f\"],[0.2222222222222222,\"#7201a8\"],[0.3333333333333333,\"#9c179e\"],[0.4444444444444444,\"#bd3786\"],[0.5555555555555556,\"#d8576b\"],[0.6666666666666666,\"#ed7953\"],[0.7777777777777778,\"#fb9f3a\"],[0.8888888888888888,\"#fdca26\"],[1.0,\"#f0f921\"]],\"type\":\"contour\"}],\"contourcarpet\":[{\"colorbar\":{\"outlinewidth\":0,\"ticks\":\"\"},\"type\":\"contourcarpet\"}],\"heatmap\":[{\"colorbar\":{\"outlinewidth\":0,\"ticks\":\"\"},\"colorscale\":[[0.0,\"#0d0887\"],[0.1111111111111111,\"#46039f\"],[0.2222222222222222,\"#7201a8\"],[0.3333333333333333,\"#9c179e\"],[0.4444444444444444,\"#bd3786\"],[0.5555555555555556,\"#d8576b\"],[0.6666666666666666,\"#ed7953\"],[0.7777777777777778,\"#fb9f3a\"],[0.8888888888888888,\"#fdca26\"],[1.0,\"#f0f921\"]],\"type\":\"heatmap\"}],\"heatmapgl\":[{\"colorbar\":{\"outlinewidth\":0,\"ticks\":\"\"},\"colorscale\":[[0.0,\"#0d0887\"],[0.1111111111111111,\"#46039f\"],[0.2222222222222222,\"#7201a8\"],[0.3333333333333333,\"#9c179e\"],[0.4444444444444444,\"#bd3786\"],[0.5555555555555556,\"#d8576b\"],[0.6666666666666666,\"#ed7953\"],[0.7777777777777778,\"#fb9f3a\"],[0.8888888888888888,\"#fdca26\"],[1.0,\"#f0f921\"]],\"type\":\"heatmapgl\"}],\"histogram\":[{\"marker\":{\"pattern\":{\"fillmode\":\"overlay\",\"size\":10,\"solidity\":0.2}},\"type\":\"histogram\"}],\"histogram2d\":[{\"colorbar\":{\"outlinewidth\":0,\"ticks\":\"\"},\"colorscale\":[[0.0,\"#0d0887\"],[0.1111111111111111,\"#46039f\"],[0.2222222222222222,\"#7201a8\"],[0.3333333333333333,\"#9c179e\"],[0.4444444444444444,\"#bd3786\"],[0.5555555555555556,\"#d8576b\"],[0.6666666666666666,\"#ed7953\"],[0.7777777777777778,\"#fb9f3a\"],[0.8888888888888888,\"#fdca26\"],[1.0,\"#f0f921\"]],\"type\":\"histogram2d\"}],\"histogram2dcontour\":[{\"colorbar\":{\"outlinewidth\":0,\"ticks\":\"\"},\"colorscale\":[[0.0,\"#0d0887\"],[0.1111111111111111,\"#46039f\"],[0.2222222222222222,\"#7201a8\"],[0.3333333333333333,\"#9c179e\"],[0.4444444444444444,\"#bd3786\"],[0.5555555555555556,\"#d8576b\"],[0.6666666666666666,\"#ed7953\"],[0.7777777777777778,\"#fb9f3a\"],[0.8888888888888888,\"#fdca26\"],[1.0,\"#f0f921\"]],\"type\":\"histogram2dcontour\"}],\"mesh3d\":[{\"colorbar\":{\"outlinewidth\":0,\"ticks\":\"\"},\"type\":\"mesh3d\"}],\"parcoords\":[{\"line\":{\"colorbar\":{\"outlinewidth\":0,\"ticks\":\"\"}},\"type\":\"parcoords\"}],\"pie\":[{\"automargin\":true,\"type\":\"pie\"}],\"scatter\":[{\"marker\":{\"colorbar\":{\"outlinewidth\":0,\"ticks\":\"\"}},\"type\":\"scatter\"}],\"scatter3d\":[{\"line\":{\"colorbar\":{\"outlinewidth\":0,\"ticks\":\"\"}},\"marker\":{\"colorbar\":{\"outlinewidth\":0,\"ticks\":\"\"}},\"type\":\"scatter3d\"}],\"scattercarpet\":[{\"marker\":{\"colorbar\":{\"outlinewidth\":0,\"ticks\":\"\"}},\"type\":\"scattercarpet\"}],\"scattergeo\":[{\"marker\":{\"colorbar\":{\"outlinewidth\":0,\"ticks\":\"\"}},\"type\":\"scattergeo\"}],\"scattergl\":[{\"marker\":{\"colorbar\":{\"outlinewidth\":0,\"ticks\":\"\"}},\"type\":\"scattergl\"}],\"scattermapbox\":[{\"marker\":{\"colorbar\":{\"outlinewidth\":0,\"ticks\":\"\"}},\"type\":\"scattermapbox\"}],\"scatterpolar\":[{\"marker\":{\"colorbar\":{\"outlinewidth\":0,\"ticks\":\"\"}},\"type\":\"scatterpolar\"}],\"scatterpolargl\":[{\"marker\":{\"colorbar\":{\"outlinewidth\":0,\"ticks\":\"\"}},\"type\":\"scatterpolargl\"}],\"scatterternary\":[{\"marker\":{\"colorbar\":{\"outlinewidth\":0,\"ticks\":\"\"}},\"type\":\"scatterternary\"}],\"surface\":[{\"colorbar\":{\"outlinewidth\":0,\"ticks\":\"\"},\"colorscale\":[[0.0,\"#0d0887\"],[0.1111111111111111,\"#46039f\"],[0.2222222222222222,\"#7201a8\"],[0.3333333333333333,\"#9c179e\"],[0.4444444444444444,\"#bd3786\"],[0.5555555555555556,\"#d8576b\"],[0.6666666666666666,\"#ed7953\"],[0.7777777777777778,\"#fb9f3a\"],[0.8888888888888888,\"#fdca26\"],[1.0,\"#f0f921\"]],\"type\":\"surface\"}],\"table\":[{\"cells\":{\"fill\":{\"color\":\"#EBF0F8\"},\"line\":{\"color\":\"white\"}},\"header\":{\"fill\":{\"color\":\"#C8D4E3\"},\"line\":{\"color\":\"white\"}},\"type\":\"table\"}]},\"layout\":{\"annotationdefaults\":{\"arrowcolor\":\"#2a3f5f\",\"arrowhead\":0,\"arrowwidth\":1},\"autotypenumbers\":\"strict\",\"coloraxis\":{\"colorbar\":{\"outlinewidth\":0,\"ticks\":\"\"}},\"colorscale\":{\"diverging\":[[0,\"#8e0152\"],[0.1,\"#c51b7d\"],[0.2,\"#de77ae\"],[0.3,\"#f1b6da\"],[0.4,\"#fde0ef\"],[0.5,\"#f7f7f7\"],[0.6,\"#e6f5d0\"],[0.7,\"#b8e186\"],[0.8,\"#7fbc41\"],[0.9,\"#4d9221\"],[1,\"#276419\"]],\"sequential\":[[0.0,\"#0d0887\"],[0.1111111111111111,\"#46039f\"],[0.2222222222222222,\"#7201a8\"],[0.3333333333333333,\"#9c179e\"],[0.4444444444444444,\"#bd3786\"],[0.5555555555555556,\"#d8576b\"],[0.6666666666666666,\"#ed7953\"],[0.7777777777777778,\"#fb9f3a\"],[0.8888888888888888,\"#fdca26\"],[1.0,\"#f0f921\"]],\"sequentialminus\":[[0.0,\"#0d0887\"],[0.1111111111111111,\"#46039f\"],[0.2222222222222222,\"#7201a8\"],[0.3333333333333333,\"#9c179e\"],[0.4444444444444444,\"#bd3786\"],[0.5555555555555556,\"#d8576b\"],[0.6666666666666666,\"#ed7953\"],[0.7777777777777778,\"#fb9f3a\"],[0.8888888888888888,\"#fdca26\"],[1.0,\"#f0f921\"]]},\"colorway\":[\"#636efa\",\"#EF553B\",\"#00cc96\",\"#ab63fa\",\"#FFA15A\",\"#19d3f3\",\"#FF6692\",\"#B6E880\",\"#FF97FF\",\"#FECB52\"],\"font\":{\"color\":\"#2a3f5f\"},\"geo\":{\"bgcolor\":\"white\",\"lakecolor\":\"white\",\"landcolor\":\"#E5ECF6\",\"showlakes\":true,\"showland\":true,\"subunitcolor\":\"white\"},\"hoverlabel\":{\"align\":\"left\"},\"hovermode\":\"closest\",\"mapbox\":{\"style\":\"light\"},\"paper_bgcolor\":\"white\",\"plot_bgcolor\":\"#E5ECF6\",\"polar\":{\"angularaxis\":{\"gridcolor\":\"white\",\"linecolor\":\"white\",\"ticks\":\"\"},\"bgcolor\":\"#E5ECF6\",\"radialaxis\":{\"gridcolor\":\"white\",\"linecolor\":\"white\",\"ticks\":\"\"}},\"scene\":{\"xaxis\":{\"backgroundcolor\":\"#E5ECF6\",\"gridcolor\":\"white\",\"gridwidth\":2,\"linecolor\":\"white\",\"showbackground\":true,\"ticks\":\"\",\"zerolinecolor\":\"white\"},\"yaxis\":{\"backgroundcolor\":\"#E5ECF6\",\"gridcolor\":\"white\",\"gridwidth\":2,\"linecolor\":\"white\",\"showbackground\":true,\"ticks\":\"\",\"zerolinecolor\":\"white\"},\"zaxis\":{\"backgroundcolor\":\"#E5ECF6\",\"gridcolor\":\"white\",\"gridwidth\":2,\"linecolor\":\"white\",\"showbackground\":true,\"ticks\":\"\",\"zerolinecolor\":\"white\"}},\"shapedefaults\":{\"line\":{\"color\":\"#2a3f5f\"}},\"ternary\":{\"aaxis\":{\"gridcolor\":\"white\",\"linecolor\":\"white\",\"ticks\":\"\"},\"baxis\":{\"gridcolor\":\"white\",\"linecolor\":\"white\",\"ticks\":\"\"},\"bgcolor\":\"#E5ECF6\",\"caxis\":{\"gridcolor\":\"white\",\"linecolor\":\"white\",\"ticks\":\"\"}},\"title\":{\"x\":0.05},\"xaxis\":{\"automargin\":true,\"gridcolor\":\"white\",\"linecolor\":\"white\",\"ticks\":\"\",\"title\":{\"standoff\":15},\"zerolinecolor\":\"white\",\"zerolinewidth\":2},\"yaxis\":{\"automargin\":true,\"gridcolor\":\"white\",\"linecolor\":\"white\",\"ticks\":\"\",\"title\":{\"standoff\":15},\"zerolinecolor\":\"white\",\"zerolinewidth\":2}}},\"xaxis\":{\"tickangle\":-45},\"barmode\":\"group\"},                        {\"responsive\": true}                    ).then(function(){\n",
       "                            \n",
       "var gd = document.getElementById('85af7d21-07e6-4876-b827-ee259e4f396b');\n",
       "var x = new MutationObserver(function (mutations, observer) {{\n",
       "        var display = window.getComputedStyle(gd).display;\n",
       "        if (!display || display === 'none') {{\n",
       "            console.log([gd, 'removed!']);\n",
       "            Plotly.purge(gd);\n",
       "            observer.disconnect();\n",
       "        }}\n",
       "}});\n",
       "\n",
       "// Listen for the removal of the full notebook cells\n",
       "var notebookContainer = gd.closest('#notebook-container');\n",
       "if (notebookContainer) {{\n",
       "    x.observe(notebookContainer, {childList: true});\n",
       "}}\n",
       "\n",
       "// Listen for the clearing of the current output cell\n",
       "var outputEl = gd.closest('.output');\n",
       "if (outputEl) {{\n",
       "    x.observe(outputEl, {childList: true});\n",
       "}}\n",
       "\n",
       "                        })                };                });            </script>        </div>"
      ]
     },
     "metadata": {},
     "output_type": "display_data"
    }
   ],
   "source": [
    "fig = go.Figure()\n",
    "fig.add_trace(go.Bar(\n",
    "    x=unemployment['year/month'],\n",
    "    y=unemployment['unemployment'],\n",
    "    name='Unemployment',\n",
    "))\n",
    "fig.add_trace(go.Bar(\n",
    "    x=unemployment['year/month'],\n",
    "    y=unemployment['employment'],\n",
    "    name='Employment',\n",
    "))\n",
    "\n",
    "# Here we modify the tickangle of the xaxis, resulting in rotated labels.\n",
    "fig.update_layout(barmode='group', xaxis_tickangle=-45)\n",
    "fig.show()"
   ]
  },
  {
   "cell_type": "markdown",
   "metadata": {},
   "source": [
    "## Desemprego Vs Empregabilidade Rate"
   ]
  },
  {
   "cell_type": "code",
   "execution_count": 43,
   "metadata": {},
   "outputs": [
    {
     "data": {
      "application/vnd.plotly.v1+json": {
       "config": {
        "plotlyServerURL": "https://plot.ly"
       },
       "data": [
        {
         "name": "Unemployment Rate",
         "type": "bar",
         "x": [
          "2010-Jan",
          "2010-Feb",
          "2010-Mar",
          "2010-Apr",
          "2010-May",
          "2010-Jun",
          "2010-Jul",
          "2010-Aug",
          "2010-Sep",
          "2010-Oct",
          "2010-Nov",
          "2010-Dec",
          "2011-Jan",
          "2011-Feb",
          "2011-Mar",
          "2011-Apr",
          "2011-May",
          "2011-Jun",
          "2011-Jul",
          "2011-Aug",
          "2011-Sep",
          "2011-Oct",
          "2011-Nov",
          "2011-Dec",
          "2012-Jan",
          "2012-Feb",
          "2012-Mar",
          "2012-Apr",
          "2012-May",
          "2012-Jun",
          "2012-Jul",
          "2012-Aug",
          "2012-Sep",
          "2012-Oct",
          "2012-Nov",
          "2012-Dec",
          "2013-Jan",
          "2013-Feb",
          "2013-Mar",
          "2013-Apr",
          "2013-May",
          "2013-Jun",
          "2013-Jul",
          "2013-Aug",
          "2013-Sep",
          "2013-Oct",
          "2013-Nov",
          "2013-Dec",
          "2014-Jan",
          "2014-Feb",
          "2014-Mar",
          "2014-Apr",
          "2014-May",
          "2014-Jun",
          "2014-Jul",
          "2014-Aug",
          "2014-Sep",
          "2014-Oct",
          "2014-Nov",
          "2014-Dec",
          "2015-Jan",
          "2015-Feb",
          "2015-Mar",
          "2015-Apr",
          "2015-May",
          "2015-Jun",
          "2015-Jul",
          "2015-Aug",
          "2015-Sep",
          "2015-Oct",
          "2015-Nov",
          "2015-Dec",
          "2016-Jan",
          "2016-Feb",
          "2016-Mar",
          "2016-Apr",
          "2016-May",
          "2016-Jun",
          "2016-Jul",
          "2016-Aug",
          "2016-Sep",
          "2016-Oct",
          "2016-Nov",
          "2016-Dec",
          "2017-Jan",
          "2017-Feb",
          "2017-Mar",
          "2017-Apr",
          "2017-May",
          "2017-Jun",
          "2017-Jul",
          "2017-Aug",
          "2017-Sep",
          "2017-Oct",
          "2017-Nov",
          "2017-Dec",
          "2018-Jan",
          "2018-Feb",
          "2018-Mar",
          "2018-Apr",
          "2018-May",
          "2018-Jun",
          "2018-Jul",
          "2018-Aug",
          "2018-Sep",
          "2018-Oct",
          "2018-Nov",
          "2018-Dec",
          "2019-Jan",
          "2019-Feb",
          "2019-Mar",
          "2019-Apr",
          "2019-May",
          "2019-Jun",
          "2019-Jul",
          "2019-Aug",
          "2019-Sep",
          "2019-Oct",
          "2019-Nov",
          "2019-Dec",
          "2020-Jan",
          "2020-Feb",
          "2020-Mar",
          "2020-Apr",
          "2020-May",
          "2020-Jun",
          "2020-Jul",
          "2020-Aug",
          "2020-Sep",
          "2020-Oct",
          "2020-Nov",
          "2020-Dec",
          "2021-Jan",
          "2021-Feb",
          "2021-Mar",
          "2021-Apr",
          "2021-May",
          "2021-Jun",
          "2021-Jul",
          "2021-Aug",
          "2021-Sep",
          "2021-Oct",
          "2021-Nov",
          "2021-Dec",
          "2022-Jan"
         ],
         "y": [
          8.3,
          8.3,
          8.3,
          8.2,
          8.2,
          8.1,
          8.1,
          8.1,
          8.1,
          8.2,
          8.2,
          8.2,
          8.2,
          8.2,
          8.1,
          8.1,
          8.2,
          8.3,
          8.3,
          8.2,
          8,
          7.8,
          7.5,
          7.3,
          7.1,
          7,
          6.7,
          6.8,
          6.8,
          6.8,
          6.7,
          6.6,
          6.5,
          6.5,
          6.5,
          6.5,
          6.5,
          6.6,
          6.5,
          6.5,
          6.4,
          6.4,
          6.3,
          6.3,
          6.2,
          6.1,
          6,
          5.8,
          5.7,
          5.6,
          5.5,
          5.4,
          5.3,
          5.2,
          5.2,
          5.1,
          5,
          4.9,
          4.8,
          4.6,
          4.6,
          4.5,
          4.5,
          4.5,
          4.4,
          4.4,
          4.4,
          4.5,
          4.5,
          4.5,
          4.5,
          4.5,
          4.5,
          4.4,
          4.5,
          4.5,
          4.6,
          4.7,
          4.7,
          4.7,
          4.8,
          4.8,
          4.8,
          4.8,
          4.8,
          4.7,
          4.6,
          4.5,
          4.4,
          4.3,
          4.2,
          4.2,
          4.1,
          4.1,
          4.1,
          4.1,
          4.1,
          4,
          4,
          4,
          3.9,
          3.9,
          3.9,
          3.8,
          3.8,
          3.8,
          3.8,
          3.8,
          3.7,
          3.6,
          3.5,
          3.5,
          3.4,
          3.4,
          3.5,
          3.5,
          3.6,
          3.5,
          3.5,
          3.5,
          3.4,
          3.5,
          5.1,
          12.6,
          11.8,
          10.1,
          9.3,
          8.1,
          7.7,
          7.1,
          6.9,
          6.9,
          6.7,
          6.6,
          6.4,
          6.2,
          5.9,
          5.9,
          5.6,
          5.4,
          5.1,
          5,
          4.9,
          4.8,
          4.8
         ]
        },
        {
         "name": "Employment Rate",
         "type": "bar",
         "x": [
          "2010-Jan",
          "2010-Feb",
          "2010-Mar",
          "2010-Apr",
          "2010-May",
          "2010-Jun",
          "2010-Jul",
          "2010-Aug",
          "2010-Sep",
          "2010-Oct",
          "2010-Nov",
          "2010-Dec",
          "2011-Jan",
          "2011-Feb",
          "2011-Mar",
          "2011-Apr",
          "2011-May",
          "2011-Jun",
          "2011-Jul",
          "2011-Aug",
          "2011-Sep",
          "2011-Oct",
          "2011-Nov",
          "2011-Dec",
          "2012-Jan",
          "2012-Feb",
          "2012-Mar",
          "2012-Apr",
          "2012-May",
          "2012-Jun",
          "2012-Jul",
          "2012-Aug",
          "2012-Sep",
          "2012-Oct",
          "2012-Nov",
          "2012-Dec",
          "2013-Jan",
          "2013-Feb",
          "2013-Mar",
          "2013-Apr",
          "2013-May",
          "2013-Jun",
          "2013-Jul",
          "2013-Aug",
          "2013-Sep",
          "2013-Oct",
          "2013-Nov",
          "2013-Dec",
          "2014-Jan",
          "2014-Feb",
          "2014-Mar",
          "2014-Apr",
          "2014-May",
          "2014-Jun",
          "2014-Jul",
          "2014-Aug",
          "2014-Sep",
          "2014-Oct",
          "2014-Nov",
          "2014-Dec",
          "2015-Jan",
          "2015-Feb",
          "2015-Mar",
          "2015-Apr",
          "2015-May",
          "2015-Jun",
          "2015-Jul",
          "2015-Aug",
          "2015-Sep",
          "2015-Oct",
          "2015-Nov",
          "2015-Dec",
          "2016-Jan",
          "2016-Feb",
          "2016-Mar",
          "2016-Apr",
          "2016-May",
          "2016-Jun",
          "2016-Jul",
          "2016-Aug",
          "2016-Sep",
          "2016-Oct",
          "2016-Nov",
          "2016-Dec",
          "2017-Jan",
          "2017-Feb",
          "2017-Mar",
          "2017-Apr",
          "2017-May",
          "2017-Jun",
          "2017-Jul",
          "2017-Aug",
          "2017-Sep",
          "2017-Oct",
          "2017-Nov",
          "2017-Dec",
          "2018-Jan",
          "2018-Feb",
          "2018-Mar",
          "2018-Apr",
          "2018-May",
          "2018-Jun",
          "2018-Jul",
          "2018-Aug",
          "2018-Sep",
          "2018-Oct",
          "2018-Nov",
          "2018-Dec",
          "2019-Jan",
          "2019-Feb",
          "2019-Mar",
          "2019-Apr",
          "2019-May",
          "2019-Jun",
          "2019-Jul",
          "2019-Aug",
          "2019-Sep",
          "2019-Oct",
          "2019-Nov",
          "2019-Dec",
          "2020-Jan",
          "2020-Feb",
          "2020-Mar",
          "2020-Apr",
          "2020-May",
          "2020-Jun",
          "2020-Jul",
          "2020-Aug",
          "2020-Sep",
          "2020-Oct",
          "2020-Nov",
          "2020-Dec",
          "2021-Jan",
          "2021-Feb",
          "2021-Mar",
          "2021-Apr",
          "2021-May",
          "2021-Jun",
          "2021-Jul",
          "2021-Aug",
          "2021-Sep",
          "2021-Oct",
          "2021-Nov",
          "2021-Dec",
          "2022-Jan"
         ],
         "y": [
          60.8,
          60.9,
          61,
          60.5,
          60.6,
          60.6,
          60.6,
          60.6,
          60.5,
          60.5,
          60.5,
          60.5,
          60.5,
          60.5,
          60.5,
          60.5,
          60.5,
          60.5,
          60.5,
          60.6,
          60.7,
          60.8,
          60.9,
          60.9,
          61,
          61,
          61,
          61,
          61,
          61,
          61,
          61.1,
          61.1,
          61.1,
          61.1,
          61.1,
          61,
          61,
          61,
          61,
          61.1,
          61.1,
          61.1,
          61.1,
          61.1,
          61.1,
          61.1,
          61.2,
          61.2,
          61.3,
          61.4,
          61.4,
          61.4,
          61.4,
          61.4,
          61.5,
          61.5,
          61.5,
          61.4,
          61.4,
          61.3,
          61.2,
          61.1,
          61.1,
          61,
          61,
          60.9,
          60.8,
          60.8,
          60.8,
          60.8,
          60.9,
          61,
          61,
          61,
          61,
          60.9,
          60.9,
          60.9,
          60.9,
          60.8,
          60.8,
          60.8,
          60.8,
          60.7,
          60.8,
          60.9,
          60.9,
          61,
          61.1,
          61.1,
          61.1,
          61.1,
          61,
          61,
          61.1,
          61.1,
          61.2,
          61.3,
          61.4,
          61.5,
          61.5,
          61.4,
          61.4,
          61.3,
          61.2,
          61.2,
          61.2,
          61.3,
          61.3,
          61.4,
          61.4,
          61.5,
          61.5,
          61.5,
          61.5,
          61.5,
          61.5,
          61.6,
          61.5,
          61.4,
          61.2,
          59.6,
          52.2,
          55.1,
          56.1,
          56.9,
          57.6,
          58.2,
          58.5,
          58.7,
          58.8,
          58.9,
          59,
          59.2,
          59.4,
          59.6,
          59.8,
          59.9,
          60,
          60.1,
          60.2,
          60.1,
          60.1,
          60.2
         ]
        }
       ],
       "layout": {
        "barmode": "group",
        "template": {
         "data": {
          "bar": [
           {
            "error_x": {
             "color": "#2a3f5f"
            },
            "error_y": {
             "color": "#2a3f5f"
            },
            "marker": {
             "line": {
              "color": "#E5ECF6",
              "width": 0.5
             },
             "pattern": {
              "fillmode": "overlay",
              "size": 10,
              "solidity": 0.2
             }
            },
            "type": "bar"
           }
          ],
          "barpolar": [
           {
            "marker": {
             "line": {
              "color": "#E5ECF6",
              "width": 0.5
             },
             "pattern": {
              "fillmode": "overlay",
              "size": 10,
              "solidity": 0.2
             }
            },
            "type": "barpolar"
           }
          ],
          "carpet": [
           {
            "aaxis": {
             "endlinecolor": "#2a3f5f",
             "gridcolor": "white",
             "linecolor": "white",
             "minorgridcolor": "white",
             "startlinecolor": "#2a3f5f"
            },
            "baxis": {
             "endlinecolor": "#2a3f5f",
             "gridcolor": "white",
             "linecolor": "white",
             "minorgridcolor": "white",
             "startlinecolor": "#2a3f5f"
            },
            "type": "carpet"
           }
          ],
          "choropleth": [
           {
            "colorbar": {
             "outlinewidth": 0,
             "ticks": ""
            },
            "type": "choropleth"
           }
          ],
          "contour": [
           {
            "colorbar": {
             "outlinewidth": 0,
             "ticks": ""
            },
            "colorscale": [
             [
              0,
              "#0d0887"
             ],
             [
              0.1111111111111111,
              "#46039f"
             ],
             [
              0.2222222222222222,
              "#7201a8"
             ],
             [
              0.3333333333333333,
              "#9c179e"
             ],
             [
              0.4444444444444444,
              "#bd3786"
             ],
             [
              0.5555555555555556,
              "#d8576b"
             ],
             [
              0.6666666666666666,
              "#ed7953"
             ],
             [
              0.7777777777777778,
              "#fb9f3a"
             ],
             [
              0.8888888888888888,
              "#fdca26"
             ],
             [
              1,
              "#f0f921"
             ]
            ],
            "type": "contour"
           }
          ],
          "contourcarpet": [
           {
            "colorbar": {
             "outlinewidth": 0,
             "ticks": ""
            },
            "type": "contourcarpet"
           }
          ],
          "heatmap": [
           {
            "colorbar": {
             "outlinewidth": 0,
             "ticks": ""
            },
            "colorscale": [
             [
              0,
              "#0d0887"
             ],
             [
              0.1111111111111111,
              "#46039f"
             ],
             [
              0.2222222222222222,
              "#7201a8"
             ],
             [
              0.3333333333333333,
              "#9c179e"
             ],
             [
              0.4444444444444444,
              "#bd3786"
             ],
             [
              0.5555555555555556,
              "#d8576b"
             ],
             [
              0.6666666666666666,
              "#ed7953"
             ],
             [
              0.7777777777777778,
              "#fb9f3a"
             ],
             [
              0.8888888888888888,
              "#fdca26"
             ],
             [
              1,
              "#f0f921"
             ]
            ],
            "type": "heatmap"
           }
          ],
          "heatmapgl": [
           {
            "colorbar": {
             "outlinewidth": 0,
             "ticks": ""
            },
            "colorscale": [
             [
              0,
              "#0d0887"
             ],
             [
              0.1111111111111111,
              "#46039f"
             ],
             [
              0.2222222222222222,
              "#7201a8"
             ],
             [
              0.3333333333333333,
              "#9c179e"
             ],
             [
              0.4444444444444444,
              "#bd3786"
             ],
             [
              0.5555555555555556,
              "#d8576b"
             ],
             [
              0.6666666666666666,
              "#ed7953"
             ],
             [
              0.7777777777777778,
              "#fb9f3a"
             ],
             [
              0.8888888888888888,
              "#fdca26"
             ],
             [
              1,
              "#f0f921"
             ]
            ],
            "type": "heatmapgl"
           }
          ],
          "histogram": [
           {
            "marker": {
             "pattern": {
              "fillmode": "overlay",
              "size": 10,
              "solidity": 0.2
             }
            },
            "type": "histogram"
           }
          ],
          "histogram2d": [
           {
            "colorbar": {
             "outlinewidth": 0,
             "ticks": ""
            },
            "colorscale": [
             [
              0,
              "#0d0887"
             ],
             [
              0.1111111111111111,
              "#46039f"
             ],
             [
              0.2222222222222222,
              "#7201a8"
             ],
             [
              0.3333333333333333,
              "#9c179e"
             ],
             [
              0.4444444444444444,
              "#bd3786"
             ],
             [
              0.5555555555555556,
              "#d8576b"
             ],
             [
              0.6666666666666666,
              "#ed7953"
             ],
             [
              0.7777777777777778,
              "#fb9f3a"
             ],
             [
              0.8888888888888888,
              "#fdca26"
             ],
             [
              1,
              "#f0f921"
             ]
            ],
            "type": "histogram2d"
           }
          ],
          "histogram2dcontour": [
           {
            "colorbar": {
             "outlinewidth": 0,
             "ticks": ""
            },
            "colorscale": [
             [
              0,
              "#0d0887"
             ],
             [
              0.1111111111111111,
              "#46039f"
             ],
             [
              0.2222222222222222,
              "#7201a8"
             ],
             [
              0.3333333333333333,
              "#9c179e"
             ],
             [
              0.4444444444444444,
              "#bd3786"
             ],
             [
              0.5555555555555556,
              "#d8576b"
             ],
             [
              0.6666666666666666,
              "#ed7953"
             ],
             [
              0.7777777777777778,
              "#fb9f3a"
             ],
             [
              0.8888888888888888,
              "#fdca26"
             ],
             [
              1,
              "#f0f921"
             ]
            ],
            "type": "histogram2dcontour"
           }
          ],
          "mesh3d": [
           {
            "colorbar": {
             "outlinewidth": 0,
             "ticks": ""
            },
            "type": "mesh3d"
           }
          ],
          "parcoords": [
           {
            "line": {
             "colorbar": {
              "outlinewidth": 0,
              "ticks": ""
             }
            },
            "type": "parcoords"
           }
          ],
          "pie": [
           {
            "automargin": true,
            "type": "pie"
           }
          ],
          "scatter": [
           {
            "marker": {
             "colorbar": {
              "outlinewidth": 0,
              "ticks": ""
             }
            },
            "type": "scatter"
           }
          ],
          "scatter3d": [
           {
            "line": {
             "colorbar": {
              "outlinewidth": 0,
              "ticks": ""
             }
            },
            "marker": {
             "colorbar": {
              "outlinewidth": 0,
              "ticks": ""
             }
            },
            "type": "scatter3d"
           }
          ],
          "scattercarpet": [
           {
            "marker": {
             "colorbar": {
              "outlinewidth": 0,
              "ticks": ""
             }
            },
            "type": "scattercarpet"
           }
          ],
          "scattergeo": [
           {
            "marker": {
             "colorbar": {
              "outlinewidth": 0,
              "ticks": ""
             }
            },
            "type": "scattergeo"
           }
          ],
          "scattergl": [
           {
            "marker": {
             "colorbar": {
              "outlinewidth": 0,
              "ticks": ""
             }
            },
            "type": "scattergl"
           }
          ],
          "scattermapbox": [
           {
            "marker": {
             "colorbar": {
              "outlinewidth": 0,
              "ticks": ""
             }
            },
            "type": "scattermapbox"
           }
          ],
          "scatterpolar": [
           {
            "marker": {
             "colorbar": {
              "outlinewidth": 0,
              "ticks": ""
             }
            },
            "type": "scatterpolar"
           }
          ],
          "scatterpolargl": [
           {
            "marker": {
             "colorbar": {
              "outlinewidth": 0,
              "ticks": ""
             }
            },
            "type": "scatterpolargl"
           }
          ],
          "scatterternary": [
           {
            "marker": {
             "colorbar": {
              "outlinewidth": 0,
              "ticks": ""
             }
            },
            "type": "scatterternary"
           }
          ],
          "surface": [
           {
            "colorbar": {
             "outlinewidth": 0,
             "ticks": ""
            },
            "colorscale": [
             [
              0,
              "#0d0887"
             ],
             [
              0.1111111111111111,
              "#46039f"
             ],
             [
              0.2222222222222222,
              "#7201a8"
             ],
             [
              0.3333333333333333,
              "#9c179e"
             ],
             [
              0.4444444444444444,
              "#bd3786"
             ],
             [
              0.5555555555555556,
              "#d8576b"
             ],
             [
              0.6666666666666666,
              "#ed7953"
             ],
             [
              0.7777777777777778,
              "#fb9f3a"
             ],
             [
              0.8888888888888888,
              "#fdca26"
             ],
             [
              1,
              "#f0f921"
             ]
            ],
            "type": "surface"
           }
          ],
          "table": [
           {
            "cells": {
             "fill": {
              "color": "#EBF0F8"
             },
             "line": {
              "color": "white"
             }
            },
            "header": {
             "fill": {
              "color": "#C8D4E3"
             },
             "line": {
              "color": "white"
             }
            },
            "type": "table"
           }
          ]
         },
         "layout": {
          "annotationdefaults": {
           "arrowcolor": "#2a3f5f",
           "arrowhead": 0,
           "arrowwidth": 1
          },
          "autotypenumbers": "strict",
          "coloraxis": {
           "colorbar": {
            "outlinewidth": 0,
            "ticks": ""
           }
          },
          "colorscale": {
           "diverging": [
            [
             0,
             "#8e0152"
            ],
            [
             0.1,
             "#c51b7d"
            ],
            [
             0.2,
             "#de77ae"
            ],
            [
             0.3,
             "#f1b6da"
            ],
            [
             0.4,
             "#fde0ef"
            ],
            [
             0.5,
             "#f7f7f7"
            ],
            [
             0.6,
             "#e6f5d0"
            ],
            [
             0.7,
             "#b8e186"
            ],
            [
             0.8,
             "#7fbc41"
            ],
            [
             0.9,
             "#4d9221"
            ],
            [
             1,
             "#276419"
            ]
           ],
           "sequential": [
            [
             0,
             "#0d0887"
            ],
            [
             0.1111111111111111,
             "#46039f"
            ],
            [
             0.2222222222222222,
             "#7201a8"
            ],
            [
             0.3333333333333333,
             "#9c179e"
            ],
            [
             0.4444444444444444,
             "#bd3786"
            ],
            [
             0.5555555555555556,
             "#d8576b"
            ],
            [
             0.6666666666666666,
             "#ed7953"
            ],
            [
             0.7777777777777778,
             "#fb9f3a"
            ],
            [
             0.8888888888888888,
             "#fdca26"
            ],
            [
             1,
             "#f0f921"
            ]
           ],
           "sequentialminus": [
            [
             0,
             "#0d0887"
            ],
            [
             0.1111111111111111,
             "#46039f"
            ],
            [
             0.2222222222222222,
             "#7201a8"
            ],
            [
             0.3333333333333333,
             "#9c179e"
            ],
            [
             0.4444444444444444,
             "#bd3786"
            ],
            [
             0.5555555555555556,
             "#d8576b"
            ],
            [
             0.6666666666666666,
             "#ed7953"
            ],
            [
             0.7777777777777778,
             "#fb9f3a"
            ],
            [
             0.8888888888888888,
             "#fdca26"
            ],
            [
             1,
             "#f0f921"
            ]
           ]
          },
          "colorway": [
           "#636efa",
           "#EF553B",
           "#00cc96",
           "#ab63fa",
           "#FFA15A",
           "#19d3f3",
           "#FF6692",
           "#B6E880",
           "#FF97FF",
           "#FECB52"
          ],
          "font": {
           "color": "#2a3f5f"
          },
          "geo": {
           "bgcolor": "white",
           "lakecolor": "white",
           "landcolor": "#E5ECF6",
           "showlakes": true,
           "showland": true,
           "subunitcolor": "white"
          },
          "hoverlabel": {
           "align": "left"
          },
          "hovermode": "closest",
          "mapbox": {
           "style": "light"
          },
          "paper_bgcolor": "white",
          "plot_bgcolor": "#E5ECF6",
          "polar": {
           "angularaxis": {
            "gridcolor": "white",
            "linecolor": "white",
            "ticks": ""
           },
           "bgcolor": "#E5ECF6",
           "radialaxis": {
            "gridcolor": "white",
            "linecolor": "white",
            "ticks": ""
           }
          },
          "scene": {
           "xaxis": {
            "backgroundcolor": "#E5ECF6",
            "gridcolor": "white",
            "gridwidth": 2,
            "linecolor": "white",
            "showbackground": true,
            "ticks": "",
            "zerolinecolor": "white"
           },
           "yaxis": {
            "backgroundcolor": "#E5ECF6",
            "gridcolor": "white",
            "gridwidth": 2,
            "linecolor": "white",
            "showbackground": true,
            "ticks": "",
            "zerolinecolor": "white"
           },
           "zaxis": {
            "backgroundcolor": "#E5ECF6",
            "gridcolor": "white",
            "gridwidth": 2,
            "linecolor": "white",
            "showbackground": true,
            "ticks": "",
            "zerolinecolor": "white"
           }
          },
          "shapedefaults": {
           "line": {
            "color": "#2a3f5f"
           }
          },
          "ternary": {
           "aaxis": {
            "gridcolor": "white",
            "linecolor": "white",
            "ticks": ""
           },
           "baxis": {
            "gridcolor": "white",
            "linecolor": "white",
            "ticks": ""
           },
           "bgcolor": "#E5ECF6",
           "caxis": {
            "gridcolor": "white",
            "linecolor": "white",
            "ticks": ""
           }
          },
          "title": {
           "x": 0.05
          },
          "xaxis": {
           "automargin": true,
           "gridcolor": "white",
           "linecolor": "white",
           "ticks": "",
           "title": {
            "standoff": 15
           },
           "zerolinecolor": "white",
           "zerolinewidth": 2
          },
          "yaxis": {
           "automargin": true,
           "gridcolor": "white",
           "linecolor": "white",
           "ticks": "",
           "title": {
            "standoff": 15
           },
           "zerolinecolor": "white",
           "zerolinewidth": 2
          }
         }
        },
        "xaxis": {
         "tickangle": -45
        }
       }
      },
      "text/html": [
       "<div>                            <div id=\"ec607eed-4f93-49a3-be03-32379fcb1e52\" class=\"plotly-graph-div\" style=\"height:525px; width:100%;\"></div>            <script type=\"text/javascript\">                require([\"plotly\"], function(Plotly) {                    window.PLOTLYENV=window.PLOTLYENV || {};                                    if (document.getElementById(\"ec607eed-4f93-49a3-be03-32379fcb1e52\")) {                    Plotly.newPlot(                        \"ec607eed-4f93-49a3-be03-32379fcb1e52\",                        [{\"name\":\"Unemployment Rate\",\"x\":[\"2010-Jan\",\"2010-Feb\",\"2010-Mar\",\"2010-Apr\",\"2010-May\",\"2010-Jun\",\"2010-Jul\",\"2010-Aug\",\"2010-Sep\",\"2010-Oct\",\"2010-Nov\",\"2010-Dec\",\"2011-Jan\",\"2011-Feb\",\"2011-Mar\",\"2011-Apr\",\"2011-May\",\"2011-Jun\",\"2011-Jul\",\"2011-Aug\",\"2011-Sep\",\"2011-Oct\",\"2011-Nov\",\"2011-Dec\",\"2012-Jan\",\"2012-Feb\",\"2012-Mar\",\"2012-Apr\",\"2012-May\",\"2012-Jun\",\"2012-Jul\",\"2012-Aug\",\"2012-Sep\",\"2012-Oct\",\"2012-Nov\",\"2012-Dec\",\"2013-Jan\",\"2013-Feb\",\"2013-Mar\",\"2013-Apr\",\"2013-May\",\"2013-Jun\",\"2013-Jul\",\"2013-Aug\",\"2013-Sep\",\"2013-Oct\",\"2013-Nov\",\"2013-Dec\",\"2014-Jan\",\"2014-Feb\",\"2014-Mar\",\"2014-Apr\",\"2014-May\",\"2014-Jun\",\"2014-Jul\",\"2014-Aug\",\"2014-Sep\",\"2014-Oct\",\"2014-Nov\",\"2014-Dec\",\"2015-Jan\",\"2015-Feb\",\"2015-Mar\",\"2015-Apr\",\"2015-May\",\"2015-Jun\",\"2015-Jul\",\"2015-Aug\",\"2015-Sep\",\"2015-Oct\",\"2015-Nov\",\"2015-Dec\",\"2016-Jan\",\"2016-Feb\",\"2016-Mar\",\"2016-Apr\",\"2016-May\",\"2016-Jun\",\"2016-Jul\",\"2016-Aug\",\"2016-Sep\",\"2016-Oct\",\"2016-Nov\",\"2016-Dec\",\"2017-Jan\",\"2017-Feb\",\"2017-Mar\",\"2017-Apr\",\"2017-May\",\"2017-Jun\",\"2017-Jul\",\"2017-Aug\",\"2017-Sep\",\"2017-Oct\",\"2017-Nov\",\"2017-Dec\",\"2018-Jan\",\"2018-Feb\",\"2018-Mar\",\"2018-Apr\",\"2018-May\",\"2018-Jun\",\"2018-Jul\",\"2018-Aug\",\"2018-Sep\",\"2018-Oct\",\"2018-Nov\",\"2018-Dec\",\"2019-Jan\",\"2019-Feb\",\"2019-Mar\",\"2019-Apr\",\"2019-May\",\"2019-Jun\",\"2019-Jul\",\"2019-Aug\",\"2019-Sep\",\"2019-Oct\",\"2019-Nov\",\"2019-Dec\",\"2020-Jan\",\"2020-Feb\",\"2020-Mar\",\"2020-Apr\",\"2020-May\",\"2020-Jun\",\"2020-Jul\",\"2020-Aug\",\"2020-Sep\",\"2020-Oct\",\"2020-Nov\",\"2020-Dec\",\"2021-Jan\",\"2021-Feb\",\"2021-Mar\",\"2021-Apr\",\"2021-May\",\"2021-Jun\",\"2021-Jul\",\"2021-Aug\",\"2021-Sep\",\"2021-Oct\",\"2021-Nov\",\"2021-Dec\",\"2022-Jan\"],\"y\":[8.3,8.3,8.3,8.2,8.2,8.1,8.1,8.1,8.1,8.2,8.2,8.2,8.2,8.2,8.1,8.1,8.2,8.3,8.3,8.2,8.0,7.8,7.5,7.3,7.1,7.0,6.7,6.8,6.8,6.8,6.7,6.6,6.5,6.5,6.5,6.5,6.5,6.6,6.5,6.5,6.4,6.4,6.3,6.3,6.2,6.1,6.0,5.8,5.7,5.6,5.5,5.4,5.3,5.2,5.2,5.1,5.0,4.9,4.8,4.6,4.6,4.5,4.5,4.5,4.4,4.4,4.4,4.5,4.5,4.5,4.5,4.5,4.5,4.4,4.5,4.5,4.6,4.7,4.7,4.7,4.8,4.8,4.8,4.8,4.8,4.7,4.6,4.5,4.4,4.3,4.2,4.2,4.1,4.1,4.1,4.1,4.1,4.0,4.0,4.0,3.9,3.9,3.9,3.8,3.8,3.8,3.8,3.8,3.7,3.6,3.5,3.5,3.4,3.4,3.5,3.5,3.6,3.5,3.5,3.5,3.4,3.5,5.1,12.6,11.8,10.1,9.3,8.1,7.7,7.1,6.9,6.9,6.7,6.6,6.4,6.2,5.9,5.9,5.6,5.4,5.1,5.0,4.9,4.8,4.8],\"type\":\"bar\"},{\"name\":\"Employment Rate\",\"x\":[\"2010-Jan\",\"2010-Feb\",\"2010-Mar\",\"2010-Apr\",\"2010-May\",\"2010-Jun\",\"2010-Jul\",\"2010-Aug\",\"2010-Sep\",\"2010-Oct\",\"2010-Nov\",\"2010-Dec\",\"2011-Jan\",\"2011-Feb\",\"2011-Mar\",\"2011-Apr\",\"2011-May\",\"2011-Jun\",\"2011-Jul\",\"2011-Aug\",\"2011-Sep\",\"2011-Oct\",\"2011-Nov\",\"2011-Dec\",\"2012-Jan\",\"2012-Feb\",\"2012-Mar\",\"2012-Apr\",\"2012-May\",\"2012-Jun\",\"2012-Jul\",\"2012-Aug\",\"2012-Sep\",\"2012-Oct\",\"2012-Nov\",\"2012-Dec\",\"2013-Jan\",\"2013-Feb\",\"2013-Mar\",\"2013-Apr\",\"2013-May\",\"2013-Jun\",\"2013-Jul\",\"2013-Aug\",\"2013-Sep\",\"2013-Oct\",\"2013-Nov\",\"2013-Dec\",\"2014-Jan\",\"2014-Feb\",\"2014-Mar\",\"2014-Apr\",\"2014-May\",\"2014-Jun\",\"2014-Jul\",\"2014-Aug\",\"2014-Sep\",\"2014-Oct\",\"2014-Nov\",\"2014-Dec\",\"2015-Jan\",\"2015-Feb\",\"2015-Mar\",\"2015-Apr\",\"2015-May\",\"2015-Jun\",\"2015-Jul\",\"2015-Aug\",\"2015-Sep\",\"2015-Oct\",\"2015-Nov\",\"2015-Dec\",\"2016-Jan\",\"2016-Feb\",\"2016-Mar\",\"2016-Apr\",\"2016-May\",\"2016-Jun\",\"2016-Jul\",\"2016-Aug\",\"2016-Sep\",\"2016-Oct\",\"2016-Nov\",\"2016-Dec\",\"2017-Jan\",\"2017-Feb\",\"2017-Mar\",\"2017-Apr\",\"2017-May\",\"2017-Jun\",\"2017-Jul\",\"2017-Aug\",\"2017-Sep\",\"2017-Oct\",\"2017-Nov\",\"2017-Dec\",\"2018-Jan\",\"2018-Feb\",\"2018-Mar\",\"2018-Apr\",\"2018-May\",\"2018-Jun\",\"2018-Jul\",\"2018-Aug\",\"2018-Sep\",\"2018-Oct\",\"2018-Nov\",\"2018-Dec\",\"2019-Jan\",\"2019-Feb\",\"2019-Mar\",\"2019-Apr\",\"2019-May\",\"2019-Jun\",\"2019-Jul\",\"2019-Aug\",\"2019-Sep\",\"2019-Oct\",\"2019-Nov\",\"2019-Dec\",\"2020-Jan\",\"2020-Feb\",\"2020-Mar\",\"2020-Apr\",\"2020-May\",\"2020-Jun\",\"2020-Jul\",\"2020-Aug\",\"2020-Sep\",\"2020-Oct\",\"2020-Nov\",\"2020-Dec\",\"2021-Jan\",\"2021-Feb\",\"2021-Mar\",\"2021-Apr\",\"2021-May\",\"2021-Jun\",\"2021-Jul\",\"2021-Aug\",\"2021-Sep\",\"2021-Oct\",\"2021-Nov\",\"2021-Dec\",\"2022-Jan\"],\"y\":[60.8,60.9,61.0,60.5,60.6,60.6,60.6,60.6,60.5,60.5,60.5,60.5,60.5,60.5,60.5,60.5,60.5,60.5,60.5,60.6,60.7,60.8,60.9,60.9,61.0,61.0,61.0,61.0,61.0,61.0,61.0,61.1,61.1,61.1,61.1,61.1,61.0,61.0,61.0,61.0,61.1,61.1,61.1,61.1,61.1,61.1,61.1,61.2,61.2,61.3,61.4,61.4,61.4,61.4,61.4,61.5,61.5,61.5,61.4,61.4,61.3,61.2,61.1,61.1,61.0,61.0,60.9,60.8,60.8,60.8,60.8,60.9,61.0,61.0,61.0,61.0,60.9,60.9,60.9,60.9,60.8,60.8,60.8,60.8,60.7,60.8,60.9,60.9,61.0,61.1,61.1,61.1,61.1,61.0,61.0,61.1,61.1,61.2,61.3,61.4,61.5,61.5,61.4,61.4,61.3,61.2,61.2,61.2,61.3,61.3,61.4,61.4,61.5,61.5,61.5,61.5,61.5,61.5,61.6,61.5,61.4,61.2,59.6,52.2,55.1,56.1,56.9,57.6,58.2,58.5,58.7,58.8,58.9,59.0,59.2,59.4,59.6,59.8,59.9,60.0,60.1,60.2,60.1,60.1,60.2],\"type\":\"bar\"}],                        {\"template\":{\"data\":{\"bar\":[{\"error_x\":{\"color\":\"#2a3f5f\"},\"error_y\":{\"color\":\"#2a3f5f\"},\"marker\":{\"line\":{\"color\":\"#E5ECF6\",\"width\":0.5},\"pattern\":{\"fillmode\":\"overlay\",\"size\":10,\"solidity\":0.2}},\"type\":\"bar\"}],\"barpolar\":[{\"marker\":{\"line\":{\"color\":\"#E5ECF6\",\"width\":0.5},\"pattern\":{\"fillmode\":\"overlay\",\"size\":10,\"solidity\":0.2}},\"type\":\"barpolar\"}],\"carpet\":[{\"aaxis\":{\"endlinecolor\":\"#2a3f5f\",\"gridcolor\":\"white\",\"linecolor\":\"white\",\"minorgridcolor\":\"white\",\"startlinecolor\":\"#2a3f5f\"},\"baxis\":{\"endlinecolor\":\"#2a3f5f\",\"gridcolor\":\"white\",\"linecolor\":\"white\",\"minorgridcolor\":\"white\",\"startlinecolor\":\"#2a3f5f\"},\"type\":\"carpet\"}],\"choropleth\":[{\"colorbar\":{\"outlinewidth\":0,\"ticks\":\"\"},\"type\":\"choropleth\"}],\"contour\":[{\"colorbar\":{\"outlinewidth\":0,\"ticks\":\"\"},\"colorscale\":[[0.0,\"#0d0887\"],[0.1111111111111111,\"#46039f\"],[0.2222222222222222,\"#7201a8\"],[0.3333333333333333,\"#9c179e\"],[0.4444444444444444,\"#bd3786\"],[0.5555555555555556,\"#d8576b\"],[0.6666666666666666,\"#ed7953\"],[0.7777777777777778,\"#fb9f3a\"],[0.8888888888888888,\"#fdca26\"],[1.0,\"#f0f921\"]],\"type\":\"contour\"}],\"contourcarpet\":[{\"colorbar\":{\"outlinewidth\":0,\"ticks\":\"\"},\"type\":\"contourcarpet\"}],\"heatmap\":[{\"colorbar\":{\"outlinewidth\":0,\"ticks\":\"\"},\"colorscale\":[[0.0,\"#0d0887\"],[0.1111111111111111,\"#46039f\"],[0.2222222222222222,\"#7201a8\"],[0.3333333333333333,\"#9c179e\"],[0.4444444444444444,\"#bd3786\"],[0.5555555555555556,\"#d8576b\"],[0.6666666666666666,\"#ed7953\"],[0.7777777777777778,\"#fb9f3a\"],[0.8888888888888888,\"#fdca26\"],[1.0,\"#f0f921\"]],\"type\":\"heatmap\"}],\"heatmapgl\":[{\"colorbar\":{\"outlinewidth\":0,\"ticks\":\"\"},\"colorscale\":[[0.0,\"#0d0887\"],[0.1111111111111111,\"#46039f\"],[0.2222222222222222,\"#7201a8\"],[0.3333333333333333,\"#9c179e\"],[0.4444444444444444,\"#bd3786\"],[0.5555555555555556,\"#d8576b\"],[0.6666666666666666,\"#ed7953\"],[0.7777777777777778,\"#fb9f3a\"],[0.8888888888888888,\"#fdca26\"],[1.0,\"#f0f921\"]],\"type\":\"heatmapgl\"}],\"histogram\":[{\"marker\":{\"pattern\":{\"fillmode\":\"overlay\",\"size\":10,\"solidity\":0.2}},\"type\":\"histogram\"}],\"histogram2d\":[{\"colorbar\":{\"outlinewidth\":0,\"ticks\":\"\"},\"colorscale\":[[0.0,\"#0d0887\"],[0.1111111111111111,\"#46039f\"],[0.2222222222222222,\"#7201a8\"],[0.3333333333333333,\"#9c179e\"],[0.4444444444444444,\"#bd3786\"],[0.5555555555555556,\"#d8576b\"],[0.6666666666666666,\"#ed7953\"],[0.7777777777777778,\"#fb9f3a\"],[0.8888888888888888,\"#fdca26\"],[1.0,\"#f0f921\"]],\"type\":\"histogram2d\"}],\"histogram2dcontour\":[{\"colorbar\":{\"outlinewidth\":0,\"ticks\":\"\"},\"colorscale\":[[0.0,\"#0d0887\"],[0.1111111111111111,\"#46039f\"],[0.2222222222222222,\"#7201a8\"],[0.3333333333333333,\"#9c179e\"],[0.4444444444444444,\"#bd3786\"],[0.5555555555555556,\"#d8576b\"],[0.6666666666666666,\"#ed7953\"],[0.7777777777777778,\"#fb9f3a\"],[0.8888888888888888,\"#fdca26\"],[1.0,\"#f0f921\"]],\"type\":\"histogram2dcontour\"}],\"mesh3d\":[{\"colorbar\":{\"outlinewidth\":0,\"ticks\":\"\"},\"type\":\"mesh3d\"}],\"parcoords\":[{\"line\":{\"colorbar\":{\"outlinewidth\":0,\"ticks\":\"\"}},\"type\":\"parcoords\"}],\"pie\":[{\"automargin\":true,\"type\":\"pie\"}],\"scatter\":[{\"marker\":{\"colorbar\":{\"outlinewidth\":0,\"ticks\":\"\"}},\"type\":\"scatter\"}],\"scatter3d\":[{\"line\":{\"colorbar\":{\"outlinewidth\":0,\"ticks\":\"\"}},\"marker\":{\"colorbar\":{\"outlinewidth\":0,\"ticks\":\"\"}},\"type\":\"scatter3d\"}],\"scattercarpet\":[{\"marker\":{\"colorbar\":{\"outlinewidth\":0,\"ticks\":\"\"}},\"type\":\"scattercarpet\"}],\"scattergeo\":[{\"marker\":{\"colorbar\":{\"outlinewidth\":0,\"ticks\":\"\"}},\"type\":\"scattergeo\"}],\"scattergl\":[{\"marker\":{\"colorbar\":{\"outlinewidth\":0,\"ticks\":\"\"}},\"type\":\"scattergl\"}],\"scattermapbox\":[{\"marker\":{\"colorbar\":{\"outlinewidth\":0,\"ticks\":\"\"}},\"type\":\"scattermapbox\"}],\"scatterpolar\":[{\"marker\":{\"colorbar\":{\"outlinewidth\":0,\"ticks\":\"\"}},\"type\":\"scatterpolar\"}],\"scatterpolargl\":[{\"marker\":{\"colorbar\":{\"outlinewidth\":0,\"ticks\":\"\"}},\"type\":\"scatterpolargl\"}],\"scatterternary\":[{\"marker\":{\"colorbar\":{\"outlinewidth\":0,\"ticks\":\"\"}},\"type\":\"scatterternary\"}],\"surface\":[{\"colorbar\":{\"outlinewidth\":0,\"ticks\":\"\"},\"colorscale\":[[0.0,\"#0d0887\"],[0.1111111111111111,\"#46039f\"],[0.2222222222222222,\"#7201a8\"],[0.3333333333333333,\"#9c179e\"],[0.4444444444444444,\"#bd3786\"],[0.5555555555555556,\"#d8576b\"],[0.6666666666666666,\"#ed7953\"],[0.7777777777777778,\"#fb9f3a\"],[0.8888888888888888,\"#fdca26\"],[1.0,\"#f0f921\"]],\"type\":\"surface\"}],\"table\":[{\"cells\":{\"fill\":{\"color\":\"#EBF0F8\"},\"line\":{\"color\":\"white\"}},\"header\":{\"fill\":{\"color\":\"#C8D4E3\"},\"line\":{\"color\":\"white\"}},\"type\":\"table\"}]},\"layout\":{\"annotationdefaults\":{\"arrowcolor\":\"#2a3f5f\",\"arrowhead\":0,\"arrowwidth\":1},\"autotypenumbers\":\"strict\",\"coloraxis\":{\"colorbar\":{\"outlinewidth\":0,\"ticks\":\"\"}},\"colorscale\":{\"diverging\":[[0,\"#8e0152\"],[0.1,\"#c51b7d\"],[0.2,\"#de77ae\"],[0.3,\"#f1b6da\"],[0.4,\"#fde0ef\"],[0.5,\"#f7f7f7\"],[0.6,\"#e6f5d0\"],[0.7,\"#b8e186\"],[0.8,\"#7fbc41\"],[0.9,\"#4d9221\"],[1,\"#276419\"]],\"sequential\":[[0.0,\"#0d0887\"],[0.1111111111111111,\"#46039f\"],[0.2222222222222222,\"#7201a8\"],[0.3333333333333333,\"#9c179e\"],[0.4444444444444444,\"#bd3786\"],[0.5555555555555556,\"#d8576b\"],[0.6666666666666666,\"#ed7953\"],[0.7777777777777778,\"#fb9f3a\"],[0.8888888888888888,\"#fdca26\"],[1.0,\"#f0f921\"]],\"sequentialminus\":[[0.0,\"#0d0887\"],[0.1111111111111111,\"#46039f\"],[0.2222222222222222,\"#7201a8\"],[0.3333333333333333,\"#9c179e\"],[0.4444444444444444,\"#bd3786\"],[0.5555555555555556,\"#d8576b\"],[0.6666666666666666,\"#ed7953\"],[0.7777777777777778,\"#fb9f3a\"],[0.8888888888888888,\"#fdca26\"],[1.0,\"#f0f921\"]]},\"colorway\":[\"#636efa\",\"#EF553B\",\"#00cc96\",\"#ab63fa\",\"#FFA15A\",\"#19d3f3\",\"#FF6692\",\"#B6E880\",\"#FF97FF\",\"#FECB52\"],\"font\":{\"color\":\"#2a3f5f\"},\"geo\":{\"bgcolor\":\"white\",\"lakecolor\":\"white\",\"landcolor\":\"#E5ECF6\",\"showlakes\":true,\"showland\":true,\"subunitcolor\":\"white\"},\"hoverlabel\":{\"align\":\"left\"},\"hovermode\":\"closest\",\"mapbox\":{\"style\":\"light\"},\"paper_bgcolor\":\"white\",\"plot_bgcolor\":\"#E5ECF6\",\"polar\":{\"angularaxis\":{\"gridcolor\":\"white\",\"linecolor\":\"white\",\"ticks\":\"\"},\"bgcolor\":\"#E5ECF6\",\"radialaxis\":{\"gridcolor\":\"white\",\"linecolor\":\"white\",\"ticks\":\"\"}},\"scene\":{\"xaxis\":{\"backgroundcolor\":\"#E5ECF6\",\"gridcolor\":\"white\",\"gridwidth\":2,\"linecolor\":\"white\",\"showbackground\":true,\"ticks\":\"\",\"zerolinecolor\":\"white\"},\"yaxis\":{\"backgroundcolor\":\"#E5ECF6\",\"gridcolor\":\"white\",\"gridwidth\":2,\"linecolor\":\"white\",\"showbackground\":true,\"ticks\":\"\",\"zerolinecolor\":\"white\"},\"zaxis\":{\"backgroundcolor\":\"#E5ECF6\",\"gridcolor\":\"white\",\"gridwidth\":2,\"linecolor\":\"white\",\"showbackground\":true,\"ticks\":\"\",\"zerolinecolor\":\"white\"}},\"shapedefaults\":{\"line\":{\"color\":\"#2a3f5f\"}},\"ternary\":{\"aaxis\":{\"gridcolor\":\"white\",\"linecolor\":\"white\",\"ticks\":\"\"},\"baxis\":{\"gridcolor\":\"white\",\"linecolor\":\"white\",\"ticks\":\"\"},\"bgcolor\":\"#E5ECF6\",\"caxis\":{\"gridcolor\":\"white\",\"linecolor\":\"white\",\"ticks\":\"\"}},\"title\":{\"x\":0.05},\"xaxis\":{\"automargin\":true,\"gridcolor\":\"white\",\"linecolor\":\"white\",\"ticks\":\"\",\"title\":{\"standoff\":15},\"zerolinecolor\":\"white\",\"zerolinewidth\":2},\"yaxis\":{\"automargin\":true,\"gridcolor\":\"white\",\"linecolor\":\"white\",\"ticks\":\"\",\"title\":{\"standoff\":15},\"zerolinecolor\":\"white\",\"zerolinewidth\":2}}},\"xaxis\":{\"tickangle\":-45},\"barmode\":\"group\"},                        {\"responsive\": true}                    ).then(function(){\n",
       "                            \n",
       "var gd = document.getElementById('ec607eed-4f93-49a3-be03-32379fcb1e52');\n",
       "var x = new MutationObserver(function (mutations, observer) {{\n",
       "        var display = window.getComputedStyle(gd).display;\n",
       "        if (!display || display === 'none') {{\n",
       "            console.log([gd, 'removed!']);\n",
       "            Plotly.purge(gd);\n",
       "            observer.disconnect();\n",
       "        }}\n",
       "}});\n",
       "\n",
       "// Listen for the removal of the full notebook cells\n",
       "var notebookContainer = gd.closest('#notebook-container');\n",
       "if (notebookContainer) {{\n",
       "    x.observe(notebookContainer, {childList: true});\n",
       "}}\n",
       "\n",
       "// Listen for the clearing of the current output cell\n",
       "var outputEl = gd.closest('.output');\n",
       "if (outputEl) {{\n",
       "    x.observe(outputEl, {childList: true});\n",
       "}}\n",
       "\n",
       "                        })                };                });            </script>        </div>"
      ]
     },
     "metadata": {},
     "output_type": "display_data"
    }
   ],
   "source": [
    "fig = go.Figure()\n",
    "fig.add_trace(go.Bar(\n",
    "    x=unemployment['year/month'],\n",
    "    y=unemployment['unemployment rate'],\n",
    "    name='Unemployment Rate',\n",
    "))\n",
    "fig.add_trace(go.Bar(\n",
    "    x=unemployment['year/month'],\n",
    "    y=unemployment['employment-population ratio'],\n",
    "    name='Employment Rate',\n",
    "))\n",
    "\n",
    "# Here we modify the tickangle of the xaxis, resulting in rotated labels.\n",
    "fig.update_layout(barmode='group', xaxis_tickangle=-45)\n",
    "fig.show()"
   ]
  },
  {
   "cell_type": "markdown",
   "metadata": {},
   "source": [
    "## Laber Force"
   ]
  },
  {
   "cell_type": "code",
   "execution_count": 44,
   "metadata": {},
   "outputs": [
    {
     "data": {
      "application/vnd.plotly.v1+json": {
       "config": {
        "plotlyServerURL": "https://plot.ly"
       },
       "data": [
        {
         "hovertemplate": "year/month=%{x}<br>labor force participation rate=%{y}<extra></extra>",
         "legendgroup": "",
         "line": {
          "color": "#636efa",
          "dash": "solid"
         },
         "marker": {
          "symbol": "circle"
         },
         "mode": "lines",
         "name": "",
         "orientation": "v",
         "showlegend": false,
         "type": "scatter",
         "x": [
          "2010-Jan",
          "2010-Feb",
          "2010-Mar",
          "2010-Apr",
          "2010-May",
          "2010-Jun",
          "2010-Jul",
          "2010-Aug",
          "2010-Sep",
          "2010-Oct",
          "2010-Nov",
          "2010-Dec",
          "2011-Jan",
          "2011-Feb",
          "2011-Mar",
          "2011-Apr",
          "2011-May",
          "2011-Jun",
          "2011-Jul",
          "2011-Aug",
          "2011-Sep",
          "2011-Oct",
          "2011-Nov",
          "2011-Dec",
          "2012-Jan",
          "2012-Feb",
          "2012-Mar",
          "2012-Apr",
          "2012-May",
          "2012-Jun",
          "2012-Jul",
          "2012-Aug",
          "2012-Sep",
          "2012-Oct",
          "2012-Nov",
          "2012-Dec",
          "2013-Jan",
          "2013-Feb",
          "2013-Mar",
          "2013-Apr",
          "2013-May",
          "2013-Jun",
          "2013-Jul",
          "2013-Aug",
          "2013-Sep",
          "2013-Oct",
          "2013-Nov",
          "2013-Dec",
          "2014-Jan",
          "2014-Feb",
          "2014-Mar",
          "2014-Apr",
          "2014-May",
          "2014-Jun",
          "2014-Jul",
          "2014-Aug",
          "2014-Sep",
          "2014-Oct",
          "2014-Nov",
          "2014-Dec",
          "2015-Jan",
          "2015-Feb",
          "2015-Mar",
          "2015-Apr",
          "2015-May",
          "2015-Jun",
          "2015-Jul",
          "2015-Aug",
          "2015-Sep",
          "2015-Oct",
          "2015-Nov",
          "2015-Dec",
          "2016-Jan",
          "2016-Feb",
          "2016-Mar",
          "2016-Apr",
          "2016-May",
          "2016-Jun",
          "2016-Jul",
          "2016-Aug",
          "2016-Sep",
          "2016-Oct",
          "2016-Nov",
          "2016-Dec",
          "2017-Jan",
          "2017-Feb",
          "2017-Mar",
          "2017-Apr",
          "2017-May",
          "2017-Jun",
          "2017-Jul",
          "2017-Aug",
          "2017-Sep",
          "2017-Oct",
          "2017-Nov",
          "2017-Dec",
          "2018-Jan",
          "2018-Feb",
          "2018-Mar",
          "2018-Apr",
          "2018-May",
          "2018-Jun",
          "2018-Jul",
          "2018-Aug",
          "2018-Sep",
          "2018-Oct",
          "2018-Nov",
          "2018-Dec",
          "2019-Jan",
          "2019-Feb",
          "2019-Mar",
          "2019-Apr",
          "2019-May",
          "2019-Jun",
          "2019-Jul",
          "2019-Aug",
          "2019-Sep",
          "2019-Oct",
          "2019-Nov",
          "2019-Dec",
          "2020-Jan",
          "2020-Feb",
          "2020-Mar",
          "2020-Apr",
          "2020-May",
          "2020-Jun",
          "2020-Jul",
          "2020-Aug",
          "2020-Sep",
          "2020-Oct",
          "2020-Nov",
          "2020-Dec",
          "2021-Jan",
          "2021-Feb",
          "2021-Mar",
          "2021-Apr",
          "2021-May",
          "2021-Jun",
          "2021-Jul",
          "2021-Aug",
          "2021-Sep",
          "2021-Oct",
          "2021-Nov",
          "2021-Dec",
          "2022-Jan"
         ],
         "xaxis": "x",
         "y": [
          66.3,
          66.4,
          66.5,
          65.9,
          65.9,
          65.9,
          65.9,
          65.9,
          65.9,
          65.9,
          65.9,
          65.9,
          65.9,
          65.9,
          65.9,
          65.9,
          65.9,
          66,
          66,
          66,
          66,
          65.9,
          65.8,
          65.7,
          65.6,
          65.5,
          65.4,
          65.4,
          65.4,
          65.4,
          65.4,
          65.4,
          65.4,
          65.4,
          65.3,
          65.3,
          65.3,
          65.3,
          65.2,
          65.3,
          65.3,
          65.3,
          65.3,
          65.2,
          65.1,
          65.1,
          65,
          65,
          65,
          64.9,
          64.9,
          64.9,
          64.9,
          64.8,
          64.8,
          64.7,
          64.7,
          64.6,
          64.5,
          64.3,
          64.2,
          64.1,
          64,
          63.9,
          63.9,
          63.8,
          63.7,
          63.7,
          63.7,
          63.7,
          63.7,
          63.8,
          63.8,
          63.8,
          63.8,
          63.9,
          63.9,
          63.9,
          63.9,
          63.9,
          63.9,
          63.8,
          63.8,
          63.8,
          63.8,
          63.8,
          63.8,
          63.8,
          63.8,
          63.8,
          63.8,
          63.7,
          63.7,
          63.7,
          63.6,
          63.7,
          63.7,
          63.8,
          63.9,
          64,
          64,
          63.9,
          63.9,
          63.8,
          63.7,
          63.7,
          63.7,
          63.7,
          63.7,
          63.6,
          63.6,
          63.6,
          63.6,
          63.7,
          63.8,
          63.8,
          63.8,
          63.8,
          63.8,
          63.7,
          63.6,
          63.4,
          62.8,
          59.8,
          62.5,
          62.3,
          62.7,
          62.7,
          63,
          62.9,
          63.1,
          63.2,
          63.2,
          63.2,
          63.3,
          63.3,
          63.4,
          63.5,
          63.4,
          63.4,
          63.3,
          63.3,
          63.2,
          63.1,
          63.3
         ],
         "yaxis": "y"
        },
        {
         "name": "labor force",
         "type": "bar",
         "x": [
          "2010-Jan",
          "2010-Feb",
          "2010-Mar",
          "2010-Apr",
          "2010-May",
          "2010-Jun",
          "2010-Jul",
          "2010-Aug",
          "2010-Sep",
          "2010-Oct",
          "2010-Nov",
          "2010-Dec",
          "2011-Jan",
          "2011-Feb",
          "2011-Mar",
          "2011-Apr",
          "2011-May",
          "2011-Jun",
          "2011-Jul",
          "2011-Aug",
          "2011-Sep",
          "2011-Oct",
          "2011-Nov",
          "2011-Dec",
          "2012-Jan",
          "2012-Feb",
          "2012-Mar",
          "2012-Apr",
          "2012-May",
          "2012-Jun",
          "2012-Jul",
          "2012-Aug",
          "2012-Sep",
          "2012-Oct",
          "2012-Nov",
          "2012-Dec",
          "2013-Jan",
          "2013-Feb",
          "2013-Mar",
          "2013-Apr",
          "2013-May",
          "2013-Jun",
          "2013-Jul",
          "2013-Aug",
          "2013-Sep",
          "2013-Oct",
          "2013-Nov",
          "2013-Dec",
          "2014-Jan",
          "2014-Feb",
          "2014-Mar",
          "2014-Apr",
          "2014-May",
          "2014-Jun",
          "2014-Jul",
          "2014-Aug",
          "2014-Sep",
          "2014-Oct",
          "2014-Nov",
          "2014-Dec",
          "2015-Jan",
          "2015-Feb",
          "2015-Mar",
          "2015-Apr",
          "2015-May",
          "2015-Jun",
          "2015-Jul",
          "2015-Aug",
          "2015-Sep",
          "2015-Oct",
          "2015-Nov",
          "2015-Dec",
          "2016-Jan",
          "2016-Feb",
          "2016-Mar",
          "2016-Apr",
          "2016-May",
          "2016-Jun",
          "2016-Jul",
          "2016-Aug",
          "2016-Sep",
          "2016-Oct",
          "2016-Nov",
          "2016-Dec",
          "2017-Jan",
          "2017-Feb",
          "2017-Mar",
          "2017-Apr",
          "2017-May",
          "2017-Jun",
          "2017-Jul",
          "2017-Aug",
          "2017-Sep",
          "2017-Oct",
          "2017-Nov",
          "2017-Dec",
          "2018-Jan",
          "2018-Feb",
          "2018-Mar",
          "2018-Apr",
          "2018-May",
          "2018-Jun",
          "2018-Jul",
          "2018-Aug",
          "2018-Sep",
          "2018-Oct",
          "2018-Nov",
          "2018-Dec",
          "2019-Jan",
          "2019-Feb",
          "2019-Mar",
          "2019-Apr",
          "2019-May",
          "2019-Jun",
          "2019-Jul",
          "2019-Aug",
          "2019-Sep",
          "2019-Oct",
          "2019-Nov",
          "2019-Dec",
          "2020-Jan",
          "2020-Feb",
          "2020-Mar",
          "2020-Apr",
          "2020-May",
          "2020-Jun",
          "2020-Jul",
          "2020-Aug",
          "2020-Sep",
          "2020-Oct",
          "2020-Nov",
          "2020-Dec",
          "2021-Jan",
          "2021-Feb",
          "2021-Mar",
          "2021-Apr",
          "2021-May",
          "2021-Jun",
          "2021-Jul",
          "2021-Aug",
          "2021-Sep",
          "2021-Oct",
          "2021-Nov",
          "2021-Dec",
          "2022-Jan"
         ],
         "y": [
          12108919,
          12151988,
          12191275,
          12222661,
          12244873,
          12259778,
          12272590,
          12287949,
          12306687,
          12329159,
          12352386,
          12372836,
          12391831,
          12409993,
          12426745,
          12444275,
          12467134,
          12497108,
          12534220,
          12546014,
          12559256,
          12570673,
          12576962,
          12576704,
          12571937,
          12581835,
          12563758,
          12588954,
          12611625,
          12632078,
          12649825,
          12666216,
          12683588,
          12700534,
          12716045,
          12730458,
          12743658,
          12757010,
          12772688,
          12793456,
          12816378,
          12837490,
          12855277,
          12867238,
          12873858,
          12880739,
          12892128,
          12907972,
          12926206,
          12944743,
          12962485,
          12977478,
          12990622,
          13005331,
          13020533,
          13036080,
          13050337,
          13058380,
          13057664,
          13051833,
          13045727,
          13042678,
          13044962,
          13052347,
          13062363,
          13072586,
          13083798,
          13096567,
          13111812,
          13133423,
          13162283,
          13194306,
          13224910,
          13252003,
          13275533,
          13297832,
          13321031,
          13344101,
          13365941,
          13386060,
          13403980,
          13419163,
          13434311,
          13452830,
          13383543,
          13407092,
          13429146,
          13448306,
          13464024,
          13476361,
          13486545,
          13495091,
          13503616,
          13513945,
          13527004,
          13545086,
          13570502,
          13603866,
          13640180,
          13670383,
          13689632,
          13698819,
          13700824,
          13702378,
          13708279,
          13719955,
          13735166,
          13750400,
          13763201,
          13774028,
          13786042,
          13803426,
          13827325,
          13856445,
          13887034,
          13914676,
          13939282,
          13961107,
          13979205,
          13985790,
          13975565,
          13949039,
          13838344,
          13190711,
          13800875,
          13777977,
          13888962,
          13889681,
          13983783,
          13988179,
          14034827,
          14077183,
          14084103,
          14108447,
          14137958,
          14170095,
          14194328,
          14243426,
          14249596,
          14269081,
          14272899,
          14295547,
          14287946,
          14282879,
          14333602
         ]
        }
       ],
       "layout": {
        "legend": {
         "tracegroupgap": 0
        },
        "margin": {
         "t": 60
        },
        "template": {
         "data": {
          "bar": [
           {
            "error_x": {
             "color": "#2a3f5f"
            },
            "error_y": {
             "color": "#2a3f5f"
            },
            "marker": {
             "line": {
              "color": "#E5ECF6",
              "width": 0.5
             },
             "pattern": {
              "fillmode": "overlay",
              "size": 10,
              "solidity": 0.2
             }
            },
            "type": "bar"
           }
          ],
          "barpolar": [
           {
            "marker": {
             "line": {
              "color": "#E5ECF6",
              "width": 0.5
             },
             "pattern": {
              "fillmode": "overlay",
              "size": 10,
              "solidity": 0.2
             }
            },
            "type": "barpolar"
           }
          ],
          "carpet": [
           {
            "aaxis": {
             "endlinecolor": "#2a3f5f",
             "gridcolor": "white",
             "linecolor": "white",
             "minorgridcolor": "white",
             "startlinecolor": "#2a3f5f"
            },
            "baxis": {
             "endlinecolor": "#2a3f5f",
             "gridcolor": "white",
             "linecolor": "white",
             "minorgridcolor": "white",
             "startlinecolor": "#2a3f5f"
            },
            "type": "carpet"
           }
          ],
          "choropleth": [
           {
            "colorbar": {
             "outlinewidth": 0,
             "ticks": ""
            },
            "type": "choropleth"
           }
          ],
          "contour": [
           {
            "colorbar": {
             "outlinewidth": 0,
             "ticks": ""
            },
            "colorscale": [
             [
              0,
              "#0d0887"
             ],
             [
              0.1111111111111111,
              "#46039f"
             ],
             [
              0.2222222222222222,
              "#7201a8"
             ],
             [
              0.3333333333333333,
              "#9c179e"
             ],
             [
              0.4444444444444444,
              "#bd3786"
             ],
             [
              0.5555555555555556,
              "#d8576b"
             ],
             [
              0.6666666666666666,
              "#ed7953"
             ],
             [
              0.7777777777777778,
              "#fb9f3a"
             ],
             [
              0.8888888888888888,
              "#fdca26"
             ],
             [
              1,
              "#f0f921"
             ]
            ],
            "type": "contour"
           }
          ],
          "contourcarpet": [
           {
            "colorbar": {
             "outlinewidth": 0,
             "ticks": ""
            },
            "type": "contourcarpet"
           }
          ],
          "heatmap": [
           {
            "colorbar": {
             "outlinewidth": 0,
             "ticks": ""
            },
            "colorscale": [
             [
              0,
              "#0d0887"
             ],
             [
              0.1111111111111111,
              "#46039f"
             ],
             [
              0.2222222222222222,
              "#7201a8"
             ],
             [
              0.3333333333333333,
              "#9c179e"
             ],
             [
              0.4444444444444444,
              "#bd3786"
             ],
             [
              0.5555555555555556,
              "#d8576b"
             ],
             [
              0.6666666666666666,
              "#ed7953"
             ],
             [
              0.7777777777777778,
              "#fb9f3a"
             ],
             [
              0.8888888888888888,
              "#fdca26"
             ],
             [
              1,
              "#f0f921"
             ]
            ],
            "type": "heatmap"
           }
          ],
          "heatmapgl": [
           {
            "colorbar": {
             "outlinewidth": 0,
             "ticks": ""
            },
            "colorscale": [
             [
              0,
              "#0d0887"
             ],
             [
              0.1111111111111111,
              "#46039f"
             ],
             [
              0.2222222222222222,
              "#7201a8"
             ],
             [
              0.3333333333333333,
              "#9c179e"
             ],
             [
              0.4444444444444444,
              "#bd3786"
             ],
             [
              0.5555555555555556,
              "#d8576b"
             ],
             [
              0.6666666666666666,
              "#ed7953"
             ],
             [
              0.7777777777777778,
              "#fb9f3a"
             ],
             [
              0.8888888888888888,
              "#fdca26"
             ],
             [
              1,
              "#f0f921"
             ]
            ],
            "type": "heatmapgl"
           }
          ],
          "histogram": [
           {
            "marker": {
             "pattern": {
              "fillmode": "overlay",
              "size": 10,
              "solidity": 0.2
             }
            },
            "type": "histogram"
           }
          ],
          "histogram2d": [
           {
            "colorbar": {
             "outlinewidth": 0,
             "ticks": ""
            },
            "colorscale": [
             [
              0,
              "#0d0887"
             ],
             [
              0.1111111111111111,
              "#46039f"
             ],
             [
              0.2222222222222222,
              "#7201a8"
             ],
             [
              0.3333333333333333,
              "#9c179e"
             ],
             [
              0.4444444444444444,
              "#bd3786"
             ],
             [
              0.5555555555555556,
              "#d8576b"
             ],
             [
              0.6666666666666666,
              "#ed7953"
             ],
             [
              0.7777777777777778,
              "#fb9f3a"
             ],
             [
              0.8888888888888888,
              "#fdca26"
             ],
             [
              1,
              "#f0f921"
             ]
            ],
            "type": "histogram2d"
           }
          ],
          "histogram2dcontour": [
           {
            "colorbar": {
             "outlinewidth": 0,
             "ticks": ""
            },
            "colorscale": [
             [
              0,
              "#0d0887"
             ],
             [
              0.1111111111111111,
              "#46039f"
             ],
             [
              0.2222222222222222,
              "#7201a8"
             ],
             [
              0.3333333333333333,
              "#9c179e"
             ],
             [
              0.4444444444444444,
              "#bd3786"
             ],
             [
              0.5555555555555556,
              "#d8576b"
             ],
             [
              0.6666666666666666,
              "#ed7953"
             ],
             [
              0.7777777777777778,
              "#fb9f3a"
             ],
             [
              0.8888888888888888,
              "#fdca26"
             ],
             [
              1,
              "#f0f921"
             ]
            ],
            "type": "histogram2dcontour"
           }
          ],
          "mesh3d": [
           {
            "colorbar": {
             "outlinewidth": 0,
             "ticks": ""
            },
            "type": "mesh3d"
           }
          ],
          "parcoords": [
           {
            "line": {
             "colorbar": {
              "outlinewidth": 0,
              "ticks": ""
             }
            },
            "type": "parcoords"
           }
          ],
          "pie": [
           {
            "automargin": true,
            "type": "pie"
           }
          ],
          "scatter": [
           {
            "marker": {
             "colorbar": {
              "outlinewidth": 0,
              "ticks": ""
             }
            },
            "type": "scatter"
           }
          ],
          "scatter3d": [
           {
            "line": {
             "colorbar": {
              "outlinewidth": 0,
              "ticks": ""
             }
            },
            "marker": {
             "colorbar": {
              "outlinewidth": 0,
              "ticks": ""
             }
            },
            "type": "scatter3d"
           }
          ],
          "scattercarpet": [
           {
            "marker": {
             "colorbar": {
              "outlinewidth": 0,
              "ticks": ""
             }
            },
            "type": "scattercarpet"
           }
          ],
          "scattergeo": [
           {
            "marker": {
             "colorbar": {
              "outlinewidth": 0,
              "ticks": ""
             }
            },
            "type": "scattergeo"
           }
          ],
          "scattergl": [
           {
            "marker": {
             "colorbar": {
              "outlinewidth": 0,
              "ticks": ""
             }
            },
            "type": "scattergl"
           }
          ],
          "scattermapbox": [
           {
            "marker": {
             "colorbar": {
              "outlinewidth": 0,
              "ticks": ""
             }
            },
            "type": "scattermapbox"
           }
          ],
          "scatterpolar": [
           {
            "marker": {
             "colorbar": {
              "outlinewidth": 0,
              "ticks": ""
             }
            },
            "type": "scatterpolar"
           }
          ],
          "scatterpolargl": [
           {
            "marker": {
             "colorbar": {
              "outlinewidth": 0,
              "ticks": ""
             }
            },
            "type": "scatterpolargl"
           }
          ],
          "scatterternary": [
           {
            "marker": {
             "colorbar": {
              "outlinewidth": 0,
              "ticks": ""
             }
            },
            "type": "scatterternary"
           }
          ],
          "surface": [
           {
            "colorbar": {
             "outlinewidth": 0,
             "ticks": ""
            },
            "colorscale": [
             [
              0,
              "#0d0887"
             ],
             [
              0.1111111111111111,
              "#46039f"
             ],
             [
              0.2222222222222222,
              "#7201a8"
             ],
             [
              0.3333333333333333,
              "#9c179e"
             ],
             [
              0.4444444444444444,
              "#bd3786"
             ],
             [
              0.5555555555555556,
              "#d8576b"
             ],
             [
              0.6666666666666666,
              "#ed7953"
             ],
             [
              0.7777777777777778,
              "#fb9f3a"
             ],
             [
              0.8888888888888888,
              "#fdca26"
             ],
             [
              1,
              "#f0f921"
             ]
            ],
            "type": "surface"
           }
          ],
          "table": [
           {
            "cells": {
             "fill": {
              "color": "#EBF0F8"
             },
             "line": {
              "color": "white"
             }
            },
            "header": {
             "fill": {
              "color": "#C8D4E3"
             },
             "line": {
              "color": "white"
             }
            },
            "type": "table"
           }
          ]
         },
         "layout": {
          "annotationdefaults": {
           "arrowcolor": "#2a3f5f",
           "arrowhead": 0,
           "arrowwidth": 1
          },
          "autotypenumbers": "strict",
          "coloraxis": {
           "colorbar": {
            "outlinewidth": 0,
            "ticks": ""
           }
          },
          "colorscale": {
           "diverging": [
            [
             0,
             "#8e0152"
            ],
            [
             0.1,
             "#c51b7d"
            ],
            [
             0.2,
             "#de77ae"
            ],
            [
             0.3,
             "#f1b6da"
            ],
            [
             0.4,
             "#fde0ef"
            ],
            [
             0.5,
             "#f7f7f7"
            ],
            [
             0.6,
             "#e6f5d0"
            ],
            [
             0.7,
             "#b8e186"
            ],
            [
             0.8,
             "#7fbc41"
            ],
            [
             0.9,
             "#4d9221"
            ],
            [
             1,
             "#276419"
            ]
           ],
           "sequential": [
            [
             0,
             "#0d0887"
            ],
            [
             0.1111111111111111,
             "#46039f"
            ],
            [
             0.2222222222222222,
             "#7201a8"
            ],
            [
             0.3333333333333333,
             "#9c179e"
            ],
            [
             0.4444444444444444,
             "#bd3786"
            ],
            [
             0.5555555555555556,
             "#d8576b"
            ],
            [
             0.6666666666666666,
             "#ed7953"
            ],
            [
             0.7777777777777778,
             "#fb9f3a"
            ],
            [
             0.8888888888888888,
             "#fdca26"
            ],
            [
             1,
             "#f0f921"
            ]
           ],
           "sequentialminus": [
            [
             0,
             "#0d0887"
            ],
            [
             0.1111111111111111,
             "#46039f"
            ],
            [
             0.2222222222222222,
             "#7201a8"
            ],
            [
             0.3333333333333333,
             "#9c179e"
            ],
            [
             0.4444444444444444,
             "#bd3786"
            ],
            [
             0.5555555555555556,
             "#d8576b"
            ],
            [
             0.6666666666666666,
             "#ed7953"
            ],
            [
             0.7777777777777778,
             "#fb9f3a"
            ],
            [
             0.8888888888888888,
             "#fdca26"
            ],
            [
             1,
             "#f0f921"
            ]
           ]
          },
          "colorway": [
           "#636efa",
           "#EF553B",
           "#00cc96",
           "#ab63fa",
           "#FFA15A",
           "#19d3f3",
           "#FF6692",
           "#B6E880",
           "#FF97FF",
           "#FECB52"
          ],
          "font": {
           "color": "#2a3f5f"
          },
          "geo": {
           "bgcolor": "white",
           "lakecolor": "white",
           "landcolor": "#E5ECF6",
           "showlakes": true,
           "showland": true,
           "subunitcolor": "white"
          },
          "hoverlabel": {
           "align": "left"
          },
          "hovermode": "closest",
          "mapbox": {
           "style": "light"
          },
          "paper_bgcolor": "white",
          "plot_bgcolor": "#E5ECF6",
          "polar": {
           "angularaxis": {
            "gridcolor": "white",
            "linecolor": "white",
            "ticks": ""
           },
           "bgcolor": "#E5ECF6",
           "radialaxis": {
            "gridcolor": "white",
            "linecolor": "white",
            "ticks": ""
           }
          },
          "scene": {
           "xaxis": {
            "backgroundcolor": "#E5ECF6",
            "gridcolor": "white",
            "gridwidth": 2,
            "linecolor": "white",
            "showbackground": true,
            "ticks": "",
            "zerolinecolor": "white"
           },
           "yaxis": {
            "backgroundcolor": "#E5ECF6",
            "gridcolor": "white",
            "gridwidth": 2,
            "linecolor": "white",
            "showbackground": true,
            "ticks": "",
            "zerolinecolor": "white"
           },
           "zaxis": {
            "backgroundcolor": "#E5ECF6",
            "gridcolor": "white",
            "gridwidth": 2,
            "linecolor": "white",
            "showbackground": true,
            "ticks": "",
            "zerolinecolor": "white"
           }
          },
          "shapedefaults": {
           "line": {
            "color": "#2a3f5f"
           }
          },
          "ternary": {
           "aaxis": {
            "gridcolor": "white",
            "linecolor": "white",
            "ticks": ""
           },
           "baxis": {
            "gridcolor": "white",
            "linecolor": "white",
            "ticks": ""
           },
           "bgcolor": "#E5ECF6",
           "caxis": {
            "gridcolor": "white",
            "linecolor": "white",
            "ticks": ""
           }
          },
          "title": {
           "x": 0.05
          },
          "xaxis": {
           "automargin": true,
           "gridcolor": "white",
           "linecolor": "white",
           "ticks": "",
           "title": {
            "standoff": 15
           },
           "zerolinecolor": "white",
           "zerolinewidth": 2
          },
          "yaxis": {
           "automargin": true,
           "gridcolor": "white",
           "linecolor": "white",
           "ticks": "",
           "title": {
            "standoff": 15
           },
           "zerolinecolor": "white",
           "zerolinewidth": 2
          }
         }
        },
        "xaxis": {
         "anchor": "y",
         "domain": [
          0,
          1
         ],
         "title": {
          "text": "year/month"
         }
        },
        "yaxis": {
         "anchor": "x",
         "domain": [
          0,
          1
         ],
         "title": {
          "text": "labor force participation rate"
         }
        }
       }
      },
      "text/html": [
       "<div>                            <div id=\"f3b177b3-dba1-4f5d-b075-408c1cb77c05\" class=\"plotly-graph-div\" style=\"height:525px; width:100%;\"></div>            <script type=\"text/javascript\">                require([\"plotly\"], function(Plotly) {                    window.PLOTLYENV=window.PLOTLYENV || {};                                    if (document.getElementById(\"f3b177b3-dba1-4f5d-b075-408c1cb77c05\")) {                    Plotly.newPlot(                        \"f3b177b3-dba1-4f5d-b075-408c1cb77c05\",                        [{\"hovertemplate\":\"year/month=%{x}<br>labor force participation rate=%{y}<extra></extra>\",\"legendgroup\":\"\",\"line\":{\"color\":\"#636efa\",\"dash\":\"solid\"},\"marker\":{\"symbol\":\"circle\"},\"mode\":\"lines\",\"name\":\"\",\"orientation\":\"v\",\"showlegend\":false,\"x\":[\"2010-Jan\",\"2010-Feb\",\"2010-Mar\",\"2010-Apr\",\"2010-May\",\"2010-Jun\",\"2010-Jul\",\"2010-Aug\",\"2010-Sep\",\"2010-Oct\",\"2010-Nov\",\"2010-Dec\",\"2011-Jan\",\"2011-Feb\",\"2011-Mar\",\"2011-Apr\",\"2011-May\",\"2011-Jun\",\"2011-Jul\",\"2011-Aug\",\"2011-Sep\",\"2011-Oct\",\"2011-Nov\",\"2011-Dec\",\"2012-Jan\",\"2012-Feb\",\"2012-Mar\",\"2012-Apr\",\"2012-May\",\"2012-Jun\",\"2012-Jul\",\"2012-Aug\",\"2012-Sep\",\"2012-Oct\",\"2012-Nov\",\"2012-Dec\",\"2013-Jan\",\"2013-Feb\",\"2013-Mar\",\"2013-Apr\",\"2013-May\",\"2013-Jun\",\"2013-Jul\",\"2013-Aug\",\"2013-Sep\",\"2013-Oct\",\"2013-Nov\",\"2013-Dec\",\"2014-Jan\",\"2014-Feb\",\"2014-Mar\",\"2014-Apr\",\"2014-May\",\"2014-Jun\",\"2014-Jul\",\"2014-Aug\",\"2014-Sep\",\"2014-Oct\",\"2014-Nov\",\"2014-Dec\",\"2015-Jan\",\"2015-Feb\",\"2015-Mar\",\"2015-Apr\",\"2015-May\",\"2015-Jun\",\"2015-Jul\",\"2015-Aug\",\"2015-Sep\",\"2015-Oct\",\"2015-Nov\",\"2015-Dec\",\"2016-Jan\",\"2016-Feb\",\"2016-Mar\",\"2016-Apr\",\"2016-May\",\"2016-Jun\",\"2016-Jul\",\"2016-Aug\",\"2016-Sep\",\"2016-Oct\",\"2016-Nov\",\"2016-Dec\",\"2017-Jan\",\"2017-Feb\",\"2017-Mar\",\"2017-Apr\",\"2017-May\",\"2017-Jun\",\"2017-Jul\",\"2017-Aug\",\"2017-Sep\",\"2017-Oct\",\"2017-Nov\",\"2017-Dec\",\"2018-Jan\",\"2018-Feb\",\"2018-Mar\",\"2018-Apr\",\"2018-May\",\"2018-Jun\",\"2018-Jul\",\"2018-Aug\",\"2018-Sep\",\"2018-Oct\",\"2018-Nov\",\"2018-Dec\",\"2019-Jan\",\"2019-Feb\",\"2019-Mar\",\"2019-Apr\",\"2019-May\",\"2019-Jun\",\"2019-Jul\",\"2019-Aug\",\"2019-Sep\",\"2019-Oct\",\"2019-Nov\",\"2019-Dec\",\"2020-Jan\",\"2020-Feb\",\"2020-Mar\",\"2020-Apr\",\"2020-May\",\"2020-Jun\",\"2020-Jul\",\"2020-Aug\",\"2020-Sep\",\"2020-Oct\",\"2020-Nov\",\"2020-Dec\",\"2021-Jan\",\"2021-Feb\",\"2021-Mar\",\"2021-Apr\",\"2021-May\",\"2021-Jun\",\"2021-Jul\",\"2021-Aug\",\"2021-Sep\",\"2021-Oct\",\"2021-Nov\",\"2021-Dec\",\"2022-Jan\"],\"xaxis\":\"x\",\"y\":[66.3,66.4,66.5,65.9,65.9,65.9,65.9,65.9,65.9,65.9,65.9,65.9,65.9,65.9,65.9,65.9,65.9,66.0,66.0,66.0,66.0,65.9,65.8,65.7,65.6,65.5,65.4,65.4,65.4,65.4,65.4,65.4,65.4,65.4,65.3,65.3,65.3,65.3,65.2,65.3,65.3,65.3,65.3,65.2,65.1,65.1,65.0,65.0,65.0,64.9,64.9,64.9,64.9,64.8,64.8,64.7,64.7,64.6,64.5,64.3,64.2,64.1,64.0,63.9,63.9,63.8,63.7,63.7,63.7,63.7,63.7,63.8,63.8,63.8,63.8,63.9,63.9,63.9,63.9,63.9,63.9,63.8,63.8,63.8,63.8,63.8,63.8,63.8,63.8,63.8,63.8,63.7,63.7,63.7,63.6,63.7,63.7,63.8,63.9,64.0,64.0,63.9,63.9,63.8,63.7,63.7,63.7,63.7,63.7,63.6,63.6,63.6,63.6,63.7,63.8,63.8,63.8,63.8,63.8,63.7,63.6,63.4,62.8,59.8,62.5,62.3,62.7,62.7,63.0,62.9,63.1,63.2,63.2,63.2,63.3,63.3,63.4,63.5,63.4,63.4,63.3,63.3,63.2,63.1,63.3],\"yaxis\":\"y\",\"type\":\"scatter\"},{\"name\":\"labor force\",\"x\":[\"2010-Jan\",\"2010-Feb\",\"2010-Mar\",\"2010-Apr\",\"2010-May\",\"2010-Jun\",\"2010-Jul\",\"2010-Aug\",\"2010-Sep\",\"2010-Oct\",\"2010-Nov\",\"2010-Dec\",\"2011-Jan\",\"2011-Feb\",\"2011-Mar\",\"2011-Apr\",\"2011-May\",\"2011-Jun\",\"2011-Jul\",\"2011-Aug\",\"2011-Sep\",\"2011-Oct\",\"2011-Nov\",\"2011-Dec\",\"2012-Jan\",\"2012-Feb\",\"2012-Mar\",\"2012-Apr\",\"2012-May\",\"2012-Jun\",\"2012-Jul\",\"2012-Aug\",\"2012-Sep\",\"2012-Oct\",\"2012-Nov\",\"2012-Dec\",\"2013-Jan\",\"2013-Feb\",\"2013-Mar\",\"2013-Apr\",\"2013-May\",\"2013-Jun\",\"2013-Jul\",\"2013-Aug\",\"2013-Sep\",\"2013-Oct\",\"2013-Nov\",\"2013-Dec\",\"2014-Jan\",\"2014-Feb\",\"2014-Mar\",\"2014-Apr\",\"2014-May\",\"2014-Jun\",\"2014-Jul\",\"2014-Aug\",\"2014-Sep\",\"2014-Oct\",\"2014-Nov\",\"2014-Dec\",\"2015-Jan\",\"2015-Feb\",\"2015-Mar\",\"2015-Apr\",\"2015-May\",\"2015-Jun\",\"2015-Jul\",\"2015-Aug\",\"2015-Sep\",\"2015-Oct\",\"2015-Nov\",\"2015-Dec\",\"2016-Jan\",\"2016-Feb\",\"2016-Mar\",\"2016-Apr\",\"2016-May\",\"2016-Jun\",\"2016-Jul\",\"2016-Aug\",\"2016-Sep\",\"2016-Oct\",\"2016-Nov\",\"2016-Dec\",\"2017-Jan\",\"2017-Feb\",\"2017-Mar\",\"2017-Apr\",\"2017-May\",\"2017-Jun\",\"2017-Jul\",\"2017-Aug\",\"2017-Sep\",\"2017-Oct\",\"2017-Nov\",\"2017-Dec\",\"2018-Jan\",\"2018-Feb\",\"2018-Mar\",\"2018-Apr\",\"2018-May\",\"2018-Jun\",\"2018-Jul\",\"2018-Aug\",\"2018-Sep\",\"2018-Oct\",\"2018-Nov\",\"2018-Dec\",\"2019-Jan\",\"2019-Feb\",\"2019-Mar\",\"2019-Apr\",\"2019-May\",\"2019-Jun\",\"2019-Jul\",\"2019-Aug\",\"2019-Sep\",\"2019-Oct\",\"2019-Nov\",\"2019-Dec\",\"2020-Jan\",\"2020-Feb\",\"2020-Mar\",\"2020-Apr\",\"2020-May\",\"2020-Jun\",\"2020-Jul\",\"2020-Aug\",\"2020-Sep\",\"2020-Oct\",\"2020-Nov\",\"2020-Dec\",\"2021-Jan\",\"2021-Feb\",\"2021-Mar\",\"2021-Apr\",\"2021-May\",\"2021-Jun\",\"2021-Jul\",\"2021-Aug\",\"2021-Sep\",\"2021-Oct\",\"2021-Nov\",\"2021-Dec\",\"2022-Jan\"],\"y\":[12108919,12151988,12191275,12222661,12244873,12259778,12272590,12287949,12306687,12329159,12352386,12372836,12391831,12409993,12426745,12444275,12467134,12497108,12534220,12546014,12559256,12570673,12576962,12576704,12571937,12581835,12563758,12588954,12611625,12632078,12649825,12666216,12683588,12700534,12716045,12730458,12743658,12757010,12772688,12793456,12816378,12837490,12855277,12867238,12873858,12880739,12892128,12907972,12926206,12944743,12962485,12977478,12990622,13005331,13020533,13036080,13050337,13058380,13057664,13051833,13045727,13042678,13044962,13052347,13062363,13072586,13083798,13096567,13111812,13133423,13162283,13194306,13224910,13252003,13275533,13297832,13321031,13344101,13365941,13386060,13403980,13419163,13434311,13452830,13383543,13407092,13429146,13448306,13464024,13476361,13486545,13495091,13503616,13513945,13527004,13545086,13570502,13603866,13640180,13670383,13689632,13698819,13700824,13702378,13708279,13719955,13735166,13750400,13763201,13774028,13786042,13803426,13827325,13856445,13887034,13914676,13939282,13961107,13979205,13985790,13975565,13949039,13838344,13190711,13800875,13777977,13888962,13889681,13983783,13988179,14034827,14077183,14084103,14108447,14137958,14170095,14194328,14243426,14249596,14269081,14272899,14295547,14287946,14282879,14333602],\"type\":\"bar\"}],                        {\"template\":{\"data\":{\"bar\":[{\"error_x\":{\"color\":\"#2a3f5f\"},\"error_y\":{\"color\":\"#2a3f5f\"},\"marker\":{\"line\":{\"color\":\"#E5ECF6\",\"width\":0.5},\"pattern\":{\"fillmode\":\"overlay\",\"size\":10,\"solidity\":0.2}},\"type\":\"bar\"}],\"barpolar\":[{\"marker\":{\"line\":{\"color\":\"#E5ECF6\",\"width\":0.5},\"pattern\":{\"fillmode\":\"overlay\",\"size\":10,\"solidity\":0.2}},\"type\":\"barpolar\"}],\"carpet\":[{\"aaxis\":{\"endlinecolor\":\"#2a3f5f\",\"gridcolor\":\"white\",\"linecolor\":\"white\",\"minorgridcolor\":\"white\",\"startlinecolor\":\"#2a3f5f\"},\"baxis\":{\"endlinecolor\":\"#2a3f5f\",\"gridcolor\":\"white\",\"linecolor\":\"white\",\"minorgridcolor\":\"white\",\"startlinecolor\":\"#2a3f5f\"},\"type\":\"carpet\"}],\"choropleth\":[{\"colorbar\":{\"outlinewidth\":0,\"ticks\":\"\"},\"type\":\"choropleth\"}],\"contour\":[{\"colorbar\":{\"outlinewidth\":0,\"ticks\":\"\"},\"colorscale\":[[0.0,\"#0d0887\"],[0.1111111111111111,\"#46039f\"],[0.2222222222222222,\"#7201a8\"],[0.3333333333333333,\"#9c179e\"],[0.4444444444444444,\"#bd3786\"],[0.5555555555555556,\"#d8576b\"],[0.6666666666666666,\"#ed7953\"],[0.7777777777777778,\"#fb9f3a\"],[0.8888888888888888,\"#fdca26\"],[1.0,\"#f0f921\"]],\"type\":\"contour\"}],\"contourcarpet\":[{\"colorbar\":{\"outlinewidth\":0,\"ticks\":\"\"},\"type\":\"contourcarpet\"}],\"heatmap\":[{\"colorbar\":{\"outlinewidth\":0,\"ticks\":\"\"},\"colorscale\":[[0.0,\"#0d0887\"],[0.1111111111111111,\"#46039f\"],[0.2222222222222222,\"#7201a8\"],[0.3333333333333333,\"#9c179e\"],[0.4444444444444444,\"#bd3786\"],[0.5555555555555556,\"#d8576b\"],[0.6666666666666666,\"#ed7953\"],[0.7777777777777778,\"#fb9f3a\"],[0.8888888888888888,\"#fdca26\"],[1.0,\"#f0f921\"]],\"type\":\"heatmap\"}],\"heatmapgl\":[{\"colorbar\":{\"outlinewidth\":0,\"ticks\":\"\"},\"colorscale\":[[0.0,\"#0d0887\"],[0.1111111111111111,\"#46039f\"],[0.2222222222222222,\"#7201a8\"],[0.3333333333333333,\"#9c179e\"],[0.4444444444444444,\"#bd3786\"],[0.5555555555555556,\"#d8576b\"],[0.6666666666666666,\"#ed7953\"],[0.7777777777777778,\"#fb9f3a\"],[0.8888888888888888,\"#fdca26\"],[1.0,\"#f0f921\"]],\"type\":\"heatmapgl\"}],\"histogram\":[{\"marker\":{\"pattern\":{\"fillmode\":\"overlay\",\"size\":10,\"solidity\":0.2}},\"type\":\"histogram\"}],\"histogram2d\":[{\"colorbar\":{\"outlinewidth\":0,\"ticks\":\"\"},\"colorscale\":[[0.0,\"#0d0887\"],[0.1111111111111111,\"#46039f\"],[0.2222222222222222,\"#7201a8\"],[0.3333333333333333,\"#9c179e\"],[0.4444444444444444,\"#bd3786\"],[0.5555555555555556,\"#d8576b\"],[0.6666666666666666,\"#ed7953\"],[0.7777777777777778,\"#fb9f3a\"],[0.8888888888888888,\"#fdca26\"],[1.0,\"#f0f921\"]],\"type\":\"histogram2d\"}],\"histogram2dcontour\":[{\"colorbar\":{\"outlinewidth\":0,\"ticks\":\"\"},\"colorscale\":[[0.0,\"#0d0887\"],[0.1111111111111111,\"#46039f\"],[0.2222222222222222,\"#7201a8\"],[0.3333333333333333,\"#9c179e\"],[0.4444444444444444,\"#bd3786\"],[0.5555555555555556,\"#d8576b\"],[0.6666666666666666,\"#ed7953\"],[0.7777777777777778,\"#fb9f3a\"],[0.8888888888888888,\"#fdca26\"],[1.0,\"#f0f921\"]],\"type\":\"histogram2dcontour\"}],\"mesh3d\":[{\"colorbar\":{\"outlinewidth\":0,\"ticks\":\"\"},\"type\":\"mesh3d\"}],\"parcoords\":[{\"line\":{\"colorbar\":{\"outlinewidth\":0,\"ticks\":\"\"}},\"type\":\"parcoords\"}],\"pie\":[{\"automargin\":true,\"type\":\"pie\"}],\"scatter\":[{\"marker\":{\"colorbar\":{\"outlinewidth\":0,\"ticks\":\"\"}},\"type\":\"scatter\"}],\"scatter3d\":[{\"line\":{\"colorbar\":{\"outlinewidth\":0,\"ticks\":\"\"}},\"marker\":{\"colorbar\":{\"outlinewidth\":0,\"ticks\":\"\"}},\"type\":\"scatter3d\"}],\"scattercarpet\":[{\"marker\":{\"colorbar\":{\"outlinewidth\":0,\"ticks\":\"\"}},\"type\":\"scattercarpet\"}],\"scattergeo\":[{\"marker\":{\"colorbar\":{\"outlinewidth\":0,\"ticks\":\"\"}},\"type\":\"scattergeo\"}],\"scattergl\":[{\"marker\":{\"colorbar\":{\"outlinewidth\":0,\"ticks\":\"\"}},\"type\":\"scattergl\"}],\"scattermapbox\":[{\"marker\":{\"colorbar\":{\"outlinewidth\":0,\"ticks\":\"\"}},\"type\":\"scattermapbox\"}],\"scatterpolar\":[{\"marker\":{\"colorbar\":{\"outlinewidth\":0,\"ticks\":\"\"}},\"type\":\"scatterpolar\"}],\"scatterpolargl\":[{\"marker\":{\"colorbar\":{\"outlinewidth\":0,\"ticks\":\"\"}},\"type\":\"scatterpolargl\"}],\"scatterternary\":[{\"marker\":{\"colorbar\":{\"outlinewidth\":0,\"ticks\":\"\"}},\"type\":\"scatterternary\"}],\"surface\":[{\"colorbar\":{\"outlinewidth\":0,\"ticks\":\"\"},\"colorscale\":[[0.0,\"#0d0887\"],[0.1111111111111111,\"#46039f\"],[0.2222222222222222,\"#7201a8\"],[0.3333333333333333,\"#9c179e\"],[0.4444444444444444,\"#bd3786\"],[0.5555555555555556,\"#d8576b\"],[0.6666666666666666,\"#ed7953\"],[0.7777777777777778,\"#fb9f3a\"],[0.8888888888888888,\"#fdca26\"],[1.0,\"#f0f921\"]],\"type\":\"surface\"}],\"table\":[{\"cells\":{\"fill\":{\"color\":\"#EBF0F8\"},\"line\":{\"color\":\"white\"}},\"header\":{\"fill\":{\"color\":\"#C8D4E3\"},\"line\":{\"color\":\"white\"}},\"type\":\"table\"}]},\"layout\":{\"annotationdefaults\":{\"arrowcolor\":\"#2a3f5f\",\"arrowhead\":0,\"arrowwidth\":1},\"autotypenumbers\":\"strict\",\"coloraxis\":{\"colorbar\":{\"outlinewidth\":0,\"ticks\":\"\"}},\"colorscale\":{\"diverging\":[[0,\"#8e0152\"],[0.1,\"#c51b7d\"],[0.2,\"#de77ae\"],[0.3,\"#f1b6da\"],[0.4,\"#fde0ef\"],[0.5,\"#f7f7f7\"],[0.6,\"#e6f5d0\"],[0.7,\"#b8e186\"],[0.8,\"#7fbc41\"],[0.9,\"#4d9221\"],[1,\"#276419\"]],\"sequential\":[[0.0,\"#0d0887\"],[0.1111111111111111,\"#46039f\"],[0.2222222222222222,\"#7201a8\"],[0.3333333333333333,\"#9c179e\"],[0.4444444444444444,\"#bd3786\"],[0.5555555555555556,\"#d8576b\"],[0.6666666666666666,\"#ed7953\"],[0.7777777777777778,\"#fb9f3a\"],[0.8888888888888888,\"#fdca26\"],[1.0,\"#f0f921\"]],\"sequentialminus\":[[0.0,\"#0d0887\"],[0.1111111111111111,\"#46039f\"],[0.2222222222222222,\"#7201a8\"],[0.3333333333333333,\"#9c179e\"],[0.4444444444444444,\"#bd3786\"],[0.5555555555555556,\"#d8576b\"],[0.6666666666666666,\"#ed7953\"],[0.7777777777777778,\"#fb9f3a\"],[0.8888888888888888,\"#fdca26\"],[1.0,\"#f0f921\"]]},\"colorway\":[\"#636efa\",\"#EF553B\",\"#00cc96\",\"#ab63fa\",\"#FFA15A\",\"#19d3f3\",\"#FF6692\",\"#B6E880\",\"#FF97FF\",\"#FECB52\"],\"font\":{\"color\":\"#2a3f5f\"},\"geo\":{\"bgcolor\":\"white\",\"lakecolor\":\"white\",\"landcolor\":\"#E5ECF6\",\"showlakes\":true,\"showland\":true,\"subunitcolor\":\"white\"},\"hoverlabel\":{\"align\":\"left\"},\"hovermode\":\"closest\",\"mapbox\":{\"style\":\"light\"},\"paper_bgcolor\":\"white\",\"plot_bgcolor\":\"#E5ECF6\",\"polar\":{\"angularaxis\":{\"gridcolor\":\"white\",\"linecolor\":\"white\",\"ticks\":\"\"},\"bgcolor\":\"#E5ECF6\",\"radialaxis\":{\"gridcolor\":\"white\",\"linecolor\":\"white\",\"ticks\":\"\"}},\"scene\":{\"xaxis\":{\"backgroundcolor\":\"#E5ECF6\",\"gridcolor\":\"white\",\"gridwidth\":2,\"linecolor\":\"white\",\"showbackground\":true,\"ticks\":\"\",\"zerolinecolor\":\"white\"},\"yaxis\":{\"backgroundcolor\":\"#E5ECF6\",\"gridcolor\":\"white\",\"gridwidth\":2,\"linecolor\":\"white\",\"showbackground\":true,\"ticks\":\"\",\"zerolinecolor\":\"white\"},\"zaxis\":{\"backgroundcolor\":\"#E5ECF6\",\"gridcolor\":\"white\",\"gridwidth\":2,\"linecolor\":\"white\",\"showbackground\":true,\"ticks\":\"\",\"zerolinecolor\":\"white\"}},\"shapedefaults\":{\"line\":{\"color\":\"#2a3f5f\"}},\"ternary\":{\"aaxis\":{\"gridcolor\":\"white\",\"linecolor\":\"white\",\"ticks\":\"\"},\"baxis\":{\"gridcolor\":\"white\",\"linecolor\":\"white\",\"ticks\":\"\"},\"bgcolor\":\"#E5ECF6\",\"caxis\":{\"gridcolor\":\"white\",\"linecolor\":\"white\",\"ticks\":\"\"}},\"title\":{\"x\":0.05},\"xaxis\":{\"automargin\":true,\"gridcolor\":\"white\",\"linecolor\":\"white\",\"ticks\":\"\",\"title\":{\"standoff\":15},\"zerolinecolor\":\"white\",\"zerolinewidth\":2},\"yaxis\":{\"automargin\":true,\"gridcolor\":\"white\",\"linecolor\":\"white\",\"ticks\":\"\",\"title\":{\"standoff\":15},\"zerolinecolor\":\"white\",\"zerolinewidth\":2}}},\"xaxis\":{\"anchor\":\"y\",\"domain\":[0.0,1.0],\"title\":{\"text\":\"year/month\"}},\"yaxis\":{\"anchor\":\"x\",\"domain\":[0.0,1.0],\"title\":{\"text\":\"labor force participation rate\"}},\"legend\":{\"tracegroupgap\":0},\"margin\":{\"t\":60}},                        {\"responsive\": true}                    ).then(function(){\n",
       "                            \n",
       "var gd = document.getElementById('f3b177b3-dba1-4f5d-b075-408c1cb77c05');\n",
       "var x = new MutationObserver(function (mutations, observer) {{\n",
       "        var display = window.getComputedStyle(gd).display;\n",
       "        if (!display || display === 'none') {{\n",
       "            console.log([gd, 'removed!']);\n",
       "            Plotly.purge(gd);\n",
       "            observer.disconnect();\n",
       "        }}\n",
       "}});\n",
       "\n",
       "// Listen for the removal of the full notebook cells\n",
       "var notebookContainer = gd.closest('#notebook-container');\n",
       "if (notebookContainer) {{\n",
       "    x.observe(notebookContainer, {childList: true});\n",
       "}}\n",
       "\n",
       "// Listen for the clearing of the current output cell\n",
       "var outputEl = gd.closest('.output');\n",
       "if (outputEl) {{\n",
       "    x.observe(outputEl, {childList: true});\n",
       "}}\n",
       "\n",
       "                        })                };                });            </script>        </div>"
      ]
     },
     "metadata": {},
     "output_type": "display_data"
    }
   ],
   "source": [
    "fig = px.line(unemployment, x=\"year/month\", y=\"labor force participation rate\")\n",
    "fig.add_bar(x=unemployment['year/month'], y=unemployment['labor force'],name='labor force')\n",
    "fig.show()"
   ]
  },
  {
   "cell_type": "markdown",
   "metadata": {},
   "source": [
    "## Desemprego Raw e desemprego Rate "
   ]
  },
  {
   "cell_type": "code",
   "execution_count": 49,
   "metadata": {},
   "outputs": [
    {
     "data": {
      "text/html": [
       "<div>\n",
       "<style scoped>\n",
       "    .dataframe tbody tr th:only-of-type {\n",
       "        vertical-align: middle;\n",
       "    }\n",
       "\n",
       "    .dataframe tbody tr th {\n",
       "        vertical-align: top;\n",
       "    }\n",
       "\n",
       "    .dataframe thead th {\n",
       "        text-align: right;\n",
       "    }\n",
       "</style>\n",
       "<table border=\"1\" class=\"dataframe\">\n",
       "  <thead>\n",
       "    <tr style=\"text-align: right;\">\n",
       "      <th></th>\n",
       "      <th>Year</th>\n",
       "      <th>Period</th>\n",
       "      <th>labor force participation rate</th>\n",
       "      <th>employment-population ratio</th>\n",
       "      <th>labor force</th>\n",
       "      <th>employment</th>\n",
       "      <th>unemployment</th>\n",
       "      <th>unemployment rate</th>\n",
       "      <th>year/month</th>\n",
       "    </tr>\n",
       "  </thead>\n",
       "  <tbody>\n",
       "    <tr>\n",
       "      <th>0</th>\n",
       "      <td>2010</td>\n",
       "      <td>Jan</td>\n",
       "      <td>66.3</td>\n",
       "      <td>60.8</td>\n",
       "      <td>12108919</td>\n",
       "      <td>11106882</td>\n",
       "      <td>1002037</td>\n",
       "      <td>8.3</td>\n",
       "      <td>2010-Jan</td>\n",
       "    </tr>\n",
       "    <tr>\n",
       "      <th>1</th>\n",
       "      <td>2010</td>\n",
       "      <td>Feb</td>\n",
       "      <td>66.4</td>\n",
       "      <td>60.9</td>\n",
       "      <td>12151988</td>\n",
       "      <td>11146453</td>\n",
       "      <td>1005535</td>\n",
       "      <td>8.3</td>\n",
       "      <td>2010-Feb</td>\n",
       "    </tr>\n",
       "    <tr>\n",
       "      <th>2</th>\n",
       "      <td>2010</td>\n",
       "      <td>Mar</td>\n",
       "      <td>66.5</td>\n",
       "      <td>61.0</td>\n",
       "      <td>12191275</td>\n",
       "      <td>11184615</td>\n",
       "      <td>1006660</td>\n",
       "      <td>8.3</td>\n",
       "      <td>2010-Mar</td>\n",
       "    </tr>\n",
       "    <tr>\n",
       "      <th>3</th>\n",
       "      <td>2010</td>\n",
       "      <td>Apr</td>\n",
       "      <td>65.9</td>\n",
       "      <td>60.5</td>\n",
       "      <td>12222661</td>\n",
       "      <td>11218075</td>\n",
       "      <td>1004586</td>\n",
       "      <td>8.2</td>\n",
       "      <td>2010-Apr</td>\n",
       "    </tr>\n",
       "    <tr>\n",
       "      <th>4</th>\n",
       "      <td>2010</td>\n",
       "      <td>May</td>\n",
       "      <td>65.9</td>\n",
       "      <td>60.6</td>\n",
       "      <td>12244873</td>\n",
       "      <td>11246029</td>\n",
       "      <td>998844</td>\n",
       "      <td>8.2</td>\n",
       "      <td>2010-May</td>\n",
       "    </tr>\n",
       "    <tr>\n",
       "      <th>...</th>\n",
       "      <td>...</td>\n",
       "      <td>...</td>\n",
       "      <td>...</td>\n",
       "      <td>...</td>\n",
       "      <td>...</td>\n",
       "      <td>...</td>\n",
       "      <td>...</td>\n",
       "      <td>...</td>\n",
       "      <td>...</td>\n",
       "    </tr>\n",
       "    <tr>\n",
       "      <th>140</th>\n",
       "      <td>2021</td>\n",
       "      <td>Sep</td>\n",
       "      <td>63.3</td>\n",
       "      <td>60.1</td>\n",
       "      <td>14272899</td>\n",
       "      <td>13544229</td>\n",
       "      <td>728670</td>\n",
       "      <td>5.1</td>\n",
       "      <td>2021-Sep</td>\n",
       "    </tr>\n",
       "    <tr>\n",
       "      <th>141</th>\n",
       "      <td>2021</td>\n",
       "      <td>Oct</td>\n",
       "      <td>63.3</td>\n",
       "      <td>60.2</td>\n",
       "      <td>14295547</td>\n",
       "      <td>13581395</td>\n",
       "      <td>714152</td>\n",
       "      <td>5.0</td>\n",
       "      <td>2021-Oct</td>\n",
       "    </tr>\n",
       "    <tr>\n",
       "      <th>142</th>\n",
       "      <td>2021</td>\n",
       "      <td>Nov</td>\n",
       "      <td>63.2</td>\n",
       "      <td>60.1</td>\n",
       "      <td>14287946</td>\n",
       "      <td>13593060</td>\n",
       "      <td>694886</td>\n",
       "      <td>4.9</td>\n",
       "      <td>2021-Nov</td>\n",
       "    </tr>\n",
       "    <tr>\n",
       "      <th>143</th>\n",
       "      <td>2021</td>\n",
       "      <td>Dec</td>\n",
       "      <td>63.1</td>\n",
       "      <td>60.1</td>\n",
       "      <td>14282879</td>\n",
       "      <td>13595276</td>\n",
       "      <td>687603</td>\n",
       "      <td>4.8</td>\n",
       "      <td>2021-Dec</td>\n",
       "    </tr>\n",
       "    <tr>\n",
       "      <th>144</th>\n",
       "      <td>2022</td>\n",
       "      <td>Jan</td>\n",
       "      <td>63.3</td>\n",
       "      <td>60.2</td>\n",
       "      <td>14333602</td>\n",
       "      <td>13645425</td>\n",
       "      <td>688177</td>\n",
       "      <td>4.8</td>\n",
       "      <td>2022-Jan</td>\n",
       "    </tr>\n",
       "  </tbody>\n",
       "</table>\n",
       "<p>145 rows × 9 columns</p>\n",
       "</div>"
      ],
      "text/plain": [
       "     Year Period  labor force participation rate  employment-population ratio  \\\n",
       "0    2010    Jan                            66.3                         60.8   \n",
       "1    2010    Feb                            66.4                         60.9   \n",
       "2    2010    Mar                            66.5                         61.0   \n",
       "3    2010    Apr                            65.9                         60.5   \n",
       "4    2010    May                            65.9                         60.6   \n",
       "..    ...    ...                             ...                          ...   \n",
       "140  2021    Sep                            63.3                         60.1   \n",
       "141  2021    Oct                            63.3                         60.2   \n",
       "142  2021    Nov                            63.2                         60.1   \n",
       "143  2021    Dec                            63.1                         60.1   \n",
       "144  2022    Jan                            63.3                         60.2   \n",
       "\n",
       "     labor force  employment  unemployment  unemployment rate year/month  \n",
       "0       12108919    11106882       1002037                8.3   2010-Jan  \n",
       "1       12151988    11146453       1005535                8.3   2010-Feb  \n",
       "2       12191275    11184615       1006660                8.3   2010-Mar  \n",
       "3       12222661    11218075       1004586                8.2   2010-Apr  \n",
       "4       12244873    11246029        998844                8.2   2010-May  \n",
       "..           ...         ...           ...                ...        ...  \n",
       "140     14272899    13544229        728670                5.1   2021-Sep  \n",
       "141     14295547    13581395        714152                5.0   2021-Oct  \n",
       "142     14287946    13593060        694886                4.9   2021-Nov  \n",
       "143     14282879    13595276        687603                4.8   2021-Dec  \n",
       "144     14333602    13645425        688177                4.8   2022-Jan  \n",
       "\n",
       "[145 rows x 9 columns]"
      ]
     },
     "execution_count": 49,
     "metadata": {},
     "output_type": "execute_result"
    }
   ],
   "source": [
    "unemployment"
   ]
  },
  {
   "cell_type": "code",
   "execution_count": 51,
   "metadata": {},
   "outputs": [
    {
     "data": {
      "application/vnd.plotly.v1+json": {
       "config": {
        "plotlyServerURL": "https://plot.ly"
       },
       "data": [
        {
         "name": "Unemployment",
         "type": "scatter",
         "x": [
          "2010-Jan",
          "2010-Feb",
          "2010-Mar",
          "2010-Apr",
          "2010-May",
          "2010-Jun",
          "2010-Jul",
          "2010-Aug",
          "2010-Sep",
          "2010-Oct",
          "2010-Nov",
          "2010-Dec",
          "2011-Jan",
          "2011-Feb",
          "2011-Mar",
          "2011-Apr",
          "2011-May",
          "2011-Jun",
          "2011-Jul",
          "2011-Aug",
          "2011-Sep",
          "2011-Oct",
          "2011-Nov",
          "2011-Dec",
          "2012-Jan",
          "2012-Feb",
          "2012-Mar",
          "2012-Apr",
          "2012-May",
          "2012-Jun",
          "2012-Jul",
          "2012-Aug",
          "2012-Sep",
          "2012-Oct",
          "2012-Nov",
          "2012-Dec",
          "2013-Jan",
          "2013-Feb",
          "2013-Mar",
          "2013-Apr",
          "2013-May",
          "2013-Jun",
          "2013-Jul",
          "2013-Aug",
          "2013-Sep",
          "2013-Oct",
          "2013-Nov",
          "2013-Dec",
          "2014-Jan",
          "2014-Feb",
          "2014-Mar",
          "2014-Apr",
          "2014-May",
          "2014-Jun",
          "2014-Jul",
          "2014-Aug",
          "2014-Sep",
          "2014-Oct",
          "2014-Nov",
          "2014-Dec",
          "2015-Jan",
          "2015-Feb",
          "2015-Mar",
          "2015-Apr",
          "2015-May",
          "2015-Jun",
          "2015-Jul",
          "2015-Aug",
          "2015-Sep",
          "2015-Oct",
          "2015-Nov",
          "2015-Dec",
          "2016-Jan",
          "2016-Feb",
          "2016-Mar",
          "2016-Apr",
          "2016-May",
          "2016-Jun",
          "2016-Jul",
          "2016-Aug",
          "2016-Sep",
          "2016-Oct",
          "2016-Nov",
          "2016-Dec",
          "2017-Jan",
          "2017-Feb",
          "2017-Mar",
          "2017-Apr",
          "2017-May",
          "2017-Jun",
          "2017-Jul",
          "2017-Aug",
          "2017-Sep",
          "2017-Oct",
          "2017-Nov",
          "2017-Dec",
          "2018-Jan",
          "2018-Feb",
          "2018-Mar",
          "2018-Apr",
          "2018-May",
          "2018-Jun",
          "2018-Jul",
          "2018-Aug",
          "2018-Sep",
          "2018-Oct",
          "2018-Nov",
          "2018-Dec",
          "2019-Jan",
          "2019-Feb",
          "2019-Mar",
          "2019-Apr",
          "2019-May",
          "2019-Jun",
          "2019-Jul",
          "2019-Aug",
          "2019-Sep",
          "2019-Oct",
          "2019-Nov",
          "2019-Dec",
          "2020-Jan",
          "2020-Feb",
          "2020-Mar",
          "2020-Apr",
          "2020-May",
          "2020-Jun",
          "2020-Jul",
          "2020-Aug",
          "2020-Sep",
          "2020-Oct",
          "2020-Nov",
          "2020-Dec",
          "2021-Jan",
          "2021-Feb",
          "2021-Mar",
          "2021-Apr",
          "2021-May",
          "2021-Jun",
          "2021-Jul",
          "2021-Aug",
          "2021-Sep",
          "2021-Oct",
          "2021-Nov",
          "2021-Dec",
          "2022-Jan"
         ],
         "xaxis": "x",
         "y": [
          1002037,
          1005535,
          1006660,
          1004586,
          998844,
          992637,
          990246,
          993237,
          1000520,
          1009027,
          1014963,
          1016266,
          1014409,
          1011840,
          1010379,
          1012828,
          1021349,
          1033695,
          1046251,
          1026244,
          1002708,
          975870,
          946719,
          916813,
          888178,
          877452,
          841436,
          851105,
          856867,
          855973,
          847811,
          836108,
          826202,
          820771,
          820720,
          825003,
          831138,
          835777,
          835833,
          831373,
          824899,
          818725,
          813489,
          805928,
          794517,
          781618,
          768097,
          753688,
          737912,
          721554,
          707527,
          696883,
          688007,
          679936,
          671669,
          662652,
          651774,
          637462,
          620956,
          605779,
          594325,
          587606,
          583837,
          581180,
          579318,
          578704,
          580450,
          584340,
          587926,
          590060,
          590950,
          590447,
          589132,
          589237,
          592358,
          599706,
          610415,
          621145,
          629445,
          635306,
          640417,
          644755,
          646999,
          646838,
          640414,
          633917,
          623247,
          609926,
          595121,
          581414,
          570815,
          563119,
          557804,
          554048,
          552034,
          550999,
          550692,
          550600,
          549097,
          544959,
          539627,
          533946,
          528303,
          524863,
          524785,
          526438,
          526802,
          523169,
          514544,
          501844,
          488791,
          478646,
          474174,
          476705,
          484568,
          493076,
          496744,
          495343,
          490305,
          484222,
          480724,
          483015,
          702643,
          1668137,
          1628632,
          1384769,
          1287851,
          1119980,
          1074540,
          986822,
          974480,
          977744,
          948440,
          929683,
          904255,
          875958,
          840528,
          837848,
          794522,
          768726,
          728670,
          714152,
          694886,
          687603,
          688177
         ],
         "yaxis": "y"
        },
        {
         "name": "Unemployment Rate",
         "type": "scatter",
         "x": [
          "2010-Jan",
          "2010-Feb",
          "2010-Mar",
          "2010-Apr",
          "2010-May",
          "2010-Jun",
          "2010-Jul",
          "2010-Aug",
          "2010-Sep",
          "2010-Oct",
          "2010-Nov",
          "2010-Dec",
          "2011-Jan",
          "2011-Feb",
          "2011-Mar",
          "2011-Apr",
          "2011-May",
          "2011-Jun",
          "2011-Jul",
          "2011-Aug",
          "2011-Sep",
          "2011-Oct",
          "2011-Nov",
          "2011-Dec",
          "2012-Jan",
          "2012-Feb",
          "2012-Mar",
          "2012-Apr",
          "2012-May",
          "2012-Jun",
          "2012-Jul",
          "2012-Aug",
          "2012-Sep",
          "2012-Oct",
          "2012-Nov",
          "2012-Dec",
          "2013-Jan",
          "2013-Feb",
          "2013-Mar",
          "2013-Apr",
          "2013-May",
          "2013-Jun",
          "2013-Jul",
          "2013-Aug",
          "2013-Sep",
          "2013-Oct",
          "2013-Nov",
          "2013-Dec",
          "2014-Jan",
          "2014-Feb",
          "2014-Mar",
          "2014-Apr",
          "2014-May",
          "2014-Jun",
          "2014-Jul",
          "2014-Aug",
          "2014-Sep",
          "2014-Oct",
          "2014-Nov",
          "2014-Dec",
          "2015-Jan",
          "2015-Feb",
          "2015-Mar",
          "2015-Apr",
          "2015-May",
          "2015-Jun",
          "2015-Jul",
          "2015-Aug",
          "2015-Sep",
          "2015-Oct",
          "2015-Nov",
          "2015-Dec",
          "2016-Jan",
          "2016-Feb",
          "2016-Mar",
          "2016-Apr",
          "2016-May",
          "2016-Jun",
          "2016-Jul",
          "2016-Aug",
          "2016-Sep",
          "2016-Oct",
          "2016-Nov",
          "2016-Dec",
          "2017-Jan",
          "2017-Feb",
          "2017-Mar",
          "2017-Apr",
          "2017-May",
          "2017-Jun",
          "2017-Jul",
          "2017-Aug",
          "2017-Sep",
          "2017-Oct",
          "2017-Nov",
          "2017-Dec",
          "2018-Jan",
          "2018-Feb",
          "2018-Mar",
          "2018-Apr",
          "2018-May",
          "2018-Jun",
          "2018-Jul",
          "2018-Aug",
          "2018-Sep",
          "2018-Oct",
          "2018-Nov",
          "2018-Dec",
          "2019-Jan",
          "2019-Feb",
          "2019-Mar",
          "2019-Apr",
          "2019-May",
          "2019-Jun",
          "2019-Jul",
          "2019-Aug",
          "2019-Sep",
          "2019-Oct",
          "2019-Nov",
          "2019-Dec",
          "2020-Jan",
          "2020-Feb",
          "2020-Mar",
          "2020-Apr",
          "2020-May",
          "2020-Jun",
          "2020-Jul",
          "2020-Aug",
          "2020-Sep",
          "2020-Oct",
          "2020-Nov",
          "2020-Dec",
          "2021-Jan",
          "2021-Feb",
          "2021-Mar",
          "2021-Apr",
          "2021-May",
          "2021-Jun",
          "2021-Jul",
          "2021-Aug",
          "2021-Sep",
          "2021-Oct",
          "2021-Nov",
          "2021-Dec",
          "2022-Jan"
         ],
         "xaxis": "x",
         "y": [
          8.3,
          8.3,
          8.3,
          8.2,
          8.2,
          8.1,
          8.1,
          8.1,
          8.1,
          8.2,
          8.2,
          8.2,
          8.2,
          8.2,
          8.1,
          8.1,
          8.2,
          8.3,
          8.3,
          8.2,
          8,
          7.8,
          7.5,
          7.3,
          7.1,
          7,
          6.7,
          6.8,
          6.8,
          6.8,
          6.7,
          6.6,
          6.5,
          6.5,
          6.5,
          6.5,
          6.5,
          6.6,
          6.5,
          6.5,
          6.4,
          6.4,
          6.3,
          6.3,
          6.2,
          6.1,
          6,
          5.8,
          5.7,
          5.6,
          5.5,
          5.4,
          5.3,
          5.2,
          5.2,
          5.1,
          5,
          4.9,
          4.8,
          4.6,
          4.6,
          4.5,
          4.5,
          4.5,
          4.4,
          4.4,
          4.4,
          4.5,
          4.5,
          4.5,
          4.5,
          4.5,
          4.5,
          4.4,
          4.5,
          4.5,
          4.6,
          4.7,
          4.7,
          4.7,
          4.8,
          4.8,
          4.8,
          4.8,
          4.8,
          4.7,
          4.6,
          4.5,
          4.4,
          4.3,
          4.2,
          4.2,
          4.1,
          4.1,
          4.1,
          4.1,
          4.1,
          4,
          4,
          4,
          3.9,
          3.9,
          3.9,
          3.8,
          3.8,
          3.8,
          3.8,
          3.8,
          3.7,
          3.6,
          3.5,
          3.5,
          3.4,
          3.4,
          3.5,
          3.5,
          3.6,
          3.5,
          3.5,
          3.5,
          3.4,
          3.5,
          5.1,
          12.6,
          11.8,
          10.1,
          9.3,
          8.1,
          7.7,
          7.1,
          6.9,
          6.9,
          6.7,
          6.6,
          6.4,
          6.2,
          5.9,
          5.9,
          5.6,
          5.4,
          5.1,
          5,
          4.9,
          4.8,
          4.8
         ],
         "yaxis": "y2"
        }
       ],
       "layout": {
        "template": {
         "data": {
          "bar": [
           {
            "error_x": {
             "color": "#2a3f5f"
            },
            "error_y": {
             "color": "#2a3f5f"
            },
            "marker": {
             "line": {
              "color": "#E5ECF6",
              "width": 0.5
             },
             "pattern": {
              "fillmode": "overlay",
              "size": 10,
              "solidity": 0.2
             }
            },
            "type": "bar"
           }
          ],
          "barpolar": [
           {
            "marker": {
             "line": {
              "color": "#E5ECF6",
              "width": 0.5
             },
             "pattern": {
              "fillmode": "overlay",
              "size": 10,
              "solidity": 0.2
             }
            },
            "type": "barpolar"
           }
          ],
          "carpet": [
           {
            "aaxis": {
             "endlinecolor": "#2a3f5f",
             "gridcolor": "white",
             "linecolor": "white",
             "minorgridcolor": "white",
             "startlinecolor": "#2a3f5f"
            },
            "baxis": {
             "endlinecolor": "#2a3f5f",
             "gridcolor": "white",
             "linecolor": "white",
             "minorgridcolor": "white",
             "startlinecolor": "#2a3f5f"
            },
            "type": "carpet"
           }
          ],
          "choropleth": [
           {
            "colorbar": {
             "outlinewidth": 0,
             "ticks": ""
            },
            "type": "choropleth"
           }
          ],
          "contour": [
           {
            "colorbar": {
             "outlinewidth": 0,
             "ticks": ""
            },
            "colorscale": [
             [
              0,
              "#0d0887"
             ],
             [
              0.1111111111111111,
              "#46039f"
             ],
             [
              0.2222222222222222,
              "#7201a8"
             ],
             [
              0.3333333333333333,
              "#9c179e"
             ],
             [
              0.4444444444444444,
              "#bd3786"
             ],
             [
              0.5555555555555556,
              "#d8576b"
             ],
             [
              0.6666666666666666,
              "#ed7953"
             ],
             [
              0.7777777777777778,
              "#fb9f3a"
             ],
             [
              0.8888888888888888,
              "#fdca26"
             ],
             [
              1,
              "#f0f921"
             ]
            ],
            "type": "contour"
           }
          ],
          "contourcarpet": [
           {
            "colorbar": {
             "outlinewidth": 0,
             "ticks": ""
            },
            "type": "contourcarpet"
           }
          ],
          "heatmap": [
           {
            "colorbar": {
             "outlinewidth": 0,
             "ticks": ""
            },
            "colorscale": [
             [
              0,
              "#0d0887"
             ],
             [
              0.1111111111111111,
              "#46039f"
             ],
             [
              0.2222222222222222,
              "#7201a8"
             ],
             [
              0.3333333333333333,
              "#9c179e"
             ],
             [
              0.4444444444444444,
              "#bd3786"
             ],
             [
              0.5555555555555556,
              "#d8576b"
             ],
             [
              0.6666666666666666,
              "#ed7953"
             ],
             [
              0.7777777777777778,
              "#fb9f3a"
             ],
             [
              0.8888888888888888,
              "#fdca26"
             ],
             [
              1,
              "#f0f921"
             ]
            ],
            "type": "heatmap"
           }
          ],
          "heatmapgl": [
           {
            "colorbar": {
             "outlinewidth": 0,
             "ticks": ""
            },
            "colorscale": [
             [
              0,
              "#0d0887"
             ],
             [
              0.1111111111111111,
              "#46039f"
             ],
             [
              0.2222222222222222,
              "#7201a8"
             ],
             [
              0.3333333333333333,
              "#9c179e"
             ],
             [
              0.4444444444444444,
              "#bd3786"
             ],
             [
              0.5555555555555556,
              "#d8576b"
             ],
             [
              0.6666666666666666,
              "#ed7953"
             ],
             [
              0.7777777777777778,
              "#fb9f3a"
             ],
             [
              0.8888888888888888,
              "#fdca26"
             ],
             [
              1,
              "#f0f921"
             ]
            ],
            "type": "heatmapgl"
           }
          ],
          "histogram": [
           {
            "marker": {
             "pattern": {
              "fillmode": "overlay",
              "size": 10,
              "solidity": 0.2
             }
            },
            "type": "histogram"
           }
          ],
          "histogram2d": [
           {
            "colorbar": {
             "outlinewidth": 0,
             "ticks": ""
            },
            "colorscale": [
             [
              0,
              "#0d0887"
             ],
             [
              0.1111111111111111,
              "#46039f"
             ],
             [
              0.2222222222222222,
              "#7201a8"
             ],
             [
              0.3333333333333333,
              "#9c179e"
             ],
             [
              0.4444444444444444,
              "#bd3786"
             ],
             [
              0.5555555555555556,
              "#d8576b"
             ],
             [
              0.6666666666666666,
              "#ed7953"
             ],
             [
              0.7777777777777778,
              "#fb9f3a"
             ],
             [
              0.8888888888888888,
              "#fdca26"
             ],
             [
              1,
              "#f0f921"
             ]
            ],
            "type": "histogram2d"
           }
          ],
          "histogram2dcontour": [
           {
            "colorbar": {
             "outlinewidth": 0,
             "ticks": ""
            },
            "colorscale": [
             [
              0,
              "#0d0887"
             ],
             [
              0.1111111111111111,
              "#46039f"
             ],
             [
              0.2222222222222222,
              "#7201a8"
             ],
             [
              0.3333333333333333,
              "#9c179e"
             ],
             [
              0.4444444444444444,
              "#bd3786"
             ],
             [
              0.5555555555555556,
              "#d8576b"
             ],
             [
              0.6666666666666666,
              "#ed7953"
             ],
             [
              0.7777777777777778,
              "#fb9f3a"
             ],
             [
              0.8888888888888888,
              "#fdca26"
             ],
             [
              1,
              "#f0f921"
             ]
            ],
            "type": "histogram2dcontour"
           }
          ],
          "mesh3d": [
           {
            "colorbar": {
             "outlinewidth": 0,
             "ticks": ""
            },
            "type": "mesh3d"
           }
          ],
          "parcoords": [
           {
            "line": {
             "colorbar": {
              "outlinewidth": 0,
              "ticks": ""
             }
            },
            "type": "parcoords"
           }
          ],
          "pie": [
           {
            "automargin": true,
            "type": "pie"
           }
          ],
          "scatter": [
           {
            "marker": {
             "colorbar": {
              "outlinewidth": 0,
              "ticks": ""
             }
            },
            "type": "scatter"
           }
          ],
          "scatter3d": [
           {
            "line": {
             "colorbar": {
              "outlinewidth": 0,
              "ticks": ""
             }
            },
            "marker": {
             "colorbar": {
              "outlinewidth": 0,
              "ticks": ""
             }
            },
            "type": "scatter3d"
           }
          ],
          "scattercarpet": [
           {
            "marker": {
             "colorbar": {
              "outlinewidth": 0,
              "ticks": ""
             }
            },
            "type": "scattercarpet"
           }
          ],
          "scattergeo": [
           {
            "marker": {
             "colorbar": {
              "outlinewidth": 0,
              "ticks": ""
             }
            },
            "type": "scattergeo"
           }
          ],
          "scattergl": [
           {
            "marker": {
             "colorbar": {
              "outlinewidth": 0,
              "ticks": ""
             }
            },
            "type": "scattergl"
           }
          ],
          "scattermapbox": [
           {
            "marker": {
             "colorbar": {
              "outlinewidth": 0,
              "ticks": ""
             }
            },
            "type": "scattermapbox"
           }
          ],
          "scatterpolar": [
           {
            "marker": {
             "colorbar": {
              "outlinewidth": 0,
              "ticks": ""
             }
            },
            "type": "scatterpolar"
           }
          ],
          "scatterpolargl": [
           {
            "marker": {
             "colorbar": {
              "outlinewidth": 0,
              "ticks": ""
             }
            },
            "type": "scatterpolargl"
           }
          ],
          "scatterternary": [
           {
            "marker": {
             "colorbar": {
              "outlinewidth": 0,
              "ticks": ""
             }
            },
            "type": "scatterternary"
           }
          ],
          "surface": [
           {
            "colorbar": {
             "outlinewidth": 0,
             "ticks": ""
            },
            "colorscale": [
             [
              0,
              "#0d0887"
             ],
             [
              0.1111111111111111,
              "#46039f"
             ],
             [
              0.2222222222222222,
              "#7201a8"
             ],
             [
              0.3333333333333333,
              "#9c179e"
             ],
             [
              0.4444444444444444,
              "#bd3786"
             ],
             [
              0.5555555555555556,
              "#d8576b"
             ],
             [
              0.6666666666666666,
              "#ed7953"
             ],
             [
              0.7777777777777778,
              "#fb9f3a"
             ],
             [
              0.8888888888888888,
              "#fdca26"
             ],
             [
              1,
              "#f0f921"
             ]
            ],
            "type": "surface"
           }
          ],
          "table": [
           {
            "cells": {
             "fill": {
              "color": "#EBF0F8"
             },
             "line": {
              "color": "white"
             }
            },
            "header": {
             "fill": {
              "color": "#C8D4E3"
             },
             "line": {
              "color": "white"
             }
            },
            "type": "table"
           }
          ]
         },
         "layout": {
          "annotationdefaults": {
           "arrowcolor": "#2a3f5f",
           "arrowhead": 0,
           "arrowwidth": 1
          },
          "autotypenumbers": "strict",
          "coloraxis": {
           "colorbar": {
            "outlinewidth": 0,
            "ticks": ""
           }
          },
          "colorscale": {
           "diverging": [
            [
             0,
             "#8e0152"
            ],
            [
             0.1,
             "#c51b7d"
            ],
            [
             0.2,
             "#de77ae"
            ],
            [
             0.3,
             "#f1b6da"
            ],
            [
             0.4,
             "#fde0ef"
            ],
            [
             0.5,
             "#f7f7f7"
            ],
            [
             0.6,
             "#e6f5d0"
            ],
            [
             0.7,
             "#b8e186"
            ],
            [
             0.8,
             "#7fbc41"
            ],
            [
             0.9,
             "#4d9221"
            ],
            [
             1,
             "#276419"
            ]
           ],
           "sequential": [
            [
             0,
             "#0d0887"
            ],
            [
             0.1111111111111111,
             "#46039f"
            ],
            [
             0.2222222222222222,
             "#7201a8"
            ],
            [
             0.3333333333333333,
             "#9c179e"
            ],
            [
             0.4444444444444444,
             "#bd3786"
            ],
            [
             0.5555555555555556,
             "#d8576b"
            ],
            [
             0.6666666666666666,
             "#ed7953"
            ],
            [
             0.7777777777777778,
             "#fb9f3a"
            ],
            [
             0.8888888888888888,
             "#fdca26"
            ],
            [
             1,
             "#f0f921"
            ]
           ],
           "sequentialminus": [
            [
             0,
             "#0d0887"
            ],
            [
             0.1111111111111111,
             "#46039f"
            ],
            [
             0.2222222222222222,
             "#7201a8"
            ],
            [
             0.3333333333333333,
             "#9c179e"
            ],
            [
             0.4444444444444444,
             "#bd3786"
            ],
            [
             0.5555555555555556,
             "#d8576b"
            ],
            [
             0.6666666666666666,
             "#ed7953"
            ],
            [
             0.7777777777777778,
             "#fb9f3a"
            ],
            [
             0.8888888888888888,
             "#fdca26"
            ],
            [
             1,
             "#f0f921"
            ]
           ]
          },
          "colorway": [
           "#636efa",
           "#EF553B",
           "#00cc96",
           "#ab63fa",
           "#FFA15A",
           "#19d3f3",
           "#FF6692",
           "#B6E880",
           "#FF97FF",
           "#FECB52"
          ],
          "font": {
           "color": "#2a3f5f"
          },
          "geo": {
           "bgcolor": "white",
           "lakecolor": "white",
           "landcolor": "#E5ECF6",
           "showlakes": true,
           "showland": true,
           "subunitcolor": "white"
          },
          "hoverlabel": {
           "align": "left"
          },
          "hovermode": "closest",
          "mapbox": {
           "style": "light"
          },
          "paper_bgcolor": "white",
          "plot_bgcolor": "#E5ECF6",
          "polar": {
           "angularaxis": {
            "gridcolor": "white",
            "linecolor": "white",
            "ticks": ""
           },
           "bgcolor": "#E5ECF6",
           "radialaxis": {
            "gridcolor": "white",
            "linecolor": "white",
            "ticks": ""
           }
          },
          "scene": {
           "xaxis": {
            "backgroundcolor": "#E5ECF6",
            "gridcolor": "white",
            "gridwidth": 2,
            "linecolor": "white",
            "showbackground": true,
            "ticks": "",
            "zerolinecolor": "white"
           },
           "yaxis": {
            "backgroundcolor": "#E5ECF6",
            "gridcolor": "white",
            "gridwidth": 2,
            "linecolor": "white",
            "showbackground": true,
            "ticks": "",
            "zerolinecolor": "white"
           },
           "zaxis": {
            "backgroundcolor": "#E5ECF6",
            "gridcolor": "white",
            "gridwidth": 2,
            "linecolor": "white",
            "showbackground": true,
            "ticks": "",
            "zerolinecolor": "white"
           }
          },
          "shapedefaults": {
           "line": {
            "color": "#2a3f5f"
           }
          },
          "ternary": {
           "aaxis": {
            "gridcolor": "white",
            "linecolor": "white",
            "ticks": ""
           },
           "baxis": {
            "gridcolor": "white",
            "linecolor": "white",
            "ticks": ""
           },
           "bgcolor": "#E5ECF6",
           "caxis": {
            "gridcolor": "white",
            "linecolor": "white",
            "ticks": ""
           }
          },
          "title": {
           "x": 0.05
          },
          "xaxis": {
           "automargin": true,
           "gridcolor": "white",
           "linecolor": "white",
           "ticks": "",
           "title": {
            "standoff": 15
           },
           "zerolinecolor": "white",
           "zerolinewidth": 2
          },
          "yaxis": {
           "automargin": true,
           "gridcolor": "white",
           "linecolor": "white",
           "ticks": "",
           "title": {
            "standoff": 15
           },
           "zerolinecolor": "white",
           "zerolinewidth": 2
          }
         }
        },
        "xaxis": {
         "anchor": "y",
         "domain": [
          0,
          0.94
         ]
        },
        "yaxis": {
         "anchor": "x",
         "domain": [
          0,
          1
         ]
        },
        "yaxis2": {
         "anchor": "x",
         "overlaying": "y",
         "side": "right"
        }
       }
      },
      "text/html": [
       "<div>                            <div id=\"5a8b84ce-476b-45ba-b315-4de8cc36f1f5\" class=\"plotly-graph-div\" style=\"height:525px; width:100%;\"></div>            <script type=\"text/javascript\">                require([\"plotly\"], function(Plotly) {                    window.PLOTLYENV=window.PLOTLYENV || {};                                    if (document.getElementById(\"5a8b84ce-476b-45ba-b315-4de8cc36f1f5\")) {                    Plotly.newPlot(                        \"5a8b84ce-476b-45ba-b315-4de8cc36f1f5\",                        [{\"name\":\"Unemployment\",\"x\":[\"2010-Jan\",\"2010-Feb\",\"2010-Mar\",\"2010-Apr\",\"2010-May\",\"2010-Jun\",\"2010-Jul\",\"2010-Aug\",\"2010-Sep\",\"2010-Oct\",\"2010-Nov\",\"2010-Dec\",\"2011-Jan\",\"2011-Feb\",\"2011-Mar\",\"2011-Apr\",\"2011-May\",\"2011-Jun\",\"2011-Jul\",\"2011-Aug\",\"2011-Sep\",\"2011-Oct\",\"2011-Nov\",\"2011-Dec\",\"2012-Jan\",\"2012-Feb\",\"2012-Mar\",\"2012-Apr\",\"2012-May\",\"2012-Jun\",\"2012-Jul\",\"2012-Aug\",\"2012-Sep\",\"2012-Oct\",\"2012-Nov\",\"2012-Dec\",\"2013-Jan\",\"2013-Feb\",\"2013-Mar\",\"2013-Apr\",\"2013-May\",\"2013-Jun\",\"2013-Jul\",\"2013-Aug\",\"2013-Sep\",\"2013-Oct\",\"2013-Nov\",\"2013-Dec\",\"2014-Jan\",\"2014-Feb\",\"2014-Mar\",\"2014-Apr\",\"2014-May\",\"2014-Jun\",\"2014-Jul\",\"2014-Aug\",\"2014-Sep\",\"2014-Oct\",\"2014-Nov\",\"2014-Dec\",\"2015-Jan\",\"2015-Feb\",\"2015-Mar\",\"2015-Apr\",\"2015-May\",\"2015-Jun\",\"2015-Jul\",\"2015-Aug\",\"2015-Sep\",\"2015-Oct\",\"2015-Nov\",\"2015-Dec\",\"2016-Jan\",\"2016-Feb\",\"2016-Mar\",\"2016-Apr\",\"2016-May\",\"2016-Jun\",\"2016-Jul\",\"2016-Aug\",\"2016-Sep\",\"2016-Oct\",\"2016-Nov\",\"2016-Dec\",\"2017-Jan\",\"2017-Feb\",\"2017-Mar\",\"2017-Apr\",\"2017-May\",\"2017-Jun\",\"2017-Jul\",\"2017-Aug\",\"2017-Sep\",\"2017-Oct\",\"2017-Nov\",\"2017-Dec\",\"2018-Jan\",\"2018-Feb\",\"2018-Mar\",\"2018-Apr\",\"2018-May\",\"2018-Jun\",\"2018-Jul\",\"2018-Aug\",\"2018-Sep\",\"2018-Oct\",\"2018-Nov\",\"2018-Dec\",\"2019-Jan\",\"2019-Feb\",\"2019-Mar\",\"2019-Apr\",\"2019-May\",\"2019-Jun\",\"2019-Jul\",\"2019-Aug\",\"2019-Sep\",\"2019-Oct\",\"2019-Nov\",\"2019-Dec\",\"2020-Jan\",\"2020-Feb\",\"2020-Mar\",\"2020-Apr\",\"2020-May\",\"2020-Jun\",\"2020-Jul\",\"2020-Aug\",\"2020-Sep\",\"2020-Oct\",\"2020-Nov\",\"2020-Dec\",\"2021-Jan\",\"2021-Feb\",\"2021-Mar\",\"2021-Apr\",\"2021-May\",\"2021-Jun\",\"2021-Jul\",\"2021-Aug\",\"2021-Sep\",\"2021-Oct\",\"2021-Nov\",\"2021-Dec\",\"2022-Jan\"],\"y\":[1002037,1005535,1006660,1004586,998844,992637,990246,993237,1000520,1009027,1014963,1016266,1014409,1011840,1010379,1012828,1021349,1033695,1046251,1026244,1002708,975870,946719,916813,888178,877452,841436,851105,856867,855973,847811,836108,826202,820771,820720,825003,831138,835777,835833,831373,824899,818725,813489,805928,794517,781618,768097,753688,737912,721554,707527,696883,688007,679936,671669,662652,651774,637462,620956,605779,594325,587606,583837,581180,579318,578704,580450,584340,587926,590060,590950,590447,589132,589237,592358,599706,610415,621145,629445,635306,640417,644755,646999,646838,640414,633917,623247,609926,595121,581414,570815,563119,557804,554048,552034,550999,550692,550600,549097,544959,539627,533946,528303,524863,524785,526438,526802,523169,514544,501844,488791,478646,474174,476705,484568,493076,496744,495343,490305,484222,480724,483015,702643,1668137,1628632,1384769,1287851,1119980,1074540,986822,974480,977744,948440,929683,904255,875958,840528,837848,794522,768726,728670,714152,694886,687603,688177],\"type\":\"scatter\",\"xaxis\":\"x\",\"yaxis\":\"y\"},{\"name\":\"Unemployment Rate\",\"x\":[\"2010-Jan\",\"2010-Feb\",\"2010-Mar\",\"2010-Apr\",\"2010-May\",\"2010-Jun\",\"2010-Jul\",\"2010-Aug\",\"2010-Sep\",\"2010-Oct\",\"2010-Nov\",\"2010-Dec\",\"2011-Jan\",\"2011-Feb\",\"2011-Mar\",\"2011-Apr\",\"2011-May\",\"2011-Jun\",\"2011-Jul\",\"2011-Aug\",\"2011-Sep\",\"2011-Oct\",\"2011-Nov\",\"2011-Dec\",\"2012-Jan\",\"2012-Feb\",\"2012-Mar\",\"2012-Apr\",\"2012-May\",\"2012-Jun\",\"2012-Jul\",\"2012-Aug\",\"2012-Sep\",\"2012-Oct\",\"2012-Nov\",\"2012-Dec\",\"2013-Jan\",\"2013-Feb\",\"2013-Mar\",\"2013-Apr\",\"2013-May\",\"2013-Jun\",\"2013-Jul\",\"2013-Aug\",\"2013-Sep\",\"2013-Oct\",\"2013-Nov\",\"2013-Dec\",\"2014-Jan\",\"2014-Feb\",\"2014-Mar\",\"2014-Apr\",\"2014-May\",\"2014-Jun\",\"2014-Jul\",\"2014-Aug\",\"2014-Sep\",\"2014-Oct\",\"2014-Nov\",\"2014-Dec\",\"2015-Jan\",\"2015-Feb\",\"2015-Mar\",\"2015-Apr\",\"2015-May\",\"2015-Jun\",\"2015-Jul\",\"2015-Aug\",\"2015-Sep\",\"2015-Oct\",\"2015-Nov\",\"2015-Dec\",\"2016-Jan\",\"2016-Feb\",\"2016-Mar\",\"2016-Apr\",\"2016-May\",\"2016-Jun\",\"2016-Jul\",\"2016-Aug\",\"2016-Sep\",\"2016-Oct\",\"2016-Nov\",\"2016-Dec\",\"2017-Jan\",\"2017-Feb\",\"2017-Mar\",\"2017-Apr\",\"2017-May\",\"2017-Jun\",\"2017-Jul\",\"2017-Aug\",\"2017-Sep\",\"2017-Oct\",\"2017-Nov\",\"2017-Dec\",\"2018-Jan\",\"2018-Feb\",\"2018-Mar\",\"2018-Apr\",\"2018-May\",\"2018-Jun\",\"2018-Jul\",\"2018-Aug\",\"2018-Sep\",\"2018-Oct\",\"2018-Nov\",\"2018-Dec\",\"2019-Jan\",\"2019-Feb\",\"2019-Mar\",\"2019-Apr\",\"2019-May\",\"2019-Jun\",\"2019-Jul\",\"2019-Aug\",\"2019-Sep\",\"2019-Oct\",\"2019-Nov\",\"2019-Dec\",\"2020-Jan\",\"2020-Feb\",\"2020-Mar\",\"2020-Apr\",\"2020-May\",\"2020-Jun\",\"2020-Jul\",\"2020-Aug\",\"2020-Sep\",\"2020-Oct\",\"2020-Nov\",\"2020-Dec\",\"2021-Jan\",\"2021-Feb\",\"2021-Mar\",\"2021-Apr\",\"2021-May\",\"2021-Jun\",\"2021-Jul\",\"2021-Aug\",\"2021-Sep\",\"2021-Oct\",\"2021-Nov\",\"2021-Dec\",\"2022-Jan\"],\"y\":[8.3,8.3,8.3,8.2,8.2,8.1,8.1,8.1,8.1,8.2,8.2,8.2,8.2,8.2,8.1,8.1,8.2,8.3,8.3,8.2,8.0,7.8,7.5,7.3,7.1,7.0,6.7,6.8,6.8,6.8,6.7,6.6,6.5,6.5,6.5,6.5,6.5,6.6,6.5,6.5,6.4,6.4,6.3,6.3,6.2,6.1,6.0,5.8,5.7,5.6,5.5,5.4,5.3,5.2,5.2,5.1,5.0,4.9,4.8,4.6,4.6,4.5,4.5,4.5,4.4,4.4,4.4,4.5,4.5,4.5,4.5,4.5,4.5,4.4,4.5,4.5,4.6,4.7,4.7,4.7,4.8,4.8,4.8,4.8,4.8,4.7,4.6,4.5,4.4,4.3,4.2,4.2,4.1,4.1,4.1,4.1,4.1,4.0,4.0,4.0,3.9,3.9,3.9,3.8,3.8,3.8,3.8,3.8,3.7,3.6,3.5,3.5,3.4,3.4,3.5,3.5,3.6,3.5,3.5,3.5,3.4,3.5,5.1,12.6,11.8,10.1,9.3,8.1,7.7,7.1,6.9,6.9,6.7,6.6,6.4,6.2,5.9,5.9,5.6,5.4,5.1,5.0,4.9,4.8,4.8],\"type\":\"scatter\",\"xaxis\":\"x\",\"yaxis\":\"y2\"}],                        {\"template\":{\"data\":{\"bar\":[{\"error_x\":{\"color\":\"#2a3f5f\"},\"error_y\":{\"color\":\"#2a3f5f\"},\"marker\":{\"line\":{\"color\":\"#E5ECF6\",\"width\":0.5},\"pattern\":{\"fillmode\":\"overlay\",\"size\":10,\"solidity\":0.2}},\"type\":\"bar\"}],\"barpolar\":[{\"marker\":{\"line\":{\"color\":\"#E5ECF6\",\"width\":0.5},\"pattern\":{\"fillmode\":\"overlay\",\"size\":10,\"solidity\":0.2}},\"type\":\"barpolar\"}],\"carpet\":[{\"aaxis\":{\"endlinecolor\":\"#2a3f5f\",\"gridcolor\":\"white\",\"linecolor\":\"white\",\"minorgridcolor\":\"white\",\"startlinecolor\":\"#2a3f5f\"},\"baxis\":{\"endlinecolor\":\"#2a3f5f\",\"gridcolor\":\"white\",\"linecolor\":\"white\",\"minorgridcolor\":\"white\",\"startlinecolor\":\"#2a3f5f\"},\"type\":\"carpet\"}],\"choropleth\":[{\"colorbar\":{\"outlinewidth\":0,\"ticks\":\"\"},\"type\":\"choropleth\"}],\"contour\":[{\"colorbar\":{\"outlinewidth\":0,\"ticks\":\"\"},\"colorscale\":[[0.0,\"#0d0887\"],[0.1111111111111111,\"#46039f\"],[0.2222222222222222,\"#7201a8\"],[0.3333333333333333,\"#9c179e\"],[0.4444444444444444,\"#bd3786\"],[0.5555555555555556,\"#d8576b\"],[0.6666666666666666,\"#ed7953\"],[0.7777777777777778,\"#fb9f3a\"],[0.8888888888888888,\"#fdca26\"],[1.0,\"#f0f921\"]],\"type\":\"contour\"}],\"contourcarpet\":[{\"colorbar\":{\"outlinewidth\":0,\"ticks\":\"\"},\"type\":\"contourcarpet\"}],\"heatmap\":[{\"colorbar\":{\"outlinewidth\":0,\"ticks\":\"\"},\"colorscale\":[[0.0,\"#0d0887\"],[0.1111111111111111,\"#46039f\"],[0.2222222222222222,\"#7201a8\"],[0.3333333333333333,\"#9c179e\"],[0.4444444444444444,\"#bd3786\"],[0.5555555555555556,\"#d8576b\"],[0.6666666666666666,\"#ed7953\"],[0.7777777777777778,\"#fb9f3a\"],[0.8888888888888888,\"#fdca26\"],[1.0,\"#f0f921\"]],\"type\":\"heatmap\"}],\"heatmapgl\":[{\"colorbar\":{\"outlinewidth\":0,\"ticks\":\"\"},\"colorscale\":[[0.0,\"#0d0887\"],[0.1111111111111111,\"#46039f\"],[0.2222222222222222,\"#7201a8\"],[0.3333333333333333,\"#9c179e\"],[0.4444444444444444,\"#bd3786\"],[0.5555555555555556,\"#d8576b\"],[0.6666666666666666,\"#ed7953\"],[0.7777777777777778,\"#fb9f3a\"],[0.8888888888888888,\"#fdca26\"],[1.0,\"#f0f921\"]],\"type\":\"heatmapgl\"}],\"histogram\":[{\"marker\":{\"pattern\":{\"fillmode\":\"overlay\",\"size\":10,\"solidity\":0.2}},\"type\":\"histogram\"}],\"histogram2d\":[{\"colorbar\":{\"outlinewidth\":0,\"ticks\":\"\"},\"colorscale\":[[0.0,\"#0d0887\"],[0.1111111111111111,\"#46039f\"],[0.2222222222222222,\"#7201a8\"],[0.3333333333333333,\"#9c179e\"],[0.4444444444444444,\"#bd3786\"],[0.5555555555555556,\"#d8576b\"],[0.6666666666666666,\"#ed7953\"],[0.7777777777777778,\"#fb9f3a\"],[0.8888888888888888,\"#fdca26\"],[1.0,\"#f0f921\"]],\"type\":\"histogram2d\"}],\"histogram2dcontour\":[{\"colorbar\":{\"outlinewidth\":0,\"ticks\":\"\"},\"colorscale\":[[0.0,\"#0d0887\"],[0.1111111111111111,\"#46039f\"],[0.2222222222222222,\"#7201a8\"],[0.3333333333333333,\"#9c179e\"],[0.4444444444444444,\"#bd3786\"],[0.5555555555555556,\"#d8576b\"],[0.6666666666666666,\"#ed7953\"],[0.7777777777777778,\"#fb9f3a\"],[0.8888888888888888,\"#fdca26\"],[1.0,\"#f0f921\"]],\"type\":\"histogram2dcontour\"}],\"mesh3d\":[{\"colorbar\":{\"outlinewidth\":0,\"ticks\":\"\"},\"type\":\"mesh3d\"}],\"parcoords\":[{\"line\":{\"colorbar\":{\"outlinewidth\":0,\"ticks\":\"\"}},\"type\":\"parcoords\"}],\"pie\":[{\"automargin\":true,\"type\":\"pie\"}],\"scatter\":[{\"marker\":{\"colorbar\":{\"outlinewidth\":0,\"ticks\":\"\"}},\"type\":\"scatter\"}],\"scatter3d\":[{\"line\":{\"colorbar\":{\"outlinewidth\":0,\"ticks\":\"\"}},\"marker\":{\"colorbar\":{\"outlinewidth\":0,\"ticks\":\"\"}},\"type\":\"scatter3d\"}],\"scattercarpet\":[{\"marker\":{\"colorbar\":{\"outlinewidth\":0,\"ticks\":\"\"}},\"type\":\"scattercarpet\"}],\"scattergeo\":[{\"marker\":{\"colorbar\":{\"outlinewidth\":0,\"ticks\":\"\"}},\"type\":\"scattergeo\"}],\"scattergl\":[{\"marker\":{\"colorbar\":{\"outlinewidth\":0,\"ticks\":\"\"}},\"type\":\"scattergl\"}],\"scattermapbox\":[{\"marker\":{\"colorbar\":{\"outlinewidth\":0,\"ticks\":\"\"}},\"type\":\"scattermapbox\"}],\"scatterpolar\":[{\"marker\":{\"colorbar\":{\"outlinewidth\":0,\"ticks\":\"\"}},\"type\":\"scatterpolar\"}],\"scatterpolargl\":[{\"marker\":{\"colorbar\":{\"outlinewidth\":0,\"ticks\":\"\"}},\"type\":\"scatterpolargl\"}],\"scatterternary\":[{\"marker\":{\"colorbar\":{\"outlinewidth\":0,\"ticks\":\"\"}},\"type\":\"scatterternary\"}],\"surface\":[{\"colorbar\":{\"outlinewidth\":0,\"ticks\":\"\"},\"colorscale\":[[0.0,\"#0d0887\"],[0.1111111111111111,\"#46039f\"],[0.2222222222222222,\"#7201a8\"],[0.3333333333333333,\"#9c179e\"],[0.4444444444444444,\"#bd3786\"],[0.5555555555555556,\"#d8576b\"],[0.6666666666666666,\"#ed7953\"],[0.7777777777777778,\"#fb9f3a\"],[0.8888888888888888,\"#fdca26\"],[1.0,\"#f0f921\"]],\"type\":\"surface\"}],\"table\":[{\"cells\":{\"fill\":{\"color\":\"#EBF0F8\"},\"line\":{\"color\":\"white\"}},\"header\":{\"fill\":{\"color\":\"#C8D4E3\"},\"line\":{\"color\":\"white\"}},\"type\":\"table\"}]},\"layout\":{\"annotationdefaults\":{\"arrowcolor\":\"#2a3f5f\",\"arrowhead\":0,\"arrowwidth\":1},\"autotypenumbers\":\"strict\",\"coloraxis\":{\"colorbar\":{\"outlinewidth\":0,\"ticks\":\"\"}},\"colorscale\":{\"diverging\":[[0,\"#8e0152\"],[0.1,\"#c51b7d\"],[0.2,\"#de77ae\"],[0.3,\"#f1b6da\"],[0.4,\"#fde0ef\"],[0.5,\"#f7f7f7\"],[0.6,\"#e6f5d0\"],[0.7,\"#b8e186\"],[0.8,\"#7fbc41\"],[0.9,\"#4d9221\"],[1,\"#276419\"]],\"sequential\":[[0.0,\"#0d0887\"],[0.1111111111111111,\"#46039f\"],[0.2222222222222222,\"#7201a8\"],[0.3333333333333333,\"#9c179e\"],[0.4444444444444444,\"#bd3786\"],[0.5555555555555556,\"#d8576b\"],[0.6666666666666666,\"#ed7953\"],[0.7777777777777778,\"#fb9f3a\"],[0.8888888888888888,\"#fdca26\"],[1.0,\"#f0f921\"]],\"sequentialminus\":[[0.0,\"#0d0887\"],[0.1111111111111111,\"#46039f\"],[0.2222222222222222,\"#7201a8\"],[0.3333333333333333,\"#9c179e\"],[0.4444444444444444,\"#bd3786\"],[0.5555555555555556,\"#d8576b\"],[0.6666666666666666,\"#ed7953\"],[0.7777777777777778,\"#fb9f3a\"],[0.8888888888888888,\"#fdca26\"],[1.0,\"#f0f921\"]]},\"colorway\":[\"#636efa\",\"#EF553B\",\"#00cc96\",\"#ab63fa\",\"#FFA15A\",\"#19d3f3\",\"#FF6692\",\"#B6E880\",\"#FF97FF\",\"#FECB52\"],\"font\":{\"color\":\"#2a3f5f\"},\"geo\":{\"bgcolor\":\"white\",\"lakecolor\":\"white\",\"landcolor\":\"#E5ECF6\",\"showlakes\":true,\"showland\":true,\"subunitcolor\":\"white\"},\"hoverlabel\":{\"align\":\"left\"},\"hovermode\":\"closest\",\"mapbox\":{\"style\":\"light\"},\"paper_bgcolor\":\"white\",\"plot_bgcolor\":\"#E5ECF6\",\"polar\":{\"angularaxis\":{\"gridcolor\":\"white\",\"linecolor\":\"white\",\"ticks\":\"\"},\"bgcolor\":\"#E5ECF6\",\"radialaxis\":{\"gridcolor\":\"white\",\"linecolor\":\"white\",\"ticks\":\"\"}},\"scene\":{\"xaxis\":{\"backgroundcolor\":\"#E5ECF6\",\"gridcolor\":\"white\",\"gridwidth\":2,\"linecolor\":\"white\",\"showbackground\":true,\"ticks\":\"\",\"zerolinecolor\":\"white\"},\"yaxis\":{\"backgroundcolor\":\"#E5ECF6\",\"gridcolor\":\"white\",\"gridwidth\":2,\"linecolor\":\"white\",\"showbackground\":true,\"ticks\":\"\",\"zerolinecolor\":\"white\"},\"zaxis\":{\"backgroundcolor\":\"#E5ECF6\",\"gridcolor\":\"white\",\"gridwidth\":2,\"linecolor\":\"white\",\"showbackground\":true,\"ticks\":\"\",\"zerolinecolor\":\"white\"}},\"shapedefaults\":{\"line\":{\"color\":\"#2a3f5f\"}},\"ternary\":{\"aaxis\":{\"gridcolor\":\"white\",\"linecolor\":\"white\",\"ticks\":\"\"},\"baxis\":{\"gridcolor\":\"white\",\"linecolor\":\"white\",\"ticks\":\"\"},\"bgcolor\":\"#E5ECF6\",\"caxis\":{\"gridcolor\":\"white\",\"linecolor\":\"white\",\"ticks\":\"\"}},\"title\":{\"x\":0.05},\"xaxis\":{\"automargin\":true,\"gridcolor\":\"white\",\"linecolor\":\"white\",\"ticks\":\"\",\"title\":{\"standoff\":15},\"zerolinecolor\":\"white\",\"zerolinewidth\":2},\"yaxis\":{\"automargin\":true,\"gridcolor\":\"white\",\"linecolor\":\"white\",\"ticks\":\"\",\"title\":{\"standoff\":15},\"zerolinecolor\":\"white\",\"zerolinewidth\":2}}},\"xaxis\":{\"anchor\":\"y\",\"domain\":[0.0,0.94]},\"yaxis\":{\"anchor\":\"x\",\"domain\":[0.0,1.0]},\"yaxis2\":{\"anchor\":\"x\",\"overlaying\":\"y\",\"side\":\"right\"}},                        {\"responsive\": true}                    ).then(function(){\n",
       "                            \n",
       "var gd = document.getElementById('5a8b84ce-476b-45ba-b315-4de8cc36f1f5');\n",
       "var x = new MutationObserver(function (mutations, observer) {{\n",
       "        var display = window.getComputedStyle(gd).display;\n",
       "        if (!display || display === 'none') {{\n",
       "            console.log([gd, 'removed!']);\n",
       "            Plotly.purge(gd);\n",
       "            observer.disconnect();\n",
       "        }}\n",
       "}});\n",
       "\n",
       "// Listen for the removal of the full notebook cells\n",
       "var notebookContainer = gd.closest('#notebook-container');\n",
       "if (notebookContainer) {{\n",
       "    x.observe(notebookContainer, {childList: true});\n",
       "}}\n",
       "\n",
       "// Listen for the clearing of the current output cell\n",
       "var outputEl = gd.closest('.output');\n",
       "if (outputEl) {{\n",
       "    x.observe(outputEl, {childList: true});\n",
       "}}\n",
       "\n",
       "                        })                };                });            </script>        </div>"
      ]
     },
     "metadata": {},
     "output_type": "display_data"
    }
   ],
   "source": [
    "fig = fig = make_subplots(specs=[[{\"secondary_y\": True}]])\n",
    "#fig.add_bar(x=unemployment['year/month'], y=unemployment['unemployment'],name='Unemployment')\n",
    "fig.add_trace(\n",
    "    go.Scatter(x=unemployment['year/month'], y=unemployment['unemployment'], name=\"Unemployment\"),\n",
    "    secondary_y=False,\n",
    ")\n",
    "\n",
    "fig.add_trace(\n",
    "    go.Scatter(x=unemployment['year/month'], y=unemployment['unemployment rate'], name=\"Unemployment Rate\"),\n",
    "    secondary_y=True,\n",
    ")\n",
    "fig.show()"
   ]
  },
  {
   "cell_type": "code",
   "execution_count": 46,
   "metadata": {},
   "outputs": [
    {
     "data": {
      "text/plain": [
       "Index(['Year', 'Period', 'labor force participation rate',\n",
       "       'employment-population ratio', 'labor force', 'employment',\n",
       "       'unemployment', 'unemployment rate', 'year/month'],\n",
       "      dtype='object')"
      ]
     },
     "execution_count": 46,
     "metadata": {},
     "output_type": "execute_result"
    }
   ],
   "source": [
    "unemployment.columns"
   ]
  },
  {
   "cell_type": "markdown",
   "metadata": {},
   "source": [
    "## Emprego Raw e Emprego Rate "
   ]
  },
  {
   "cell_type": "code",
   "execution_count": 47,
   "metadata": {},
   "outputs": [
    {
     "data": {
      "application/vnd.plotly.v1+json": {
       "config": {
        "plotlyServerURL": "https://plot.ly"
       },
       "data": [
        {
         "hovertemplate": "year/month=%{x}<br>employment-population ratio=%{y}<extra></extra>",
         "legendgroup": "",
         "line": {
          "color": "#636efa",
          "dash": "solid"
         },
         "marker": {
          "symbol": "circle"
         },
         "mode": "lines",
         "name": "",
         "orientation": "v",
         "showlegend": false,
         "type": "scatter",
         "x": [
          "2010-Jan",
          "2010-Feb",
          "2010-Mar",
          "2010-Apr",
          "2010-May",
          "2010-Jun",
          "2010-Jul",
          "2010-Aug",
          "2010-Sep",
          "2010-Oct",
          "2010-Nov",
          "2010-Dec",
          "2011-Jan",
          "2011-Feb",
          "2011-Mar",
          "2011-Apr",
          "2011-May",
          "2011-Jun",
          "2011-Jul",
          "2011-Aug",
          "2011-Sep",
          "2011-Oct",
          "2011-Nov",
          "2011-Dec",
          "2012-Jan",
          "2012-Feb",
          "2012-Mar",
          "2012-Apr",
          "2012-May",
          "2012-Jun",
          "2012-Jul",
          "2012-Aug",
          "2012-Sep",
          "2012-Oct",
          "2012-Nov",
          "2012-Dec",
          "2013-Jan",
          "2013-Feb",
          "2013-Mar",
          "2013-Apr",
          "2013-May",
          "2013-Jun",
          "2013-Jul",
          "2013-Aug",
          "2013-Sep",
          "2013-Oct",
          "2013-Nov",
          "2013-Dec",
          "2014-Jan",
          "2014-Feb",
          "2014-Mar",
          "2014-Apr",
          "2014-May",
          "2014-Jun",
          "2014-Jul",
          "2014-Aug",
          "2014-Sep",
          "2014-Oct",
          "2014-Nov",
          "2014-Dec",
          "2015-Jan",
          "2015-Feb",
          "2015-Mar",
          "2015-Apr",
          "2015-May",
          "2015-Jun",
          "2015-Jul",
          "2015-Aug",
          "2015-Sep",
          "2015-Oct",
          "2015-Nov",
          "2015-Dec",
          "2016-Jan",
          "2016-Feb",
          "2016-Mar",
          "2016-Apr",
          "2016-May",
          "2016-Jun",
          "2016-Jul",
          "2016-Aug",
          "2016-Sep",
          "2016-Oct",
          "2016-Nov",
          "2016-Dec",
          "2017-Jan",
          "2017-Feb",
          "2017-Mar",
          "2017-Apr",
          "2017-May",
          "2017-Jun",
          "2017-Jul",
          "2017-Aug",
          "2017-Sep",
          "2017-Oct",
          "2017-Nov",
          "2017-Dec",
          "2018-Jan",
          "2018-Feb",
          "2018-Mar",
          "2018-Apr",
          "2018-May",
          "2018-Jun",
          "2018-Jul",
          "2018-Aug",
          "2018-Sep",
          "2018-Oct",
          "2018-Nov",
          "2018-Dec",
          "2019-Jan",
          "2019-Feb",
          "2019-Mar",
          "2019-Apr",
          "2019-May",
          "2019-Jun",
          "2019-Jul",
          "2019-Aug",
          "2019-Sep",
          "2019-Oct",
          "2019-Nov",
          "2019-Dec",
          "2020-Jan",
          "2020-Feb",
          "2020-Mar",
          "2020-Apr",
          "2020-May",
          "2020-Jun",
          "2020-Jul",
          "2020-Aug",
          "2020-Sep",
          "2020-Oct",
          "2020-Nov",
          "2020-Dec",
          "2021-Jan",
          "2021-Feb",
          "2021-Mar",
          "2021-Apr",
          "2021-May",
          "2021-Jun",
          "2021-Jul",
          "2021-Aug",
          "2021-Sep",
          "2021-Oct",
          "2021-Nov",
          "2021-Dec",
          "2022-Jan"
         ],
         "xaxis": "x",
         "y": [
          60.8,
          60.9,
          61,
          60.5,
          60.6,
          60.6,
          60.6,
          60.6,
          60.5,
          60.5,
          60.5,
          60.5,
          60.5,
          60.5,
          60.5,
          60.5,
          60.5,
          60.5,
          60.5,
          60.6,
          60.7,
          60.8,
          60.9,
          60.9,
          61,
          61,
          61,
          61,
          61,
          61,
          61,
          61.1,
          61.1,
          61.1,
          61.1,
          61.1,
          61,
          61,
          61,
          61,
          61.1,
          61.1,
          61.1,
          61.1,
          61.1,
          61.1,
          61.1,
          61.2,
          61.2,
          61.3,
          61.4,
          61.4,
          61.4,
          61.4,
          61.4,
          61.5,
          61.5,
          61.5,
          61.4,
          61.4,
          61.3,
          61.2,
          61.1,
          61.1,
          61,
          61,
          60.9,
          60.8,
          60.8,
          60.8,
          60.8,
          60.9,
          61,
          61,
          61,
          61,
          60.9,
          60.9,
          60.9,
          60.9,
          60.8,
          60.8,
          60.8,
          60.8,
          60.7,
          60.8,
          60.9,
          60.9,
          61,
          61.1,
          61.1,
          61.1,
          61.1,
          61,
          61,
          61.1,
          61.1,
          61.2,
          61.3,
          61.4,
          61.5,
          61.5,
          61.4,
          61.4,
          61.3,
          61.2,
          61.2,
          61.2,
          61.3,
          61.3,
          61.4,
          61.4,
          61.5,
          61.5,
          61.5,
          61.5,
          61.5,
          61.5,
          61.6,
          61.5,
          61.4,
          61.2,
          59.6,
          52.2,
          55.1,
          56.1,
          56.9,
          57.6,
          58.2,
          58.5,
          58.7,
          58.8,
          58.9,
          59,
          59.2,
          59.4,
          59.6,
          59.8,
          59.9,
          60,
          60.1,
          60.2,
          60.1,
          60.1,
          60.2
         ],
         "yaxis": "y"
        },
        {
         "name": "Unemployment",
         "type": "bar",
         "x": [
          "2010-Jan",
          "2010-Feb",
          "2010-Mar",
          "2010-Apr",
          "2010-May",
          "2010-Jun",
          "2010-Jul",
          "2010-Aug",
          "2010-Sep",
          "2010-Oct",
          "2010-Nov",
          "2010-Dec",
          "2011-Jan",
          "2011-Feb",
          "2011-Mar",
          "2011-Apr",
          "2011-May",
          "2011-Jun",
          "2011-Jul",
          "2011-Aug",
          "2011-Sep",
          "2011-Oct",
          "2011-Nov",
          "2011-Dec",
          "2012-Jan",
          "2012-Feb",
          "2012-Mar",
          "2012-Apr",
          "2012-May",
          "2012-Jun",
          "2012-Jul",
          "2012-Aug",
          "2012-Sep",
          "2012-Oct",
          "2012-Nov",
          "2012-Dec",
          "2013-Jan",
          "2013-Feb",
          "2013-Mar",
          "2013-Apr",
          "2013-May",
          "2013-Jun",
          "2013-Jul",
          "2013-Aug",
          "2013-Sep",
          "2013-Oct",
          "2013-Nov",
          "2013-Dec",
          "2014-Jan",
          "2014-Feb",
          "2014-Mar",
          "2014-Apr",
          "2014-May",
          "2014-Jun",
          "2014-Jul",
          "2014-Aug",
          "2014-Sep",
          "2014-Oct",
          "2014-Nov",
          "2014-Dec",
          "2015-Jan",
          "2015-Feb",
          "2015-Mar",
          "2015-Apr",
          "2015-May",
          "2015-Jun",
          "2015-Jul",
          "2015-Aug",
          "2015-Sep",
          "2015-Oct",
          "2015-Nov",
          "2015-Dec",
          "2016-Jan",
          "2016-Feb",
          "2016-Mar",
          "2016-Apr",
          "2016-May",
          "2016-Jun",
          "2016-Jul",
          "2016-Aug",
          "2016-Sep",
          "2016-Oct",
          "2016-Nov",
          "2016-Dec",
          "2017-Jan",
          "2017-Feb",
          "2017-Mar",
          "2017-Apr",
          "2017-May",
          "2017-Jun",
          "2017-Jul",
          "2017-Aug",
          "2017-Sep",
          "2017-Oct",
          "2017-Nov",
          "2017-Dec",
          "2018-Jan",
          "2018-Feb",
          "2018-Mar",
          "2018-Apr",
          "2018-May",
          "2018-Jun",
          "2018-Jul",
          "2018-Aug",
          "2018-Sep",
          "2018-Oct",
          "2018-Nov",
          "2018-Dec",
          "2019-Jan",
          "2019-Feb",
          "2019-Mar",
          "2019-Apr",
          "2019-May",
          "2019-Jun",
          "2019-Jul",
          "2019-Aug",
          "2019-Sep",
          "2019-Oct",
          "2019-Nov",
          "2019-Dec",
          "2020-Jan",
          "2020-Feb",
          "2020-Mar",
          "2020-Apr",
          "2020-May",
          "2020-Jun",
          "2020-Jul",
          "2020-Aug",
          "2020-Sep",
          "2020-Oct",
          "2020-Nov",
          "2020-Dec",
          "2021-Jan",
          "2021-Feb",
          "2021-Mar",
          "2021-Apr",
          "2021-May",
          "2021-Jun",
          "2021-Jul",
          "2021-Aug",
          "2021-Sep",
          "2021-Oct",
          "2021-Nov",
          "2021-Dec",
          "2022-Jan"
         ],
         "y": [
          11106882,
          11146453,
          11184615,
          11218075,
          11246029,
          11267141,
          11282344,
          11294712,
          11306167,
          11320132,
          11337423,
          11356570,
          11377422,
          11398153,
          11416366,
          11431447,
          11445785,
          11463413,
          11487969,
          11519770,
          11556548,
          11594803,
          11630243,
          11659891,
          11683759,
          11704383,
          11722322,
          11737849,
          11754758,
          11776105,
          11802014,
          11830108,
          11857386,
          11879763,
          11895325,
          11905455,
          11912520,
          11921233,
          11936855,
          11962083,
          11991479,
          12018765,
          12041788,
          12061310,
          12079341,
          12099121,
          12124031,
          12154284,
          12188294,
          12223189,
          12254958,
          12280595,
          12302615,
          12325395,
          12348864,
          12373428,
          12398563,
          12420918,
          12436708,
          12446054,
          12451402,
          12455072,
          12461125,
          12471167,
          12483045,
          12493882,
          12503348,
          12512227,
          12523886,
          12543363,
          12571333,
          12603859,
          12635778,
          12662766,
          12683175,
          12698126,
          12710616,
          12722956,
          12736496,
          12750754,
          12763563,
          12774408,
          12787312,
          12805992,
          12743129,
          12773175,
          12805899,
          12838380,
          12868903,
          12894947,
          12915730,
          12931972,
          12945812,
          12959897,
          12974970,
          12994087,
          13019810,
          13053266,
          13091083,
          13125424,
          13150005,
          13164873,
          13172521,
          13177515,
          13183494,
          13193517,
          13208364,
          13227231,
          13248657,
          13272184,
          13297251,
          13324780,
          13353151,
          13379740,
          13402466,
          13421600,
          13442538,
          13465764,
          13488900,
          13501568,
          13494841,
          13466024,
          13135701,
          11522574,
          12172243,
          12393208,
          12601111,
          12769701,
          12909243,
          13001357,
          13060347,
          13099439,
          13135663,
          13178764,
          13233703,
          13294137,
          13353800,
          13405578,
          13455074,
          13500355,
          13544229,
          13581395,
          13593060,
          13595276,
          13645425
         ]
        }
       ],
       "layout": {
        "legend": {
         "tracegroupgap": 0
        },
        "margin": {
         "t": 60
        },
        "template": {
         "data": {
          "bar": [
           {
            "error_x": {
             "color": "#2a3f5f"
            },
            "error_y": {
             "color": "#2a3f5f"
            },
            "marker": {
             "line": {
              "color": "#E5ECF6",
              "width": 0.5
             },
             "pattern": {
              "fillmode": "overlay",
              "size": 10,
              "solidity": 0.2
             }
            },
            "type": "bar"
           }
          ],
          "barpolar": [
           {
            "marker": {
             "line": {
              "color": "#E5ECF6",
              "width": 0.5
             },
             "pattern": {
              "fillmode": "overlay",
              "size": 10,
              "solidity": 0.2
             }
            },
            "type": "barpolar"
           }
          ],
          "carpet": [
           {
            "aaxis": {
             "endlinecolor": "#2a3f5f",
             "gridcolor": "white",
             "linecolor": "white",
             "minorgridcolor": "white",
             "startlinecolor": "#2a3f5f"
            },
            "baxis": {
             "endlinecolor": "#2a3f5f",
             "gridcolor": "white",
             "linecolor": "white",
             "minorgridcolor": "white",
             "startlinecolor": "#2a3f5f"
            },
            "type": "carpet"
           }
          ],
          "choropleth": [
           {
            "colorbar": {
             "outlinewidth": 0,
             "ticks": ""
            },
            "type": "choropleth"
           }
          ],
          "contour": [
           {
            "colorbar": {
             "outlinewidth": 0,
             "ticks": ""
            },
            "colorscale": [
             [
              0,
              "#0d0887"
             ],
             [
              0.1111111111111111,
              "#46039f"
             ],
             [
              0.2222222222222222,
              "#7201a8"
             ],
             [
              0.3333333333333333,
              "#9c179e"
             ],
             [
              0.4444444444444444,
              "#bd3786"
             ],
             [
              0.5555555555555556,
              "#d8576b"
             ],
             [
              0.6666666666666666,
              "#ed7953"
             ],
             [
              0.7777777777777778,
              "#fb9f3a"
             ],
             [
              0.8888888888888888,
              "#fdca26"
             ],
             [
              1,
              "#f0f921"
             ]
            ],
            "type": "contour"
           }
          ],
          "contourcarpet": [
           {
            "colorbar": {
             "outlinewidth": 0,
             "ticks": ""
            },
            "type": "contourcarpet"
           }
          ],
          "heatmap": [
           {
            "colorbar": {
             "outlinewidth": 0,
             "ticks": ""
            },
            "colorscale": [
             [
              0,
              "#0d0887"
             ],
             [
              0.1111111111111111,
              "#46039f"
             ],
             [
              0.2222222222222222,
              "#7201a8"
             ],
             [
              0.3333333333333333,
              "#9c179e"
             ],
             [
              0.4444444444444444,
              "#bd3786"
             ],
             [
              0.5555555555555556,
              "#d8576b"
             ],
             [
              0.6666666666666666,
              "#ed7953"
             ],
             [
              0.7777777777777778,
              "#fb9f3a"
             ],
             [
              0.8888888888888888,
              "#fdca26"
             ],
             [
              1,
              "#f0f921"
             ]
            ],
            "type": "heatmap"
           }
          ],
          "heatmapgl": [
           {
            "colorbar": {
             "outlinewidth": 0,
             "ticks": ""
            },
            "colorscale": [
             [
              0,
              "#0d0887"
             ],
             [
              0.1111111111111111,
              "#46039f"
             ],
             [
              0.2222222222222222,
              "#7201a8"
             ],
             [
              0.3333333333333333,
              "#9c179e"
             ],
             [
              0.4444444444444444,
              "#bd3786"
             ],
             [
              0.5555555555555556,
              "#d8576b"
             ],
             [
              0.6666666666666666,
              "#ed7953"
             ],
             [
              0.7777777777777778,
              "#fb9f3a"
             ],
             [
              0.8888888888888888,
              "#fdca26"
             ],
             [
              1,
              "#f0f921"
             ]
            ],
            "type": "heatmapgl"
           }
          ],
          "histogram": [
           {
            "marker": {
             "pattern": {
              "fillmode": "overlay",
              "size": 10,
              "solidity": 0.2
             }
            },
            "type": "histogram"
           }
          ],
          "histogram2d": [
           {
            "colorbar": {
             "outlinewidth": 0,
             "ticks": ""
            },
            "colorscale": [
             [
              0,
              "#0d0887"
             ],
             [
              0.1111111111111111,
              "#46039f"
             ],
             [
              0.2222222222222222,
              "#7201a8"
             ],
             [
              0.3333333333333333,
              "#9c179e"
             ],
             [
              0.4444444444444444,
              "#bd3786"
             ],
             [
              0.5555555555555556,
              "#d8576b"
             ],
             [
              0.6666666666666666,
              "#ed7953"
             ],
             [
              0.7777777777777778,
              "#fb9f3a"
             ],
             [
              0.8888888888888888,
              "#fdca26"
             ],
             [
              1,
              "#f0f921"
             ]
            ],
            "type": "histogram2d"
           }
          ],
          "histogram2dcontour": [
           {
            "colorbar": {
             "outlinewidth": 0,
             "ticks": ""
            },
            "colorscale": [
             [
              0,
              "#0d0887"
             ],
             [
              0.1111111111111111,
              "#46039f"
             ],
             [
              0.2222222222222222,
              "#7201a8"
             ],
             [
              0.3333333333333333,
              "#9c179e"
             ],
             [
              0.4444444444444444,
              "#bd3786"
             ],
             [
              0.5555555555555556,
              "#d8576b"
             ],
             [
              0.6666666666666666,
              "#ed7953"
             ],
             [
              0.7777777777777778,
              "#fb9f3a"
             ],
             [
              0.8888888888888888,
              "#fdca26"
             ],
             [
              1,
              "#f0f921"
             ]
            ],
            "type": "histogram2dcontour"
           }
          ],
          "mesh3d": [
           {
            "colorbar": {
             "outlinewidth": 0,
             "ticks": ""
            },
            "type": "mesh3d"
           }
          ],
          "parcoords": [
           {
            "line": {
             "colorbar": {
              "outlinewidth": 0,
              "ticks": ""
             }
            },
            "type": "parcoords"
           }
          ],
          "pie": [
           {
            "automargin": true,
            "type": "pie"
           }
          ],
          "scatter": [
           {
            "marker": {
             "colorbar": {
              "outlinewidth": 0,
              "ticks": ""
             }
            },
            "type": "scatter"
           }
          ],
          "scatter3d": [
           {
            "line": {
             "colorbar": {
              "outlinewidth": 0,
              "ticks": ""
             }
            },
            "marker": {
             "colorbar": {
              "outlinewidth": 0,
              "ticks": ""
             }
            },
            "type": "scatter3d"
           }
          ],
          "scattercarpet": [
           {
            "marker": {
             "colorbar": {
              "outlinewidth": 0,
              "ticks": ""
             }
            },
            "type": "scattercarpet"
           }
          ],
          "scattergeo": [
           {
            "marker": {
             "colorbar": {
              "outlinewidth": 0,
              "ticks": ""
             }
            },
            "type": "scattergeo"
           }
          ],
          "scattergl": [
           {
            "marker": {
             "colorbar": {
              "outlinewidth": 0,
              "ticks": ""
             }
            },
            "type": "scattergl"
           }
          ],
          "scattermapbox": [
           {
            "marker": {
             "colorbar": {
              "outlinewidth": 0,
              "ticks": ""
             }
            },
            "type": "scattermapbox"
           }
          ],
          "scatterpolar": [
           {
            "marker": {
             "colorbar": {
              "outlinewidth": 0,
              "ticks": ""
             }
            },
            "type": "scatterpolar"
           }
          ],
          "scatterpolargl": [
           {
            "marker": {
             "colorbar": {
              "outlinewidth": 0,
              "ticks": ""
             }
            },
            "type": "scatterpolargl"
           }
          ],
          "scatterternary": [
           {
            "marker": {
             "colorbar": {
              "outlinewidth": 0,
              "ticks": ""
             }
            },
            "type": "scatterternary"
           }
          ],
          "surface": [
           {
            "colorbar": {
             "outlinewidth": 0,
             "ticks": ""
            },
            "colorscale": [
             [
              0,
              "#0d0887"
             ],
             [
              0.1111111111111111,
              "#46039f"
             ],
             [
              0.2222222222222222,
              "#7201a8"
             ],
             [
              0.3333333333333333,
              "#9c179e"
             ],
             [
              0.4444444444444444,
              "#bd3786"
             ],
             [
              0.5555555555555556,
              "#d8576b"
             ],
             [
              0.6666666666666666,
              "#ed7953"
             ],
             [
              0.7777777777777778,
              "#fb9f3a"
             ],
             [
              0.8888888888888888,
              "#fdca26"
             ],
             [
              1,
              "#f0f921"
             ]
            ],
            "type": "surface"
           }
          ],
          "table": [
           {
            "cells": {
             "fill": {
              "color": "#EBF0F8"
             },
             "line": {
              "color": "white"
             }
            },
            "header": {
             "fill": {
              "color": "#C8D4E3"
             },
             "line": {
              "color": "white"
             }
            },
            "type": "table"
           }
          ]
         },
         "layout": {
          "annotationdefaults": {
           "arrowcolor": "#2a3f5f",
           "arrowhead": 0,
           "arrowwidth": 1
          },
          "autotypenumbers": "strict",
          "coloraxis": {
           "colorbar": {
            "outlinewidth": 0,
            "ticks": ""
           }
          },
          "colorscale": {
           "diverging": [
            [
             0,
             "#8e0152"
            ],
            [
             0.1,
             "#c51b7d"
            ],
            [
             0.2,
             "#de77ae"
            ],
            [
             0.3,
             "#f1b6da"
            ],
            [
             0.4,
             "#fde0ef"
            ],
            [
             0.5,
             "#f7f7f7"
            ],
            [
             0.6,
             "#e6f5d0"
            ],
            [
             0.7,
             "#b8e186"
            ],
            [
             0.8,
             "#7fbc41"
            ],
            [
             0.9,
             "#4d9221"
            ],
            [
             1,
             "#276419"
            ]
           ],
           "sequential": [
            [
             0,
             "#0d0887"
            ],
            [
             0.1111111111111111,
             "#46039f"
            ],
            [
             0.2222222222222222,
             "#7201a8"
            ],
            [
             0.3333333333333333,
             "#9c179e"
            ],
            [
             0.4444444444444444,
             "#bd3786"
            ],
            [
             0.5555555555555556,
             "#d8576b"
            ],
            [
             0.6666666666666666,
             "#ed7953"
            ],
            [
             0.7777777777777778,
             "#fb9f3a"
            ],
            [
             0.8888888888888888,
             "#fdca26"
            ],
            [
             1,
             "#f0f921"
            ]
           ],
           "sequentialminus": [
            [
             0,
             "#0d0887"
            ],
            [
             0.1111111111111111,
             "#46039f"
            ],
            [
             0.2222222222222222,
             "#7201a8"
            ],
            [
             0.3333333333333333,
             "#9c179e"
            ],
            [
             0.4444444444444444,
             "#bd3786"
            ],
            [
             0.5555555555555556,
             "#d8576b"
            ],
            [
             0.6666666666666666,
             "#ed7953"
            ],
            [
             0.7777777777777778,
             "#fb9f3a"
            ],
            [
             0.8888888888888888,
             "#fdca26"
            ],
            [
             1,
             "#f0f921"
            ]
           ]
          },
          "colorway": [
           "#636efa",
           "#EF553B",
           "#00cc96",
           "#ab63fa",
           "#FFA15A",
           "#19d3f3",
           "#FF6692",
           "#B6E880",
           "#FF97FF",
           "#FECB52"
          ],
          "font": {
           "color": "#2a3f5f"
          },
          "geo": {
           "bgcolor": "white",
           "lakecolor": "white",
           "landcolor": "#E5ECF6",
           "showlakes": true,
           "showland": true,
           "subunitcolor": "white"
          },
          "hoverlabel": {
           "align": "left"
          },
          "hovermode": "closest",
          "mapbox": {
           "style": "light"
          },
          "paper_bgcolor": "white",
          "plot_bgcolor": "#E5ECF6",
          "polar": {
           "angularaxis": {
            "gridcolor": "white",
            "linecolor": "white",
            "ticks": ""
           },
           "bgcolor": "#E5ECF6",
           "radialaxis": {
            "gridcolor": "white",
            "linecolor": "white",
            "ticks": ""
           }
          },
          "scene": {
           "xaxis": {
            "backgroundcolor": "#E5ECF6",
            "gridcolor": "white",
            "gridwidth": 2,
            "linecolor": "white",
            "showbackground": true,
            "ticks": "",
            "zerolinecolor": "white"
           },
           "yaxis": {
            "backgroundcolor": "#E5ECF6",
            "gridcolor": "white",
            "gridwidth": 2,
            "linecolor": "white",
            "showbackground": true,
            "ticks": "",
            "zerolinecolor": "white"
           },
           "zaxis": {
            "backgroundcolor": "#E5ECF6",
            "gridcolor": "white",
            "gridwidth": 2,
            "linecolor": "white",
            "showbackground": true,
            "ticks": "",
            "zerolinecolor": "white"
           }
          },
          "shapedefaults": {
           "line": {
            "color": "#2a3f5f"
           }
          },
          "ternary": {
           "aaxis": {
            "gridcolor": "white",
            "linecolor": "white",
            "ticks": ""
           },
           "baxis": {
            "gridcolor": "white",
            "linecolor": "white",
            "ticks": ""
           },
           "bgcolor": "#E5ECF6",
           "caxis": {
            "gridcolor": "white",
            "linecolor": "white",
            "ticks": ""
           }
          },
          "title": {
           "x": 0.05
          },
          "xaxis": {
           "automargin": true,
           "gridcolor": "white",
           "linecolor": "white",
           "ticks": "",
           "title": {
            "standoff": 15
           },
           "zerolinecolor": "white",
           "zerolinewidth": 2
          },
          "yaxis": {
           "automargin": true,
           "gridcolor": "white",
           "linecolor": "white",
           "ticks": "",
           "title": {
            "standoff": 15
           },
           "zerolinecolor": "white",
           "zerolinewidth": 2
          }
         }
        },
        "xaxis": {
         "anchor": "y",
         "domain": [
          0,
          1
         ],
         "title": {
          "text": "year/month"
         }
        },
        "yaxis": {
         "anchor": "x",
         "domain": [
          0,
          1
         ],
         "title": {
          "text": "employment-population ratio"
         }
        }
       }
      },
      "text/html": [
       "<div>                            <div id=\"849bc3d6-cb78-4441-bb59-d59bb2027552\" class=\"plotly-graph-div\" style=\"height:525px; width:100%;\"></div>            <script type=\"text/javascript\">                require([\"plotly\"], function(Plotly) {                    window.PLOTLYENV=window.PLOTLYENV || {};                                    if (document.getElementById(\"849bc3d6-cb78-4441-bb59-d59bb2027552\")) {                    Plotly.newPlot(                        \"849bc3d6-cb78-4441-bb59-d59bb2027552\",                        [{\"hovertemplate\":\"year/month=%{x}<br>employment-population ratio=%{y}<extra></extra>\",\"legendgroup\":\"\",\"line\":{\"color\":\"#636efa\",\"dash\":\"solid\"},\"marker\":{\"symbol\":\"circle\"},\"mode\":\"lines\",\"name\":\"\",\"orientation\":\"v\",\"showlegend\":false,\"x\":[\"2010-Jan\",\"2010-Feb\",\"2010-Mar\",\"2010-Apr\",\"2010-May\",\"2010-Jun\",\"2010-Jul\",\"2010-Aug\",\"2010-Sep\",\"2010-Oct\",\"2010-Nov\",\"2010-Dec\",\"2011-Jan\",\"2011-Feb\",\"2011-Mar\",\"2011-Apr\",\"2011-May\",\"2011-Jun\",\"2011-Jul\",\"2011-Aug\",\"2011-Sep\",\"2011-Oct\",\"2011-Nov\",\"2011-Dec\",\"2012-Jan\",\"2012-Feb\",\"2012-Mar\",\"2012-Apr\",\"2012-May\",\"2012-Jun\",\"2012-Jul\",\"2012-Aug\",\"2012-Sep\",\"2012-Oct\",\"2012-Nov\",\"2012-Dec\",\"2013-Jan\",\"2013-Feb\",\"2013-Mar\",\"2013-Apr\",\"2013-May\",\"2013-Jun\",\"2013-Jul\",\"2013-Aug\",\"2013-Sep\",\"2013-Oct\",\"2013-Nov\",\"2013-Dec\",\"2014-Jan\",\"2014-Feb\",\"2014-Mar\",\"2014-Apr\",\"2014-May\",\"2014-Jun\",\"2014-Jul\",\"2014-Aug\",\"2014-Sep\",\"2014-Oct\",\"2014-Nov\",\"2014-Dec\",\"2015-Jan\",\"2015-Feb\",\"2015-Mar\",\"2015-Apr\",\"2015-May\",\"2015-Jun\",\"2015-Jul\",\"2015-Aug\",\"2015-Sep\",\"2015-Oct\",\"2015-Nov\",\"2015-Dec\",\"2016-Jan\",\"2016-Feb\",\"2016-Mar\",\"2016-Apr\",\"2016-May\",\"2016-Jun\",\"2016-Jul\",\"2016-Aug\",\"2016-Sep\",\"2016-Oct\",\"2016-Nov\",\"2016-Dec\",\"2017-Jan\",\"2017-Feb\",\"2017-Mar\",\"2017-Apr\",\"2017-May\",\"2017-Jun\",\"2017-Jul\",\"2017-Aug\",\"2017-Sep\",\"2017-Oct\",\"2017-Nov\",\"2017-Dec\",\"2018-Jan\",\"2018-Feb\",\"2018-Mar\",\"2018-Apr\",\"2018-May\",\"2018-Jun\",\"2018-Jul\",\"2018-Aug\",\"2018-Sep\",\"2018-Oct\",\"2018-Nov\",\"2018-Dec\",\"2019-Jan\",\"2019-Feb\",\"2019-Mar\",\"2019-Apr\",\"2019-May\",\"2019-Jun\",\"2019-Jul\",\"2019-Aug\",\"2019-Sep\",\"2019-Oct\",\"2019-Nov\",\"2019-Dec\",\"2020-Jan\",\"2020-Feb\",\"2020-Mar\",\"2020-Apr\",\"2020-May\",\"2020-Jun\",\"2020-Jul\",\"2020-Aug\",\"2020-Sep\",\"2020-Oct\",\"2020-Nov\",\"2020-Dec\",\"2021-Jan\",\"2021-Feb\",\"2021-Mar\",\"2021-Apr\",\"2021-May\",\"2021-Jun\",\"2021-Jul\",\"2021-Aug\",\"2021-Sep\",\"2021-Oct\",\"2021-Nov\",\"2021-Dec\",\"2022-Jan\"],\"xaxis\":\"x\",\"y\":[60.8,60.9,61.0,60.5,60.6,60.6,60.6,60.6,60.5,60.5,60.5,60.5,60.5,60.5,60.5,60.5,60.5,60.5,60.5,60.6,60.7,60.8,60.9,60.9,61.0,61.0,61.0,61.0,61.0,61.0,61.0,61.1,61.1,61.1,61.1,61.1,61.0,61.0,61.0,61.0,61.1,61.1,61.1,61.1,61.1,61.1,61.1,61.2,61.2,61.3,61.4,61.4,61.4,61.4,61.4,61.5,61.5,61.5,61.4,61.4,61.3,61.2,61.1,61.1,61.0,61.0,60.9,60.8,60.8,60.8,60.8,60.9,61.0,61.0,61.0,61.0,60.9,60.9,60.9,60.9,60.8,60.8,60.8,60.8,60.7,60.8,60.9,60.9,61.0,61.1,61.1,61.1,61.1,61.0,61.0,61.1,61.1,61.2,61.3,61.4,61.5,61.5,61.4,61.4,61.3,61.2,61.2,61.2,61.3,61.3,61.4,61.4,61.5,61.5,61.5,61.5,61.5,61.5,61.6,61.5,61.4,61.2,59.6,52.2,55.1,56.1,56.9,57.6,58.2,58.5,58.7,58.8,58.9,59.0,59.2,59.4,59.6,59.8,59.9,60.0,60.1,60.2,60.1,60.1,60.2],\"yaxis\":\"y\",\"type\":\"scatter\"},{\"name\":\"Unemployment\",\"x\":[\"2010-Jan\",\"2010-Feb\",\"2010-Mar\",\"2010-Apr\",\"2010-May\",\"2010-Jun\",\"2010-Jul\",\"2010-Aug\",\"2010-Sep\",\"2010-Oct\",\"2010-Nov\",\"2010-Dec\",\"2011-Jan\",\"2011-Feb\",\"2011-Mar\",\"2011-Apr\",\"2011-May\",\"2011-Jun\",\"2011-Jul\",\"2011-Aug\",\"2011-Sep\",\"2011-Oct\",\"2011-Nov\",\"2011-Dec\",\"2012-Jan\",\"2012-Feb\",\"2012-Mar\",\"2012-Apr\",\"2012-May\",\"2012-Jun\",\"2012-Jul\",\"2012-Aug\",\"2012-Sep\",\"2012-Oct\",\"2012-Nov\",\"2012-Dec\",\"2013-Jan\",\"2013-Feb\",\"2013-Mar\",\"2013-Apr\",\"2013-May\",\"2013-Jun\",\"2013-Jul\",\"2013-Aug\",\"2013-Sep\",\"2013-Oct\",\"2013-Nov\",\"2013-Dec\",\"2014-Jan\",\"2014-Feb\",\"2014-Mar\",\"2014-Apr\",\"2014-May\",\"2014-Jun\",\"2014-Jul\",\"2014-Aug\",\"2014-Sep\",\"2014-Oct\",\"2014-Nov\",\"2014-Dec\",\"2015-Jan\",\"2015-Feb\",\"2015-Mar\",\"2015-Apr\",\"2015-May\",\"2015-Jun\",\"2015-Jul\",\"2015-Aug\",\"2015-Sep\",\"2015-Oct\",\"2015-Nov\",\"2015-Dec\",\"2016-Jan\",\"2016-Feb\",\"2016-Mar\",\"2016-Apr\",\"2016-May\",\"2016-Jun\",\"2016-Jul\",\"2016-Aug\",\"2016-Sep\",\"2016-Oct\",\"2016-Nov\",\"2016-Dec\",\"2017-Jan\",\"2017-Feb\",\"2017-Mar\",\"2017-Apr\",\"2017-May\",\"2017-Jun\",\"2017-Jul\",\"2017-Aug\",\"2017-Sep\",\"2017-Oct\",\"2017-Nov\",\"2017-Dec\",\"2018-Jan\",\"2018-Feb\",\"2018-Mar\",\"2018-Apr\",\"2018-May\",\"2018-Jun\",\"2018-Jul\",\"2018-Aug\",\"2018-Sep\",\"2018-Oct\",\"2018-Nov\",\"2018-Dec\",\"2019-Jan\",\"2019-Feb\",\"2019-Mar\",\"2019-Apr\",\"2019-May\",\"2019-Jun\",\"2019-Jul\",\"2019-Aug\",\"2019-Sep\",\"2019-Oct\",\"2019-Nov\",\"2019-Dec\",\"2020-Jan\",\"2020-Feb\",\"2020-Mar\",\"2020-Apr\",\"2020-May\",\"2020-Jun\",\"2020-Jul\",\"2020-Aug\",\"2020-Sep\",\"2020-Oct\",\"2020-Nov\",\"2020-Dec\",\"2021-Jan\",\"2021-Feb\",\"2021-Mar\",\"2021-Apr\",\"2021-May\",\"2021-Jun\",\"2021-Jul\",\"2021-Aug\",\"2021-Sep\",\"2021-Oct\",\"2021-Nov\",\"2021-Dec\",\"2022-Jan\"],\"y\":[11106882,11146453,11184615,11218075,11246029,11267141,11282344,11294712,11306167,11320132,11337423,11356570,11377422,11398153,11416366,11431447,11445785,11463413,11487969,11519770,11556548,11594803,11630243,11659891,11683759,11704383,11722322,11737849,11754758,11776105,11802014,11830108,11857386,11879763,11895325,11905455,11912520,11921233,11936855,11962083,11991479,12018765,12041788,12061310,12079341,12099121,12124031,12154284,12188294,12223189,12254958,12280595,12302615,12325395,12348864,12373428,12398563,12420918,12436708,12446054,12451402,12455072,12461125,12471167,12483045,12493882,12503348,12512227,12523886,12543363,12571333,12603859,12635778,12662766,12683175,12698126,12710616,12722956,12736496,12750754,12763563,12774408,12787312,12805992,12743129,12773175,12805899,12838380,12868903,12894947,12915730,12931972,12945812,12959897,12974970,12994087,13019810,13053266,13091083,13125424,13150005,13164873,13172521,13177515,13183494,13193517,13208364,13227231,13248657,13272184,13297251,13324780,13353151,13379740,13402466,13421600,13442538,13465764,13488900,13501568,13494841,13466024,13135701,11522574,12172243,12393208,12601111,12769701,12909243,13001357,13060347,13099439,13135663,13178764,13233703,13294137,13353800,13405578,13455074,13500355,13544229,13581395,13593060,13595276,13645425],\"type\":\"bar\"}],                        {\"template\":{\"data\":{\"bar\":[{\"error_x\":{\"color\":\"#2a3f5f\"},\"error_y\":{\"color\":\"#2a3f5f\"},\"marker\":{\"line\":{\"color\":\"#E5ECF6\",\"width\":0.5},\"pattern\":{\"fillmode\":\"overlay\",\"size\":10,\"solidity\":0.2}},\"type\":\"bar\"}],\"barpolar\":[{\"marker\":{\"line\":{\"color\":\"#E5ECF6\",\"width\":0.5},\"pattern\":{\"fillmode\":\"overlay\",\"size\":10,\"solidity\":0.2}},\"type\":\"barpolar\"}],\"carpet\":[{\"aaxis\":{\"endlinecolor\":\"#2a3f5f\",\"gridcolor\":\"white\",\"linecolor\":\"white\",\"minorgridcolor\":\"white\",\"startlinecolor\":\"#2a3f5f\"},\"baxis\":{\"endlinecolor\":\"#2a3f5f\",\"gridcolor\":\"white\",\"linecolor\":\"white\",\"minorgridcolor\":\"white\",\"startlinecolor\":\"#2a3f5f\"},\"type\":\"carpet\"}],\"choropleth\":[{\"colorbar\":{\"outlinewidth\":0,\"ticks\":\"\"},\"type\":\"choropleth\"}],\"contour\":[{\"colorbar\":{\"outlinewidth\":0,\"ticks\":\"\"},\"colorscale\":[[0.0,\"#0d0887\"],[0.1111111111111111,\"#46039f\"],[0.2222222222222222,\"#7201a8\"],[0.3333333333333333,\"#9c179e\"],[0.4444444444444444,\"#bd3786\"],[0.5555555555555556,\"#d8576b\"],[0.6666666666666666,\"#ed7953\"],[0.7777777777777778,\"#fb9f3a\"],[0.8888888888888888,\"#fdca26\"],[1.0,\"#f0f921\"]],\"type\":\"contour\"}],\"contourcarpet\":[{\"colorbar\":{\"outlinewidth\":0,\"ticks\":\"\"},\"type\":\"contourcarpet\"}],\"heatmap\":[{\"colorbar\":{\"outlinewidth\":0,\"ticks\":\"\"},\"colorscale\":[[0.0,\"#0d0887\"],[0.1111111111111111,\"#46039f\"],[0.2222222222222222,\"#7201a8\"],[0.3333333333333333,\"#9c179e\"],[0.4444444444444444,\"#bd3786\"],[0.5555555555555556,\"#d8576b\"],[0.6666666666666666,\"#ed7953\"],[0.7777777777777778,\"#fb9f3a\"],[0.8888888888888888,\"#fdca26\"],[1.0,\"#f0f921\"]],\"type\":\"heatmap\"}],\"heatmapgl\":[{\"colorbar\":{\"outlinewidth\":0,\"ticks\":\"\"},\"colorscale\":[[0.0,\"#0d0887\"],[0.1111111111111111,\"#46039f\"],[0.2222222222222222,\"#7201a8\"],[0.3333333333333333,\"#9c179e\"],[0.4444444444444444,\"#bd3786\"],[0.5555555555555556,\"#d8576b\"],[0.6666666666666666,\"#ed7953\"],[0.7777777777777778,\"#fb9f3a\"],[0.8888888888888888,\"#fdca26\"],[1.0,\"#f0f921\"]],\"type\":\"heatmapgl\"}],\"histogram\":[{\"marker\":{\"pattern\":{\"fillmode\":\"overlay\",\"size\":10,\"solidity\":0.2}},\"type\":\"histogram\"}],\"histogram2d\":[{\"colorbar\":{\"outlinewidth\":0,\"ticks\":\"\"},\"colorscale\":[[0.0,\"#0d0887\"],[0.1111111111111111,\"#46039f\"],[0.2222222222222222,\"#7201a8\"],[0.3333333333333333,\"#9c179e\"],[0.4444444444444444,\"#bd3786\"],[0.5555555555555556,\"#d8576b\"],[0.6666666666666666,\"#ed7953\"],[0.7777777777777778,\"#fb9f3a\"],[0.8888888888888888,\"#fdca26\"],[1.0,\"#f0f921\"]],\"type\":\"histogram2d\"}],\"histogram2dcontour\":[{\"colorbar\":{\"outlinewidth\":0,\"ticks\":\"\"},\"colorscale\":[[0.0,\"#0d0887\"],[0.1111111111111111,\"#46039f\"],[0.2222222222222222,\"#7201a8\"],[0.3333333333333333,\"#9c179e\"],[0.4444444444444444,\"#bd3786\"],[0.5555555555555556,\"#d8576b\"],[0.6666666666666666,\"#ed7953\"],[0.7777777777777778,\"#fb9f3a\"],[0.8888888888888888,\"#fdca26\"],[1.0,\"#f0f921\"]],\"type\":\"histogram2dcontour\"}],\"mesh3d\":[{\"colorbar\":{\"outlinewidth\":0,\"ticks\":\"\"},\"type\":\"mesh3d\"}],\"parcoords\":[{\"line\":{\"colorbar\":{\"outlinewidth\":0,\"ticks\":\"\"}},\"type\":\"parcoords\"}],\"pie\":[{\"automargin\":true,\"type\":\"pie\"}],\"scatter\":[{\"marker\":{\"colorbar\":{\"outlinewidth\":0,\"ticks\":\"\"}},\"type\":\"scatter\"}],\"scatter3d\":[{\"line\":{\"colorbar\":{\"outlinewidth\":0,\"ticks\":\"\"}},\"marker\":{\"colorbar\":{\"outlinewidth\":0,\"ticks\":\"\"}},\"type\":\"scatter3d\"}],\"scattercarpet\":[{\"marker\":{\"colorbar\":{\"outlinewidth\":0,\"ticks\":\"\"}},\"type\":\"scattercarpet\"}],\"scattergeo\":[{\"marker\":{\"colorbar\":{\"outlinewidth\":0,\"ticks\":\"\"}},\"type\":\"scattergeo\"}],\"scattergl\":[{\"marker\":{\"colorbar\":{\"outlinewidth\":0,\"ticks\":\"\"}},\"type\":\"scattergl\"}],\"scattermapbox\":[{\"marker\":{\"colorbar\":{\"outlinewidth\":0,\"ticks\":\"\"}},\"type\":\"scattermapbox\"}],\"scatterpolar\":[{\"marker\":{\"colorbar\":{\"outlinewidth\":0,\"ticks\":\"\"}},\"type\":\"scatterpolar\"}],\"scatterpolargl\":[{\"marker\":{\"colorbar\":{\"outlinewidth\":0,\"ticks\":\"\"}},\"type\":\"scatterpolargl\"}],\"scatterternary\":[{\"marker\":{\"colorbar\":{\"outlinewidth\":0,\"ticks\":\"\"}},\"type\":\"scatterternary\"}],\"surface\":[{\"colorbar\":{\"outlinewidth\":0,\"ticks\":\"\"},\"colorscale\":[[0.0,\"#0d0887\"],[0.1111111111111111,\"#46039f\"],[0.2222222222222222,\"#7201a8\"],[0.3333333333333333,\"#9c179e\"],[0.4444444444444444,\"#bd3786\"],[0.5555555555555556,\"#d8576b\"],[0.6666666666666666,\"#ed7953\"],[0.7777777777777778,\"#fb9f3a\"],[0.8888888888888888,\"#fdca26\"],[1.0,\"#f0f921\"]],\"type\":\"surface\"}],\"table\":[{\"cells\":{\"fill\":{\"color\":\"#EBF0F8\"},\"line\":{\"color\":\"white\"}},\"header\":{\"fill\":{\"color\":\"#C8D4E3\"},\"line\":{\"color\":\"white\"}},\"type\":\"table\"}]},\"layout\":{\"annotationdefaults\":{\"arrowcolor\":\"#2a3f5f\",\"arrowhead\":0,\"arrowwidth\":1},\"autotypenumbers\":\"strict\",\"coloraxis\":{\"colorbar\":{\"outlinewidth\":0,\"ticks\":\"\"}},\"colorscale\":{\"diverging\":[[0,\"#8e0152\"],[0.1,\"#c51b7d\"],[0.2,\"#de77ae\"],[0.3,\"#f1b6da\"],[0.4,\"#fde0ef\"],[0.5,\"#f7f7f7\"],[0.6,\"#e6f5d0\"],[0.7,\"#b8e186\"],[0.8,\"#7fbc41\"],[0.9,\"#4d9221\"],[1,\"#276419\"]],\"sequential\":[[0.0,\"#0d0887\"],[0.1111111111111111,\"#46039f\"],[0.2222222222222222,\"#7201a8\"],[0.3333333333333333,\"#9c179e\"],[0.4444444444444444,\"#bd3786\"],[0.5555555555555556,\"#d8576b\"],[0.6666666666666666,\"#ed7953\"],[0.7777777777777778,\"#fb9f3a\"],[0.8888888888888888,\"#fdca26\"],[1.0,\"#f0f921\"]],\"sequentialminus\":[[0.0,\"#0d0887\"],[0.1111111111111111,\"#46039f\"],[0.2222222222222222,\"#7201a8\"],[0.3333333333333333,\"#9c179e\"],[0.4444444444444444,\"#bd3786\"],[0.5555555555555556,\"#d8576b\"],[0.6666666666666666,\"#ed7953\"],[0.7777777777777778,\"#fb9f3a\"],[0.8888888888888888,\"#fdca26\"],[1.0,\"#f0f921\"]]},\"colorway\":[\"#636efa\",\"#EF553B\",\"#00cc96\",\"#ab63fa\",\"#FFA15A\",\"#19d3f3\",\"#FF6692\",\"#B6E880\",\"#FF97FF\",\"#FECB52\"],\"font\":{\"color\":\"#2a3f5f\"},\"geo\":{\"bgcolor\":\"white\",\"lakecolor\":\"white\",\"landcolor\":\"#E5ECF6\",\"showlakes\":true,\"showland\":true,\"subunitcolor\":\"white\"},\"hoverlabel\":{\"align\":\"left\"},\"hovermode\":\"closest\",\"mapbox\":{\"style\":\"light\"},\"paper_bgcolor\":\"white\",\"plot_bgcolor\":\"#E5ECF6\",\"polar\":{\"angularaxis\":{\"gridcolor\":\"white\",\"linecolor\":\"white\",\"ticks\":\"\"},\"bgcolor\":\"#E5ECF6\",\"radialaxis\":{\"gridcolor\":\"white\",\"linecolor\":\"white\",\"ticks\":\"\"}},\"scene\":{\"xaxis\":{\"backgroundcolor\":\"#E5ECF6\",\"gridcolor\":\"white\",\"gridwidth\":2,\"linecolor\":\"white\",\"showbackground\":true,\"ticks\":\"\",\"zerolinecolor\":\"white\"},\"yaxis\":{\"backgroundcolor\":\"#E5ECF6\",\"gridcolor\":\"white\",\"gridwidth\":2,\"linecolor\":\"white\",\"showbackground\":true,\"ticks\":\"\",\"zerolinecolor\":\"white\"},\"zaxis\":{\"backgroundcolor\":\"#E5ECF6\",\"gridcolor\":\"white\",\"gridwidth\":2,\"linecolor\":\"white\",\"showbackground\":true,\"ticks\":\"\",\"zerolinecolor\":\"white\"}},\"shapedefaults\":{\"line\":{\"color\":\"#2a3f5f\"}},\"ternary\":{\"aaxis\":{\"gridcolor\":\"white\",\"linecolor\":\"white\",\"ticks\":\"\"},\"baxis\":{\"gridcolor\":\"white\",\"linecolor\":\"white\",\"ticks\":\"\"},\"bgcolor\":\"#E5ECF6\",\"caxis\":{\"gridcolor\":\"white\",\"linecolor\":\"white\",\"ticks\":\"\"}},\"title\":{\"x\":0.05},\"xaxis\":{\"automargin\":true,\"gridcolor\":\"white\",\"linecolor\":\"white\",\"ticks\":\"\",\"title\":{\"standoff\":15},\"zerolinecolor\":\"white\",\"zerolinewidth\":2},\"yaxis\":{\"automargin\":true,\"gridcolor\":\"white\",\"linecolor\":\"white\",\"ticks\":\"\",\"title\":{\"standoff\":15},\"zerolinecolor\":\"white\",\"zerolinewidth\":2}}},\"xaxis\":{\"anchor\":\"y\",\"domain\":[0.0,1.0],\"title\":{\"text\":\"year/month\"}},\"yaxis\":{\"anchor\":\"x\",\"domain\":[0.0,1.0],\"title\":{\"text\":\"employment-population ratio\"}},\"legend\":{\"tracegroupgap\":0},\"margin\":{\"t\":60}},                        {\"responsive\": true}                    ).then(function(){\n",
       "                            \n",
       "var gd = document.getElementById('849bc3d6-cb78-4441-bb59-d59bb2027552');\n",
       "var x = new MutationObserver(function (mutations, observer) {{\n",
       "        var display = window.getComputedStyle(gd).display;\n",
       "        if (!display || display === 'none') {{\n",
       "            console.log([gd, 'removed!']);\n",
       "            Plotly.purge(gd);\n",
       "            observer.disconnect();\n",
       "        }}\n",
       "}});\n",
       "\n",
       "// Listen for the removal of the full notebook cells\n",
       "var notebookContainer = gd.closest('#notebook-container');\n",
       "if (notebookContainer) {{\n",
       "    x.observe(notebookContainer, {childList: true});\n",
       "}}\n",
       "\n",
       "// Listen for the clearing of the current output cell\n",
       "var outputEl = gd.closest('.output');\n",
       "if (outputEl) {{\n",
       "    x.observe(outputEl, {childList: true});\n",
       "}}\n",
       "\n",
       "                        })                };                });            </script>        </div>"
      ]
     },
     "metadata": {},
     "output_type": "display_data"
    }
   ],
   "source": [
    "fig = px.line(unemployment, x=\"year/month\", y=\"employment-population ratio\")\n",
    "fig.add_bar(x=unemployment['year/month'], y=unemployment['employment'],name='Unemployment')\n",
    "fig.show()"
   ]
  },
  {
   "cell_type": "code",
   "execution_count": null,
   "metadata": {},
   "outputs": [],
   "source": []
  },
  {
   "cell_type": "code",
   "execution_count": null,
   "metadata": {},
   "outputs": [],
   "source": []
  },
  {
   "cell_type": "code",
   "execution_count": null,
   "metadata": {},
   "outputs": [],
   "source": []
  }
 ],
 "metadata": {
  "kernelspec": {
   "display_name": "Python 3 (ipykernel)",
   "language": "python",
   "name": "python3"
  },
  "language_info": {
   "codemirror_mode": {
    "name": "ipython",
    "version": 3
   },
   "file_extension": ".py",
   "mimetype": "text/x-python",
   "name": "python",
   "nbconvert_exporter": "python",
   "pygments_lexer": "ipython3",
   "version": "3.8.12"
  }
 },
 "nbformat": 4,
 "nbformat_minor": 4
}

{
 "cells": [
  {
   "cell_type": "code",
   "execution_count": 8,
   "id": "245cb76f",
   "metadata": {},
   "outputs": [
    {
     "data": {
      "text/plain": [
       "'\\n!pip install pandas\\n!pip install matplotlib\\n'"
      ]
     },
     "execution_count": 8,
     "metadata": {},
     "output_type": "execute_result"
    }
   ],
   "source": [
    "# Install Libraries\n",
    "\"\"\"\n",
    "!pip install pandas\n",
    "!pip install matplotlib\n",
    "\"\"\""
   ]
  },
  {
   "cell_type": "code",
   "execution_count": 9,
   "id": "e63e8b81",
   "metadata": {},
   "outputs": [],
   "source": [
    "import pandas as pd\n",
    "import matplotlib.pyplot as plt"
   ]
  },
  {
   "cell_type": "code",
   "execution_count": 13,
   "id": "25544a97",
   "metadata": {},
   "outputs": [],
   "source": [
    "#waste_aust = pd.read_csv(r'C:\\Users\\fredericorodrigues\\Downloads\\waste_collection.csv')  \n",
    "waste_aust = pd.read_csv(r\"C:\\Users\\migue\\Downloads\\Waste_Collection___Diversion_Report__daily_.csv\")"
   ]
  },
  {
   "cell_type": "code",
   "execution_count": 14,
   "id": "38f6f020",
   "metadata": {},
   "outputs": [
    {
     "data": {
      "text/plain": [
       "Report Date     object\n",
       "Load Type       object\n",
       "Load Time       object\n",
       "Load Weight     object\n",
       "Dropoff Site    object\n",
       "Route Type      object\n",
       "Route Number    object\n",
       "Load ID          int64\n",
       "dtype: object"
      ]
     },
     "execution_count": 14,
     "metadata": {},
     "output_type": "execute_result"
    }
   ],
   "source": [
    "waste_aust.dtypes"
   ]
  },
  {
   "cell_type": "code",
   "execution_count": 21,
   "id": "66f2fe2c",
   "metadata": {
    "scrolled": true
   },
   "outputs": [
    {
     "data": {
      "text/html": [
       "<div>\n",
       "<style scoped>\n",
       "    .dataframe tbody tr th:only-of-type {\n",
       "        vertical-align: middle;\n",
       "    }\n",
       "\n",
       "    .dataframe tbody tr th {\n",
       "        vertical-align: top;\n",
       "    }\n",
       "\n",
       "    .dataframe thead th {\n",
       "        text-align: right;\n",
       "    }\n",
       "</style>\n",
       "<table border=\"1\" class=\"dataframe\">\n",
       "  <thead>\n",
       "    <tr style=\"text-align: right;\">\n",
       "      <th></th>\n",
       "      <th>Report Date</th>\n",
       "      <th>Load Type</th>\n",
       "      <th>Load Time</th>\n",
       "      <th>Load Weight</th>\n",
       "      <th>Dropoff Site</th>\n",
       "      <th>Route Type</th>\n",
       "      <th>Route Number</th>\n",
       "      <th>Load ID</th>\n",
       "    </tr>\n",
       "  </thead>\n",
       "  <tbody>\n",
       "    <tr>\n",
       "      <th>0</th>\n",
       "      <td>12/08/2020</td>\n",
       "      <td>BULK</td>\n",
       "      <td>2020-12-08 15:02:00</td>\n",
       "      <td>5,220</td>\n",
       "      <td>TDS LANDFILL</td>\n",
       "      <td>BULK</td>\n",
       "      <td>BU13</td>\n",
       "      <td>899097</td>\n",
       "    </tr>\n",
       "    <tr>\n",
       "      <th>1</th>\n",
       "      <td>12/08/2020</td>\n",
       "      <td>RECYCLING - SINGLE STREAM</td>\n",
       "      <td>2020-12-08 10:00:00</td>\n",
       "      <td>11,140</td>\n",
       "      <td>TDS - MRF</td>\n",
       "      <td>RECYCLING - SINGLE STREAM</td>\n",
       "      <td>RTAU53</td>\n",
       "      <td>899078</td>\n",
       "    </tr>\n",
       "    <tr>\n",
       "      <th>2</th>\n",
       "      <td>12/03/2020</td>\n",
       "      <td>RECYCLING - SINGLE STREAM</td>\n",
       "      <td>2020-12-03 10:34:00</td>\n",
       "      <td>10,060</td>\n",
       "      <td>BALCONES RECYCLING</td>\n",
       "      <td>RECYCLING - SINGLE STREAM</td>\n",
       "      <td>RHBU10</td>\n",
       "      <td>899082</td>\n",
       "    </tr>\n",
       "    <tr>\n",
       "      <th>3</th>\n",
       "      <td>12/07/2020</td>\n",
       "      <td>SWEEPING</td>\n",
       "      <td>2020-12-07 10:15:00</td>\n",
       "      <td>7,100</td>\n",
       "      <td>TDS LANDFILL</td>\n",
       "      <td>SWEEPER DUMPSITES</td>\n",
       "      <td>DSS04</td>\n",
       "      <td>899030</td>\n",
       "    </tr>\n",
       "    <tr>\n",
       "      <th>4</th>\n",
       "      <td>12/07/2020</td>\n",
       "      <td>RECYCLING - SINGLE STREAM</td>\n",
       "      <td>2020-12-07 16:00:00</td>\n",
       "      <td>12,000</td>\n",
       "      <td>TDS - MRF</td>\n",
       "      <td>RECYCLING - SINGLE STREAM</td>\n",
       "      <td>RMAU53</td>\n",
       "      <td>899048</td>\n",
       "    </tr>\n",
       "  </tbody>\n",
       "</table>\n",
       "</div>"
      ],
      "text/plain": [
       "  Report Date                  Load Type           Load Time Load Weight  \\\n",
       "0  12/08/2020                       BULK 2020-12-08 15:02:00       5,220   \n",
       "1  12/08/2020  RECYCLING - SINGLE STREAM 2020-12-08 10:00:00      11,140   \n",
       "2  12/03/2020  RECYCLING - SINGLE STREAM 2020-12-03 10:34:00      10,060   \n",
       "3  12/07/2020                   SWEEPING 2020-12-07 10:15:00       7,100   \n",
       "4  12/07/2020  RECYCLING - SINGLE STREAM 2020-12-07 16:00:00      12,000   \n",
       "\n",
       "         Dropoff Site                 Route Type Route Number  Load ID  \n",
       "0        TDS LANDFILL                       BULK         BU13   899097  \n",
       "1           TDS - MRF  RECYCLING - SINGLE STREAM       RTAU53   899078  \n",
       "2  BALCONES RECYCLING  RECYCLING - SINGLE STREAM       RHBU10   899082  \n",
       "3        TDS LANDFILL          SWEEPER DUMPSITES        DSS04   899030  \n",
       "4           TDS - MRF  RECYCLING - SINGLE STREAM       RMAU53   899048  "
      ]
     },
     "execution_count": 21,
     "metadata": {},
     "output_type": "execute_result"
    }
   ],
   "source": [
    "waste_aust['Load Time'] = pd.to_datetime(waste_aust['Load Time'])\n",
    "\n",
    "waste_aust.head()"
   ]
  },
  {
   "cell_type": "code",
   "execution_count": 29,
   "id": "a0b62ba0",
   "metadata": {},
   "outputs": [
    {
     "data": {
      "text/plain": [
       "Timestamp('2030-11-24 13:49:00')"
      ]
     },
     "execution_count": 29,
     "metadata": {},
     "output_type": "execute_result"
    }
   ],
   "source": [
    "[waste_aust['Load Time'].max()]"
   ]
  },
  {
   "cell_type": "code",
   "execution_count": 5,
   "id": "a4aa75ab",
   "metadata": {},
   "outputs": [],
   "source": [
    "waste_aust_2019 = waste_aust.loc[(waste_aust['Load Time'] >= '2019-01-01')\n",
    "                     & (waste_aust['Load Time'] < '2020-01-01')]\n",
    "waste_aust_2019 = waste_aust_2019.set_index(['Load Time'])\n",
    "waste_aust_2019 = waste_aust_2019.sort_index()"
   ]
  },
  {
   "cell_type": "code",
   "execution_count": 6,
   "id": "3e1e84d4",
   "metadata": {},
   "outputs": [
    {
     "data": {
      "image/png": "[encoded data removed]",
      "text/plain": [
       "<Figure size 432x288 with 1 Axes>"
      ]
     },
     "metadata": {
      "needs_background": "light"
     },
     "output_type": "display_data"
    }
   ],
   "source": [
    "# Weight histogram\n",
    "plt.hist(waste_aust_2019['Load Weight'], bins = 20)\n",
    "plt.show() "
   ]
  },
  {
   "cell_type": "code",
   "execution_count": 7,
   "id": "abe49bad",
   "metadata": {},
   "outputs": [
    {
     "data": {
      "text/plain": [
       "<AxesSubplot:>"
      ]
     },
     "execution_count": 7,
     "metadata": {},
     "output_type": "execute_result"
    },
    {
     "data": {
      "image/png": "[encoded data removed]",
      "text/plain": [
       "<Figure size 432x288 with 1 Axes>"
      ]
     },
     "metadata": {
      "needs_background": "light"
     },
     "output_type": "display_data"
    }
   ],
   "source": [
    "# Load Type countplot\n",
    "waste_aust_2019['Load Type'].value_counts().plot(kind='barh')"
   ]
  },
  {
   "cell_type": "code",
   "execution_count": null,
   "id": "e112ed03",
   "metadata": {},
   "outputs": [],
   "source": []
  }
 ],
 "metadata": {
  "kernelspec": {
   "display_name": "Python 3 (ipykernel)",
   "language": "python",
   "name": "python3"
  },
  "language_info": {
   "codemirror_mode": {
    "name": "ipython",
    "version": 3
   },
   "file_extension": ".py",
   "mimetype": "text/x-python",
   "name": "python",
   "nbconvert_exporter": "python",
   "pygments_lexer": "ipython3",
   "version": "3.8.12"
  }
 },
 "nbformat": 4,
 "nbformat_minor": 5
}
